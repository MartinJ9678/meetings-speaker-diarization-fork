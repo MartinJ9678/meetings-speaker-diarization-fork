{
 "cells": [
  {
   "cell_type": "code",
   "execution_count": 92,
   "id": "c858a4f9",
   "metadata": {
    "ExecuteTime": {
     "end_time": "2021-05-31T09:06:12.978611Z",
     "start_time": "2021-05-31T09:06:12.901232Z"
    }
   },
   "outputs": [
    {
     "name": "stdout",
     "output_type": "stream",
     "text": [
      "The autoreload extension is already loaded. To reload it, use:\n",
      "  %reload_ext autoreload\n"
     ]
    }
   ],
   "source": [
    "%load_ext autoreload\n",
    "%autoreload 2"
   ]
  },
  {
   "cell_type": "code",
   "execution_count": 23,
   "id": "d48450f9",
   "metadata": {
    "ExecuteTime": {
     "end_time": "2021-05-31T07:48:42.906273Z",
     "start_time": "2021-05-31T07:48:42.844539Z"
    }
   },
   "outputs": [],
   "source": [
    "from dotenv import load_dotenv"
   ]
  },
  {
   "cell_type": "code",
   "execution_count": 24,
   "id": "0d606c0b",
   "metadata": {
    "ExecuteTime": {
     "end_time": "2021-05-31T07:48:44.017414Z",
     "start_time": "2021-05-31T07:48:43.953311Z"
    }
   },
   "outputs": [
    {
     "data": {
      "text/plain": [
       "True"
      ]
     },
     "execution_count": 24,
     "metadata": {},
     "output_type": "execute_result"
    }
   ],
   "source": [
    "load_dotenv()"
   ]
  },
  {
   "cell_type": "code",
   "execution_count": 25,
   "id": "b1238e67",
   "metadata": {
    "ExecuteTime": {
     "end_time": "2021-05-31T07:48:45.563663Z",
     "start_time": "2021-05-31T07:48:45.500333Z"
    }
   },
   "outputs": [],
   "source": [
    "from msd.SpeakerDiarizer import SpeakerDiarizer"
   ]
  },
  {
   "cell_type": "code",
   "execution_count": 26,
   "id": "d620ce2c",
   "metadata": {
    "ExecuteTime": {
     "end_time": "2021-05-31T07:48:46.460207Z",
     "start_time": "2021-05-31T07:48:46.396156Z"
    }
   },
   "outputs": [],
   "source": [
    "from msd.SpeakerAward import SpeakerAward"
   ]
  },
  {
   "cell_type": "code",
   "execution_count": 102,
   "id": "57bf6a2a",
   "metadata": {
    "ExecuteTime": {
     "end_time": "2021-05-31T09:26:15.473586Z",
     "start_time": "2021-05-31T09:26:13.323708Z"
    }
   },
   "outputs": [
    {
     "name": "stderr",
     "output_type": "stream",
     "text": [
      "Using cache found in /Users/jauffret/.cache/torch/hub/pyannote_pyannote-audio_master\n",
      "Using cache found in /Users/jauffret/.cache/torch/hub/pyannote_pyannote-audio_master\n",
      "Using cache found in /Users/jauffret/.cache/torch/hub/pyannote_pyannote-audio_master\n",
      "Using cache found in /Users/jauffret/.cache/torch/hub/pyannote_pyannote-audio_master\n",
      "/Users/jauffret/.pyenv/versions/3.8.6/envs/lewagon/lib/python3.8/site-packages/pyannote/audio/embedding/approaches/arcface_loss.py:170: FutureWarning: The 's' parameter is deprecated in favor of 'scale', and will be removed in a future release\n",
      "  warnings.warn(msg, FutureWarning)\n",
      "/Users/jauffret/.pyenv/versions/3.8.6/envs/lewagon/lib/python3.8/site-packages/pyannote/audio/features/pretrained.py:156: UserWarning: Model was trained with 4s chunks and is applied on 2s chunks. This might lead to sub-optimal results.\n",
      "  warnings.warn(msg)\n",
      "Using cache found in /Users/jauffret/.cache/torch/hub/pyannote_pyannote-audio_master\n"
     ]
    }
   ],
   "source": [
    "diarizer = SpeakerDiarizer('dia_dihard')"
   ]
  },
  {
   "cell_type": "code",
   "execution_count": 111,
   "id": "779aae5b",
   "metadata": {
    "ExecuteTime": {
     "end_time": "2021-05-31T09:33:21.053865Z",
     "start_time": "2021-05-31T09:33:20.989116Z"
    }
   },
   "outputs": [],
   "source": [
    "file_name = 'data/testduplique.wav'"
   ]
  },
  {
   "cell_type": "code",
   "execution_count": 112,
   "id": "aae180ef",
   "metadata": {
    "ExecuteTime": {
     "end_time": "2021-05-31T09:33:21.389024Z",
     "start_time": "2021-05-31T09:33:21.322178Z"
    }
   },
   "outputs": [],
   "source": [
    "profil_paths = ['data/Martin.wav','data/Loïc.wav','data/Yoann.wav']"
   ]
  },
  {
   "cell_type": "code",
   "execution_count": 113,
   "id": "2b42d69d",
   "metadata": {
    "ExecuteTime": {
     "end_time": "2021-05-31T09:39:44.274552Z",
     "start_time": "2021-05-31T09:33:23.655214Z"
    }
   },
   "outputs": [
    {
     "name": "stderr",
     "output_type": "stream",
     "text": [
      "/Users/jauffret/.pyenv/versions/3.8.6/envs/lewagon/lib/python3.8/site-packages/sklearn/cluster/_affinity_propagation.py:148: FutureWarning: 'random_state' has been introduced in 0.23. It will be set to None starting from 1.0 (renaming of 0.25) which means that results will differ at every function call. Set 'random_state' to None to silence this warning, or to 0 to keep the behavior of versions <0.23.\n",
      "  warnings.warn(\n"
     ]
    }
   ],
   "source": [
    "diarizer.apply_diarizer(file_name,profil_paths)"
   ]
  },
  {
   "cell_type": "code",
   "execution_count": 114,
   "id": "b4f71121",
   "metadata": {
    "ExecuteTime": {
     "end_time": "2021-05-31T09:40:44.180822Z",
     "start_time": "2021-05-31T09:40:43.669610Z"
    }
   },
   "outputs": [
    {
     "data": {
      "image/png": "[encoded data removed]",
      "text/plain": [
       "<pyannote.core.annotation.Annotation at 0x143ab3d00>"
      ]
     },
     "execution_count": 114,
     "metadata": {},
     "output_type": "execute_result"
    }
   ],
   "source": [
    "diarizer.diarization"
   ]
  },
  {
   "cell_type": "code",
   "execution_count": 121,
   "id": "78e3b22c",
   "metadata": {
    "ExecuteTime": {
     "end_time": "2021-05-31T09:48:25.841799Z",
     "start_time": "2021-05-31T09:48:25.658677Z"
    }
   },
   "outputs": [],
   "source": [
    "Awarder = SpeakerAward(diarizer)"
   ]
  },
  {
   "cell_type": "code",
   "execution_count": 122,
   "id": "4d27f40f",
   "metadata": {
    "ExecuteTime": {
     "end_time": "2021-05-31T09:49:41.734347Z",
     "start_time": "2021-05-31T09:48:26.057222Z"
    }
   },
   "outputs": [],
   "source": [
    "outputs = Awarder.get_json()"
   ]
  },
  {
   "cell_type": "code",
   "execution_count": 123,
   "id": "f9e45ead",
   "metadata": {
    "ExecuteTime": {
     "end_time": "2021-05-31T09:49:44.421833Z",
     "start_time": "2021-05-31T09:49:44.344646Z"
    }
   },
   "outputs": [
    {
     "data": {
      "text/plain": [
       "[{'speaker': 'Yoann',\n",
       "  'start': '00:00:00',\n",
       "  'end': '00:00:07',\n",
       "  'text': \"Bonjour, je m'appelle Yohann. Bonjour, je m'appelle Yohann. Bonjour, je m'appelle Yohann, Bonjour, je m'appelle Yohann, Bonjour, je m'appelle Yohann.\"},\n",
       " {'speaker': 'Loïc',\n",
       "  'start': '00:00:07',\n",
       "  'end': '00:00:13',\n",
       "  'text': \"Bonjour, je m'appelle Loïc. Bonjour, je m'appelle Loïc. Bonjour je m'appelle Bonjour je m'appelle Loïc, Bonjour, je m'appelle Loïc.\"},\n",
       " {'speaker': 'Martin',\n",
       "  'start': '00:00:13',\n",
       "  'end': '00:00:20',\n",
       "  'text': \"Bonjour, je m'appelle Martin Geoffrey, Bonjour, je m'appelle Martin Geoffrey Bonjour, je m'appelle Martin Geoffrey Bonjour, je m'appelle Martin Geoffrey.\"},\n",
       " {'speaker': 'Loïc',\n",
       "  'start': '00:00:21',\n",
       "  'end': '00:00:27',\n",
       "  'text': 'Une pensée émue à tous les youtubeur qui sortent aussi leur vidéo les dimanches matins mais qui ne feront pas de vues avant ce soir.'},\n",
       " {'speaker': 'Martin',\n",
       "  'start': '00:00:28',\n",
       "  'end': '00:00:30',\n",
       "  'text': 'Objectif 0 abonné en avant réussi.'},\n",
       " {'speaker': 'Martin',\n",
       "  'start': '00:00:30',\n",
       "  'end': '00:00:31',\n",
       "  'text': 'Gégé à moi même.'},\n",
       " {'speaker': 'Martin',\n",
       "  'start': '00:00:32',\n",
       "  'end': '00:00:33',\n",
       "  'text': \"Imaginez s'ils avaient.\"},\n",
       " {'speaker': 'Martin',\n",
       "  'start': '00:00:33',\n",
       "  'end': '00:00:36',\n",
       "  'text': \"S'ils avaient fait, on appelle des gens au hasard au téléphone.\"},\n",
       " {'speaker': 'Martin',\n",
       "  'start': '00:00:36',\n",
       "  'end': '00:00:37',\n",
       "  'text': 'Avec lui ?'},\n",
       " {'speaker': 'Yoann',\n",
       "  'start': '00:00:39',\n",
       "  'end': '00:00:42',\n",
       "  'text': 'Carlito, vous êtes sanguins ? Non ? Emmanuel Macron, non.'},\n",
       " {'speaker': 'Yoann',\n",
       "  'start': '00:00:43',\n",
       "  'end': '00:00:44',\n",
       "  'text': 'Carlito, je suis mort.'},\n",
       " {'speaker': 'Loïc',\n",
       "  'start': '00:00:46',\n",
       "  'end': '00:00:49',\n",
       "  'text': \"La seule vidéo Youtube au monde qui sera dans les livres d'histoire de France, c'est ouf.\"},\n",
       " {'speaker': 'Martin',\n",
       "  'start': '00:00:50',\n",
       "  'end': '00:00:54',\n",
       "  'text': \"Ça m'étonnerait même pas si la prochaine vidéo et concours d'anecdotes avec Kim Jong-un.\"},\n",
       " {'speaker': 'Loïc',\n",
       "  'start': '00:00:54',\n",
       "  'end': '00:00:57',\n",
       "  'text': \"Ce genre de titre qu'on ne verra presque jamais dans l'histoire de YouTube.\"},\n",
       " {'speaker': 'Yoann',\n",
       "  'start': '00:00:58',\n",
       "  'end': '00:01:03',\n",
       "  'text': '2025E mongols au goulag avec Vladimir Poutine qui fait un backflip.'},\n",
       " {'speaker': 'Yoann', 'start': '00:01:03', 'end': '00:01:04', 'text': '2050.'},\n",
       " {'speaker': 'Yoann',\n",
       "  'start': '00:01:04',\n",
       "  'end': '00:01:07',\n",
       "  'text': 'Cache-cache dans la Fondation SCP avec les reptiliens ?'},\n",
       " {'speaker': 'Loïc',\n",
       "  'start': '00:01:08',\n",
       "  'end': '00:01:09',\n",
       "  'text': 'Bientôt sur votre t-shirt ?'},\n",
       " {'speaker': 'Martin',\n",
       "  'start': '00:01:11',\n",
       "  'end': '00:01:14',\n",
       "  'text': \"N'en faites pas trop quand même. Kylian signé le président.\"},\n",
       " {'speaker': 'Loïc',\n",
       "  'start': '00:01:19',\n",
       "  'end': '00:01:24',\n",
       "  'text': 'Une pensée émue à tous les youtubeur qui sortent aussi leur vidéo les dimanches matins mais qui ne feront pas de vues avant ce soir.'},\n",
       " {'speaker': 'Martin',\n",
       "  'start': '00:01:25',\n",
       "  'end': '00:01:28',\n",
       "  'text': 'Objectif 0 abonné en avant réussi.'},\n",
       " {'speaker': 'Martin',\n",
       "  'start': '00:01:28',\n",
       "  'end': '00:01:29',\n",
       "  'text': 'Gégé à moi même.'},\n",
       " {'speaker': 'Martin',\n",
       "  'start': '00:01:30',\n",
       "  'end': '00:01:31',\n",
       "  'text': \"Imaginez s'ils avaient.\"},\n",
       " {'speaker': 'Martin',\n",
       "  'start': '00:01:31',\n",
       "  'end': '00:01:34',\n",
       "  'text': \"S'il avait fait, on appelle des gens au hasard au téléphone.\"},\n",
       " {'speaker': 'Martin',\n",
       "  'start': '00:01:34',\n",
       "  'end': '00:01:35',\n",
       "  'text': 'Avec lui ?'},\n",
       " {'speaker': 'Martin', 'start': '00:01:36', 'end': '00:01:36', 'text': ''},\n",
       " {'speaker': 'Yoann',\n",
       "  'start': '00:01:37',\n",
       "  'end': '00:01:40',\n",
       "  'text': 'Carlito, vous êtes sanguins ? Non ? Emmanuel Macron, non.'},\n",
       " {'speaker': 'Yoann',\n",
       "  'start': '00:01:40',\n",
       "  'end': '00:01:42',\n",
       "  'text': 'Carlito, je suis mort.'},\n",
       " {'speaker': 'Loïc',\n",
       "  'start': '00:01:43',\n",
       "  'end': '00:01:47',\n",
       "  'text': \"La seule vidéo Youtube au monde qui sera dans les livres d'histoire de France, c'est ouf.\"},\n",
       " {'speaker': 'Martin',\n",
       "  'start': '00:01:48',\n",
       "  'end': '00:01:51',\n",
       "  'text': \"Ça m'étonnerait même pas si la prochaine vidéo et concours d'anecdotes avec Kim Jong-un.\"},\n",
       " {'speaker': 'Loïc',\n",
       "  'start': '00:01:52',\n",
       "  'end': '00:01:55',\n",
       "  'text': \"Ce genre de titre qu'on ne verra presque jamais dans l'histoire de YouTube.\"},\n",
       " {'speaker': 'Yoann',\n",
       "  'start': '00:01:56',\n",
       "  'end': '00:02:01',\n",
       "  'text': '2025E mongols au goulag avec Vladimir Poutine qui fait un backflip.'},\n",
       " {'speaker': 'Yoann', 'start': '00:02:01', 'end': '00:02:02', 'text': '2050.'},\n",
       " {'speaker': 'Yoann',\n",
       "  'start': '00:02:02',\n",
       "  'end': '00:02:05',\n",
       "  'text': 'Cache-cache dans la Fondation SCP avec les reptiliens ?'},\n",
       " {'speaker': 'Loïc',\n",
       "  'start': '00:02:06',\n",
       "  'end': '00:02:07',\n",
       "  'text': 'Bientôt sur votre t-shirt ?'},\n",
       " {'speaker': 'Martin',\n",
       "  'start': '00:02:09',\n",
       "  'end': '00:02:12',\n",
       "  'text': \"N'en faites pas trop quand même. Kylian signé le président.\"},\n",
       " {'speaker': 'Loïc', 'start': '00:02:13', 'end': '00:02:13', 'text': ''},\n",
       " {'speaker': 'Martin', 'start': '00:02:15', 'end': '00:02:15', 'text': ''},\n",
       " {'speaker': 'Loïc',\n",
       "  'start': '00:02:16',\n",
       "  'end': '00:02:22',\n",
       "  'text': 'Une pensée émue à tous les youtubeur qui sortent aussi leur vidéo les dimanches matins mais qui ne feront pas de vues avant ce soir.'},\n",
       " {'speaker': 'Martin',\n",
       "  'start': '00:02:23',\n",
       "  'end': '00:02:25',\n",
       "  'text': 'Objectif 0 abonné en avant réussi.'},\n",
       " {'speaker': 'Martin',\n",
       "  'start': '00:02:26',\n",
       "  'end': '00:02:27',\n",
       "  'text': 'Gégé à moi même.'},\n",
       " {'speaker': 'Martin',\n",
       "  'start': '00:02:27',\n",
       "  'end': '00:02:29',\n",
       "  'text': \"Imaginez s'ils avaient.\"},\n",
       " {'speaker': 'Martin',\n",
       "  'start': '00:02:29',\n",
       "  'end': '00:02:32',\n",
       "  'text': \"S'il avait fait, on appelle des gens au hasard au téléphone.\"},\n",
       " {'speaker': 'Martin',\n",
       "  'start': '00:02:32',\n",
       "  'end': '00:02:32',\n",
       "  'text': 'Avec lui ?'},\n",
       " {'speaker': 'Yoann',\n",
       "  'start': '00:02:34',\n",
       "  'end': '00:02:38',\n",
       "  'text': 'Carlito, vous êtes sanguins ? Non ? Emmanuel Macron, non.'},\n",
       " {'speaker': 'Yoann',\n",
       "  'start': '00:02:38',\n",
       "  'end': '00:02:40',\n",
       "  'text': 'Carlito, je suis mort.'},\n",
       " {'speaker': 'Loïc',\n",
       "  'start': '00:02:41',\n",
       "  'end': '00:02:44',\n",
       "  'text': \"La seule vidéo Youtube au monde qui sera dans les livres d'histoire de France, c'est ouf.\"},\n",
       " {'speaker': 'Martin',\n",
       "  'start': '00:02:45',\n",
       "  'end': '00:02:49',\n",
       "  'text': \"Ça m'étonnerait même pas si la prochaine vidéo et concours d'anecdotes avec Kim Jong-un.\"},\n",
       " {'speaker': 'Loïc',\n",
       "  'start': '00:02:50',\n",
       "  'end': '00:02:53',\n",
       "  'text': \"Ce genre de titre qu'on ne verra presque jamais dans l'histoire de YouTube.\"},\n",
       " {'speaker': 'Yoann',\n",
       "  'start': '00:02:54',\n",
       "  'end': '00:02:58',\n",
       "  'text': '2025E mongols au goulag avec Vladimir Poutine qui fait un backflip.'},\n",
       " {'speaker': 'Yoann', 'start': '00:02:59', 'end': '00:02:59', 'text': '2050.'},\n",
       " {'speaker': 'Yoann',\n",
       "  'start': '00:03:00',\n",
       "  'end': '00:03:03',\n",
       "  'text': 'Cache-cache dans la Fondation SCP avec les reptiliens ?'},\n",
       " {'speaker': 'Loïc',\n",
       "  'start': '00:03:03',\n",
       "  'end': '00:03:05',\n",
       "  'text': 'Bientôt sur votre t-shirt ?'},\n",
       " {'speaker': 'Martin',\n",
       "  'start': '00:03:07',\n",
       "  'end': '00:03:10',\n",
       "  'text': \"N'en faites pas trop quand même. Kylian signé le président.\"},\n",
       " {'speaker': 'Loïc', 'start': '00:03:11', 'end': '00:03:11', 'text': ''},\n",
       " {'speaker': 'Martin', 'start': '00:03:13', 'end': '00:03:13', 'text': ''}]"
      ]
     },
     "execution_count": 123,
     "metadata": {},
     "output_type": "execute_result"
    }
   ],
   "source": [
    "outputs"
   ]
  },
  {
   "cell_type": "code",
   "execution_count": null,
   "id": "24be06de",
   "metadata": {},
   "outputs": [],
   "source": []
  }
 ],
 "metadata": {
  "kernelspec": {
   "display_name": "Python 3",
   "language": "python",
   "name": "python3"
  },
  "language_info": {
   "codemirror_mode": {
    "name": "ipython",
    "version": 3
   },
   "file_extension": ".py",
   "mimetype": "text/x-python",
   "name": "python",
   "nbconvert_exporter": "python",
   "pygments_lexer": "ipython3",
   "version": "3.8.6"
  },
  "toc": {
   "base_numbering": 1,
   "nav_menu": {},
   "number_sections": true,
   "sideBar": true,
   "skip_h1_title": false,
   "title_cell": "Table of Contents",
   "title_sidebar": "Contents",
   "toc_cell": false,
   "toc_position": {},
   "toc_section_display": true,
   "toc_window_display": false
  }
 },
 "nbformat": 4,
 "nbformat_minor": 5
}
