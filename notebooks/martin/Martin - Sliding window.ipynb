{
 "cells": [
  {
   "cell_type": "code",
   "execution_count": 1,
   "id": "a37aa7aa",
   "metadata": {
    "ExecuteTime": {
     "end_time": "2021-05-25T08:11:53.191244Z",
     "start_time": "2021-05-25T08:11:50.299715Z"
    }
   },
   "outputs": [],
   "source": [
    "import torchaudio as ta"
   ]
  },
  {
   "cell_type": "code",
   "execution_count": 2,
   "id": "06dae722",
   "metadata": {
    "ExecuteTime": {
     "end_time": "2021-05-25T08:11:53.211433Z",
     "start_time": "2021-05-25T08:11:53.195071Z"
    }
   },
   "outputs": [],
   "source": [
    "import torch"
   ]
  },
  {
   "cell_type": "code",
   "execution_count": 3,
   "id": "deac68fc",
   "metadata": {
    "ExecuteTime": {
     "end_time": "2021-05-25T08:11:53.235239Z",
     "start_time": "2021-05-25T08:11:53.215425Z"
    }
   },
   "outputs": [],
   "source": [
    "data, sample_rate = ta.load('data/84-121123-0002.flac')"
   ]
  },
  {
   "cell_type": "code",
   "execution_count": 4,
   "id": "a53cb7df",
   "metadata": {
    "ExecuteTime": {
     "end_time": "2021-05-25T08:11:54.657445Z",
     "start_time": "2021-05-25T08:11:54.629356Z"
    }
   },
   "outputs": [
    {
     "data": {
      "text/plain": [
       "torch.Size([1, 219040])"
      ]
     },
     "execution_count": 4,
     "metadata": {},
     "output_type": "execute_result"
    }
   ],
   "source": [
    "data.shape"
   ]
  },
  {
   "cell_type": "code",
   "execution_count": 5,
   "id": "df2b386d",
   "metadata": {
    "ExecuteTime": {
     "end_time": "2021-05-25T08:12:25.653322Z",
     "start_time": "2021-05-25T08:12:24.601789Z"
    }
   },
   "outputs": [],
   "source": [
    "import matplotlib.pyplot as plt"
   ]
  },
  {
   "cell_type": "code",
   "execution_count": 6,
   "id": "4d2f9bab",
   "metadata": {
    "ExecuteTime": {
     "end_time": "2021-05-25T08:12:28.099694Z",
     "start_time": "2021-05-25T08:12:26.237216Z"
    }
   },
   "outputs": [
    {
     "data": {
      "text/plain": [
       "[<matplotlib.lines.Line2D at 0x1104edf40>]"
      ]
     },
     "execution_count": 6,
     "metadata": {},
     "output_type": "execute_result"
    },
    {
     "data": {
      "image/png": "[encoded data removed]",
      "text/plain": [
       "<Figure size 432x288 with 1 Axes>"
      ]
     },
     "metadata": {
      "needs_background": "light"
     },
     "output_type": "display_data"
    }
   ],
   "source": [
    "plt.plot(data[0])"
   ]
  },
  {
   "cell_type": "code",
   "execution_count": 7,
   "id": "3d3069e5",
   "metadata": {
    "ExecuteTime": {
     "end_time": "2021-05-25T08:12:30.678079Z",
     "start_time": "2021-05-25T08:12:30.671644Z"
    },
    "scrolled": true
   },
   "outputs": [
    {
     "data": {
      "text/plain": [
       "16000"
      ]
     },
     "execution_count": 7,
     "metadata": {},
     "output_type": "execute_result"
    }
   ],
   "source": [
    "sample_rate"
   ]
  },
  {
   "cell_type": "code",
   "execution_count": 11,
   "id": "f7b7d109",
   "metadata": {
    "ExecuteTime": {
     "end_time": "2021-05-25T08:20:24.898122Z",
     "start_time": "2021-05-25T08:20:24.894293Z"
    }
   },
   "outputs": [
    {
     "data": {
      "text/plain": [
       "torch.Size([1, 219040])"
      ]
     },
     "execution_count": 11,
     "metadata": {},
     "output_type": "execute_result"
    }
   ],
   "source": [
    "data.shape"
   ]
  },
  {
   "cell_type": "code",
   "execution_count": 12,
   "id": "cb7e01f3",
   "metadata": {
    "ExecuteTime": {
     "end_time": "2021-05-25T08:20:25.174376Z",
     "start_time": "2021-05-25T08:20:25.162777Z"
    }
   },
   "outputs": [
    {
     "data": {
      "text/plain": [
       "160"
      ]
     },
     "execution_count": 12,
     "metadata": {},
     "output_type": "execute_result"
    }
   ],
   "source": [
    "window_step= int((10*sample_rate)/1000)\n",
    "\n",
    "window_step"
   ]
  },
  {
   "cell_type": "code",
   "execution_count": 13,
   "id": "55de33e1",
   "metadata": {
    "ExecuteTime": {
     "end_time": "2021-05-25T08:20:25.540147Z",
     "start_time": "2021-05-25T08:20:25.528746Z"
    }
   },
   "outputs": [
    {
     "data": {
      "text/plain": [
       "400"
      ]
     },
     "execution_count": 13,
     "metadata": {},
     "output_type": "execute_result"
    }
   ],
   "source": [
    "window_width= int((25*sample_rate)/1000)\n",
    "\n",
    "window_width"
   ]
  },
  {
   "cell_type": "code",
   "execution_count": 14,
   "id": "ee98157a",
   "metadata": {
    "ExecuteTime": {
     "end_time": "2021-05-25T08:20:25.874620Z",
     "start_time": "2021-05-25T08:20:25.862961Z"
    },
    "scrolled": true
   },
   "outputs": [
    {
     "data": {
      "text/plain": [
       "1368"
      ]
     },
     "execution_count": 14,
     "metadata": {},
     "output_type": "execute_result"
    }
   ],
   "source": [
    "nb_windows = (data.shape[1]-window_width)//window_step+2\n",
    "nb_windows"
   ]
  },
  {
   "cell_type": "code",
   "execution_count": 15,
   "id": "f5829a78",
   "metadata": {
    "ExecuteTime": {
     "end_time": "2021-05-25T08:20:26.900390Z",
     "start_time": "2021-05-25T08:20:26.889847Z"
    }
   },
   "outputs": [],
   "source": [
    "ls=[]\n",
    "for i in range(nb_windows):\n",
    "    ls.append(data[0,window_step*i:window_step*i+window_width])\n",
    "    "
   ]
  },
  {
   "cell_type": "code",
   "execution_count": 18,
   "id": "e663ff30",
   "metadata": {
    "ExecuteTime": {
     "end_time": "2021-05-25T08:20:52.291460Z",
     "start_time": "2021-05-25T08:20:52.267234Z"
    },
    "collapsed": true
   },
   "outputs": [
    {
     "data": {
      "text/plain": [
       "tensor([-1.7700e-03, -1.6785e-03, -2.0142e-03, -1.5259e-03, -1.7395e-03,\n",
       "        -1.4038e-03, -1.6479e-03, -2.0142e-03, -2.2583e-03, -2.2583e-03,\n",
       "        -2.2583e-03, -2.1667e-03, -2.8381e-03, -2.5024e-03, -2.7466e-03,\n",
       "        -2.1362e-03, -2.1667e-03, -2.6550e-03, -2.7466e-03, -2.5330e-03,\n",
       "        -2.1057e-03, -1.8921e-03, -2.2278e-03, -1.8921e-03, -1.6174e-03,\n",
       "        -1.8005e-03, -2.1057e-03, -1.9226e-03, -1.6479e-03, -1.9531e-03,\n",
       "        -1.3428e-03, -1.3123e-03, -1.6479e-03, -1.8616e-03, -1.5564e-03,\n",
       "        -1.8005e-03, -1.2207e-03, -1.0071e-03, -1.4954e-03, -1.0376e-03,\n",
       "        -8.8501e-04, -8.2397e-04, -7.6294e-04, -7.6294e-04, -1.0986e-03,\n",
       "        -6.1035e-04, -3.9673e-04, -6.4087e-04, -2.4414e-04, -1.2207e-04,\n",
       "        -3.3569e-04,  1.5259e-04,  1.8311e-04,  3.0518e-05, -4.8828e-04,\n",
       "        -4.8828e-04, -3.0518e-04, -9.4604e-04, -7.3242e-04, -3.3569e-04,\n",
       "         1.5259e-04,  3.3569e-04,  3.6621e-04,  2.1362e-04,  1.2207e-04,\n",
       "         2.1362e-04,  4.8828e-04,  0.0000e+00,  4.5776e-04,  5.1880e-04,\n",
       "         7.0190e-04,  3.9673e-04,  7.9346e-04,  1.0986e-03,  9.1553e-04,\n",
       "         1.0376e-03,  6.7139e-04,  7.9346e-04,  2.4414e-04,  1.5259e-04,\n",
       "        -1.8311e-04, -3.0518e-04, -9.1553e-05,  2.1362e-04, -2.1362e-04,\n",
       "        -1.1902e-03, -1.5259e-03, -1.4954e-03, -1.7395e-03, -2.0142e-03,\n",
       "        -2.1667e-03, -2.1667e-03, -1.9531e-03, -1.2817e-03, -1.3733e-03,\n",
       "        -1.2817e-03, -1.2207e-03, -1.5564e-03, -1.4343e-03, -1.1902e-03,\n",
       "        -1.2207e-03, -1.4038e-03, -1.8311e-03, -2.2583e-03, -2.0752e-03,\n",
       "        -2.0142e-03, -2.8381e-03, -2.7466e-03, -2.7771e-03, -3.4790e-03,\n",
       "        -3.1433e-03, -3.2043e-03, -3.3875e-03, -3.3264e-03, -3.2959e-03,\n",
       "        -2.8687e-03, -2.3499e-03, -1.9531e-03, -1.4954e-03, -8.8501e-04,\n",
       "        -8.2397e-04, -1.0681e-03, -1.5564e-03, -1.0986e-03, -1.4954e-03,\n",
       "        -1.4038e-03, -1.7700e-03, -2.6245e-03, -2.4414e-03, -2.0142e-03,\n",
       "        -1.8921e-03, -2.2888e-03, -2.5940e-03, -2.8076e-03, -3.0518e-03,\n",
       "        -2.4719e-03, -2.2888e-03, -2.1973e-03, -1.3123e-03, -1.2207e-03,\n",
       "        -9.7656e-04, -7.3242e-04, -9.1553e-04, -1.5869e-03, -4.5776e-04,\n",
       "        -6.7139e-04, -4.5776e-04,  2.4414e-04,  4.8828e-04,  3.3569e-04,\n",
       "         3.0518e-04,  3.0518e-05,  1.8311e-04,  3.0518e-04,  0.0000e+00,\n",
       "         6.7139e-04,  9.1553e-04,  7.0190e-04,  5.4932e-04,  4.2725e-04,\n",
       "         6.7139e-04,  7.9346e-04,  8.8501e-04,  1.1292e-03,  1.1902e-03,\n",
       "         1.5259e-03,  1.2207e-03,  8.2397e-04,  1.2512e-03,  1.8311e-03,\n",
       "         2.6550e-03,  2.3499e-03,  2.5024e-03,  2.4414e-03,  1.9226e-03,\n",
       "         2.1057e-03,  2.3499e-03,  2.3193e-03,  2.3193e-03,  2.1973e-03,\n",
       "         1.8005e-03,  2.1362e-03,  2.8687e-03,  2.4109e-03,  2.6855e-03,\n",
       "         2.9602e-03,  3.4180e-03,  3.3264e-03,  3.3569e-03,  3.7537e-03,\n",
       "         3.7537e-03,  2.9907e-03,  2.8992e-03,  3.0823e-03,  3.0212e-03,\n",
       "         3.1738e-03,  2.6245e-03,  2.3499e-03,  2.5940e-03,  2.6550e-03,\n",
       "         2.5940e-03,  2.3804e-03,  2.6245e-03,  2.6245e-03,  2.3193e-03,\n",
       "         2.7161e-03,  3.1433e-03,  3.4790e-03,  3.7842e-03,  3.3875e-03,\n",
       "         3.0518e-03,  3.2959e-03,  3.2349e-03,  3.4180e-03,  3.2654e-03,\n",
       "         3.0212e-03,  2.3804e-03,  2.2278e-03,  2.1973e-03,  1.7700e-03,\n",
       "         1.5564e-03,  1.6479e-03,  1.4648e-03,  1.4648e-03,  1.4343e-03,\n",
       "         1.7395e-03,  1.6174e-03,  1.4038e-03,  1.5564e-03,  1.1902e-03,\n",
       "         8.2397e-04,  4.2725e-04, -6.1035e-05,  1.1902e-03,  9.1553e-04,\n",
       "         9.1553e-04,  4.5776e-04,  2.4414e-04,  7.9346e-04,  3.9673e-04,\n",
       "         4.5776e-04,  2.1362e-04,  8.8501e-04,  2.1362e-04, -1.8311e-04,\n",
       "         1.5259e-04,  1.5259e-04,  2.7466e-04, -4.2725e-04, -3.9673e-04,\n",
       "         1.8311e-04,  3.0518e-05,  3.0518e-05, -2.7466e-04,  3.0518e-04,\n",
       "         6.1035e-05, -9.1553e-05, -3.3569e-04, -7.6294e-04, -8.5449e-04,\n",
       "        -1.4343e-03, -1.9531e-03, -1.9836e-03, -1.8616e-03, -1.4954e-03,\n",
       "        -1.5259e-03, -1.0986e-03, -1.1597e-03, -1.1597e-03, -1.0681e-03,\n",
       "        -8.5449e-04, -7.3242e-04, -8.5449e-04, -1.1597e-03, -7.0190e-04,\n",
       "        -6.7139e-04, -1.1292e-03, -1.2512e-03, -1.5869e-03, -1.2207e-03,\n",
       "        -1.4343e-03, -1.3123e-03, -1.1597e-03, -8.2397e-04, -1.0986e-03,\n",
       "        -7.0190e-04, -7.0190e-04, -9.1553e-04, -9.1553e-04, -1.4954e-03,\n",
       "        -1.3428e-03, -2.0142e-03, -1.7395e-03, -1.7700e-03, -1.1597e-03,\n",
       "        -1.1292e-03, -1.2817e-03, -1.2512e-03, -1.5259e-03, -1.3428e-03,\n",
       "        -1.5259e-03, -1.7700e-03, -1.2512e-03, -9.7656e-04, -1.0681e-03,\n",
       "        -1.4954e-03, -1.5869e-03, -8.2397e-04, -5.4932e-04,  0.0000e+00,\n",
       "         1.5259e-04,  3.0518e-04,  3.3569e-04,  3.3569e-04,  9.4604e-04,\n",
       "         9.1553e-04,  6.4087e-04, -1.5259e-04, -2.1362e-04,  0.0000e+00,\n",
       "         9.1553e-05,  5.7983e-04,  1.0681e-03,  1.4954e-03,  1.4648e-03,\n",
       "         1.5869e-03,  1.0681e-03,  1.0376e-03,  9.4604e-04,  1.2512e-03,\n",
       "         1.3428e-03,  1.5869e-03,  1.6174e-03,  1.2817e-03,  9.1553e-04,\n",
       "         7.9346e-04,  7.0190e-04,  2.7466e-04,  1.5259e-04,  5.7983e-04,\n",
       "         7.0190e-04,  3.3569e-04, -1.2207e-04,  3.0518e-05,  3.6621e-04,\n",
       "        -6.1035e-05,  1.8311e-04,  9.1553e-05, -3.0518e-05, -2.4414e-04,\n",
       "        -3.0518e-04, -4.8828e-04, -3.0518e-05, -3.6621e-04, -2.4414e-04,\n",
       "        -3.0518e-05,  1.8311e-04,  2.4414e-04,  2.1362e-04,  3.3569e-04,\n",
       "        -9.1553e-05, -3.0518e-05, -5.1880e-04, -4.5776e-04, -1.3123e-03,\n",
       "        -1.6479e-03, -1.7700e-03, -2.3193e-03, -2.5024e-03, -1.8005e-03,\n",
       "        -1.4954e-03, -1.2207e-03, -2.1973e-03, -1.7700e-03, -1.7395e-03,\n",
       "        -1.4038e-03, -1.4038e-03, -1.3428e-03, -1.2512e-03, -1.1902e-03,\n",
       "        -1.3428e-03, -1.2207e-03, -1.4038e-03, -9.4604e-04, -1.5564e-03,\n",
       "        -1.9836e-03, -1.8311e-03, -1.8616e-03, -1.7700e-03, -1.7395e-03,\n",
       "        -1.3733e-03, -1.5869e-03, -1.3733e-03, -1.3733e-03, -1.3428e-03,\n",
       "        -1.2207e-03, -9.7656e-04, -3.9673e-04,  2.4414e-04,  5.4932e-04])"
      ]
     },
     "execution_count": 18,
     "metadata": {},
     "output_type": "execute_result"
    }
   ],
   "source": [
    "ls[nb_windows-2]"
   ]
  },
  {
   "cell_type": "code",
   "execution_count": 243,
   "id": "09a7b34a",
   "metadata": {
    "ExecuteTime": {
     "end_time": "2021-05-25T07:54:33.296383Z",
     "start_time": "2021-05-25T07:54:33.287419Z"
    }
   },
   "outputs": [],
   "source": [
    "def gen_windows(step,width,path_audio):\n",
    "    data, sample_rate = ta.load(f'{path_audio}')\n",
    "    window_step = int((step*sample_rate)/1000)\n",
    "    window_width =  int((width*sample_rate)/1000)\n",
    "    nb_windows = (data.shape[1]-window_width)//window_step+2\n",
    "    ls=[]\n",
    "    for i in range(nb_windows):\n",
    "        ls.append(data[0,window_step*i:window_step*i+window_width])\n",
    "    return ls"
   ]
  },
  {
   "cell_type": "code",
   "execution_count": 283,
   "id": "84074ce6",
   "metadata": {
    "ExecuteTime": {
     "end_time": "2021-05-25T08:02:56.735633Z",
     "start_time": "2021-05-25T08:02:56.706734Z"
    }
   },
   "outputs": [],
   "source": [
    "windows = gen_windows(15,25,\"data/84-121123-0002.flac\")"
   ]
  },
  {
   "cell_type": "code",
   "execution_count": 284,
   "id": "80e48c56",
   "metadata": {
    "ExecuteTime": {
     "end_time": "2021-05-25T08:02:57.196950Z",
     "start_time": "2021-05-25T08:02:57.188596Z"
    }
   },
   "outputs": [
    {
     "data": {
      "text/plain": [
       "160"
      ]
     },
     "execution_count": 284,
     "metadata": {},
     "output_type": "execute_result"
    }
   ],
   "source": [
    "len(windows[-1])"
   ]
  },
  {
   "cell_type": "code",
   "execution_count": 285,
   "id": "aebb9600",
   "metadata": {
    "ExecuteTime": {
     "end_time": "2021-05-25T08:02:59.021307Z",
     "start_time": "2021-05-25T08:02:59.009746Z"
    }
   },
   "outputs": [
    {
     "data": {
      "text/plain": [
       "tensor([ 9.1553e-05,  5.7983e-04,  1.0681e-03,  1.4954e-03,  1.4648e-03,\n",
       "         1.5869e-03,  1.0681e-03,  1.0376e-03,  9.4604e-04,  1.2512e-03,\n",
       "         1.3428e-03,  1.5869e-03,  1.6174e-03,  1.2817e-03,  9.1553e-04,\n",
       "         7.9346e-04,  7.0190e-04,  2.7466e-04,  1.5259e-04,  5.7983e-04,\n",
       "         7.0190e-04,  3.3569e-04, -1.2207e-04,  3.0518e-05,  3.6621e-04,\n",
       "        -6.1035e-05,  1.8311e-04,  9.1553e-05, -3.0518e-05, -2.4414e-04,\n",
       "        -3.0518e-04, -4.8828e-04, -3.0518e-05, -3.6621e-04, -2.4414e-04,\n",
       "        -3.0518e-05,  1.8311e-04,  2.4414e-04,  2.1362e-04,  3.3569e-04,\n",
       "        -9.1553e-05, -3.0518e-05, -5.1880e-04, -4.5776e-04, -1.3123e-03,\n",
       "        -1.6479e-03, -1.7700e-03, -2.3193e-03, -2.5024e-03, -1.8005e-03,\n",
       "        -1.4954e-03, -1.2207e-03, -2.1973e-03, -1.7700e-03, -1.7395e-03,\n",
       "        -1.4038e-03, -1.4038e-03, -1.3428e-03, -1.2512e-03, -1.1902e-03,\n",
       "        -1.3428e-03, -1.2207e-03, -1.4038e-03, -9.4604e-04, -1.5564e-03,\n",
       "        -1.9836e-03, -1.8311e-03, -1.8616e-03, -1.7700e-03, -1.7395e-03,\n",
       "        -1.3733e-03, -1.5869e-03, -1.3733e-03, -1.3733e-03, -1.3428e-03,\n",
       "        -1.2207e-03, -9.7656e-04, -3.9673e-04,  2.4414e-04,  5.4932e-04,\n",
       "         9.1553e-05, -4.2725e-04, -2.1362e-04, -8.5449e-04, -1.1292e-03,\n",
       "        -1.2207e-03, -1.2817e-03, -1.7090e-03, -1.9531e-03, -2.1362e-03,\n",
       "        -2.1362e-03, -1.9531e-03, -1.9531e-03, -1.8616e-03, -1.8311e-03,\n",
       "        -1.6785e-03, -1.9226e-03, -1.7395e-03, -1.5259e-03, -1.0071e-03,\n",
       "        -1.0071e-03, -8.5449e-04, -8.5449e-04, -1.0376e-03, -8.5449e-04,\n",
       "        -9.4604e-04, -1.0681e-03, -5.1880e-04, -3.3569e-04, -3.0518e-04,\n",
       "        -7.6294e-04, -8.2397e-04, -3.6621e-04, -5.7983e-04, -5.7983e-04,\n",
       "         3.0518e-05,  1.5259e-04,  4.2725e-04,  4.8828e-04,  3.0518e-04,\n",
       "         1.2207e-04,  1.5259e-04,  5.4932e-04,  3.0518e-04, -6.1035e-05,\n",
       "         0.0000e+00,  6.1035e-05,  9.1553e-05, -3.0518e-05, -3.6621e-04,\n",
       "        -3.6621e-04, -5.7983e-04,  3.0518e-05, -4.2725e-04, -7.3242e-04,\n",
       "        -7.3242e-04, -6.1035e-05,  2.4414e-04,  3.6621e-04,  6.7139e-04,\n",
       "         1.2512e-03,  1.0071e-03,  1.1597e-03,  1.3123e-03,  1.4954e-03,\n",
       "         1.7700e-03,  2.3193e-03,  2.5024e-03,  2.1667e-03,  2.1667e-03,\n",
       "         1.8921e-03,  2.1973e-03,  2.4109e-03,  2.4414e-03,  2.4109e-03,\n",
       "         2.7771e-03,  2.7771e-03,  2.5635e-03,  2.7161e-03,  2.2278e-03])"
      ]
     },
     "execution_count": 285,
     "metadata": {},
     "output_type": "execute_result"
    }
   ],
   "source": [
    "windows[-1]"
   ]
  },
  {
   "cell_type": "code",
   "execution_count": null,
   "id": "45932263",
   "metadata": {},
   "outputs": [],
   "source": []
  }
 ],
 "metadata": {
  "kernelspec": {
   "display_name": "Python 3",
   "language": "python",
   "name": "python3"
  },
  "language_info": {
   "codemirror_mode": {
    "name": "ipython",
    "version": 3
   },
   "file_extension": ".py",
   "mimetype": "text/x-python",
   "name": "python",
   "nbconvert_exporter": "python",
   "pygments_lexer": "ipython3",
   "version": "3.8.6"
  },
  "toc": {
   "base_numbering": 1,
   "nav_menu": {},
   "number_sections": true,
   "sideBar": true,
   "skip_h1_title": false,
   "title_cell": "Table of Contents",
   "title_sidebar": "Contents",
   "toc_cell": false,
   "toc_position": {},
   "toc_section_display": true,
   "toc_window_display": false
  }
 },
 "nbformat": 4,
 "nbformat_minor": 5
}
