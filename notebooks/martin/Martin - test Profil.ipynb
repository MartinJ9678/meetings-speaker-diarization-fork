{
 "cells": [
  {
   "cell_type": "code",
   "execution_count": 127,
   "id": "b9c51558",
   "metadata": {
    "ExecuteTime": {
     "end_time": "2021-06-01T08:32:06.842099Z",
     "start_time": "2021-06-01T08:32:05.392732Z"
    }
   },
   "outputs": [
    {
     "name": "stdout",
     "output_type": "stream",
     "text": [
      "The autoreload extension is already loaded. To reload it, use:\n",
      "  %reload_ext autoreload\n"
     ]
    }
   ],
   "source": [
    "%load_ext autoreload\n",
    "%autoreload 2"
   ]
  },
  {
   "cell_type": "code",
   "execution_count": 140,
   "id": "ec290091",
   "metadata": {
    "ExecuteTime": {
     "end_time": "2021-06-01T08:57:24.597676Z",
     "start_time": "2021-06-01T08:57:24.239811Z"
    }
   },
   "outputs": [],
   "source": [
    "from msd.SpeakerDiarizer import SpeakerDiarizer"
   ]
  },
  {
   "cell_type": "code",
   "execution_count": 141,
   "id": "dd03444d",
   "metadata": {
    "ExecuteTime": {
     "end_time": "2021-06-01T08:57:24.664079Z",
     "start_time": "2021-06-01T08:57:24.602352Z"
    }
   },
   "outputs": [],
   "source": [
    "from msd.SpeakerAward import SpeakerAward"
   ]
  },
  {
   "cell_type": "code",
   "execution_count": 142,
   "id": "81d4af8c",
   "metadata": {
    "ExecuteTime": {
     "end_time": "2021-06-01T08:57:26.993405Z",
     "start_time": "2021-06-01T08:57:25.430178Z"
    }
   },
   "outputs": [
    {
     "name": "stderr",
     "output_type": "stream",
     "text": [
      "Using cache found in /Users/jauffret/.cache/torch/hub/pyannote_pyannote-audio_master\n",
      "Using cache found in /Users/jauffret/.cache/torch/hub/pyannote_pyannote-audio_master\n",
      "Using cache found in /Users/jauffret/.cache/torch/hub/pyannote_pyannote-audio_master\n",
      "Using cache found in /Users/jauffret/.cache/torch/hub/pyannote_pyannote-audio_master\n",
      "/Users/jauffret/.pyenv/versions/3.8.6/envs/lewagon/lib/python3.8/site-packages/pyannote/audio/embedding/approaches/arcface_loss.py:170: FutureWarning: The 's' parameter is deprecated in favor of 'scale', and will be removed in a future release\n",
      "  warnings.warn(msg, FutureWarning)\n",
      "/Users/jauffret/.pyenv/versions/3.8.6/envs/lewagon/lib/python3.8/site-packages/pyannote/audio/features/pretrained.py:156: UserWarning: Model was trained with 4s chunks and is applied on 2s chunks. This might lead to sub-optimal results.\n",
      "  warnings.warn(msg)\n",
      "Using cache found in /Users/jauffret/.cache/torch/hub/pyannote_pyannote-audio_master\n"
     ]
    }
   ],
   "source": [
    "diarizer = SpeakerAward('dia_dihard')"
   ]
  },
  {
   "cell_type": "code",
   "execution_count": 143,
   "id": "3d524e88",
   "metadata": {
    "ExecuteTime": {
     "end_time": "2021-06-01T08:57:30.222541Z",
     "start_time": "2021-06-01T08:57:30.163211Z"
    }
   },
   "outputs": [],
   "source": [
    "file_name = 'data/3speakers_distincts-pfizer_1.wav'"
   ]
  },
  {
   "cell_type": "code",
   "execution_count": 144,
   "id": "ad009d1b",
   "metadata": {
    "ExecuteTime": {
     "end_time": "2021-06-01T09:04:52.033214Z",
     "start_time": "2021-06-01T08:57:31.378498Z"
    }
   },
   "outputs": [
    {
     "name": "stderr",
     "output_type": "stream",
     "text": [
      "/Users/jauffret/.pyenv/versions/3.8.6/envs/lewagon/lib/python3.8/site-packages/sklearn/cluster/_affinity_propagation.py:148: FutureWarning: 'random_state' has been introduced in 0.23. It will be set to None starting from 1.0 (renaming of 0.25) which means that results will differ at every function call. Set 'random_state' to None to silence this warning, or to 0 to keep the behavior of versions <0.23.\n",
      "  warnings.warn(\n"
     ]
    }
   ],
   "source": [
    "diarizer.apply_diarizer(file_name)"
   ]
  },
  {
   "cell_type": "code",
   "execution_count": 145,
   "id": "a5ca634e",
   "metadata": {
    "ExecuteTime": {
     "end_time": "2021-06-01T09:06:55.729799Z",
     "start_time": "2021-06-01T09:06:55.196271Z"
    }
   },
   "outputs": [
    {
     "data": {
      "image/png": "[encoded data removed]",
      "text/plain": [
       "<pyannote.core.annotation.Annotation at 0x138068f40>"
      ]
     },
     "execution_count": 145,
     "metadata": {},
     "output_type": "execute_result"
    }
   ],
   "source": [
    "diarizer.diarization"
   ]
  },
  {
   "cell_type": "code",
   "execution_count": 150,
   "id": "f9769dee",
   "metadata": {
    "ExecuteTime": {
     "end_time": "2021-06-01T09:14:58.800007Z",
     "start_time": "2021-06-01T09:14:39.011468Z"
    }
   },
   "outputs": [],
   "source": [
    "outputs = diarizer.get_json()"
   ]
  },
  {
   "cell_type": "code",
   "execution_count": 151,
   "id": "2922930e",
   "metadata": {
    "ExecuteTime": {
     "end_time": "2021-06-01T09:14:58.892050Z",
     "start_time": "2021-06-01T09:14:58.808417Z"
    }
   },
   "outputs": [
    {
     "data": {
      "text/plain": [
       "[{'speaker': 'Martin', 'start': '00:00:00', 'end': '00:00:00', 'text': ''},\n",
       " {'speaker': 'Martin',\n",
       "  'start': '00:00:01',\n",
       "  'end': '00:00:05',\n",
       "  'text': '19, les vaccins, Kaiser autorisé pour les 12, 25 ans.'},\n",
       " {'speaker': 'Martin', 'start': '00:00:05', 'end': '00:00:06', 'text': ''},\n",
       " {'speaker': 'Martin',\n",
       "  'start': '00:00:06',\n",
       "  'end': '00:00:07',\n",
       "  'text': \"Dans l'Union européenne ?\"},\n",
       " {'speaker': 'Martin',\n",
       "  'start': '00:00:07',\n",
       "  'end': '00:00:13',\n",
       "  'text': \"L'Agence européenne des médicaments s'est prononcé ce vendredi en faveur d'une vaccination des anneaux des adolescents.\"},\n",
       " {'speaker': 'Martin',\n",
       "  'start': '00:00:13',\n",
       "  'end': '00:00:15',\n",
       "  'text': 'Avec le produit germano américain.'},\n",
       " {'speaker': 'Loïc',\n",
       "  'start': '00:00:16',\n",
       "  'end': '00:00:21',\n",
       "  'text': \"C'est la première fois qu'un vaccin contre le coronavirus est accessible à cette tranche d'âge en Europe.\"},\n",
       " {'speaker': 'Yoann',\n",
       "  'start': '00:00:23',\n",
       "  'end': '00:00:27',\n",
       "  'text': \"Feu vert pour la vaccination des 1215 ans dans l'Union européenne UE.\"},\n",
       " {'speaker': 'Loïc',\n",
       "  'start': '00:00:28',\n",
       "  'end': '00:00:31',\n",
       "  'text': \"L'Agence européenne des médicaments a donné son autorisation.\"}]"
      ]
     },
     "execution_count": 151,
     "metadata": {},
     "output_type": "execute_result"
    }
   ],
   "source": [
    "outputs"
   ]
  },
  {
   "cell_type": "code",
   "execution_count": 175,
   "id": "ffa58a87",
   "metadata": {
    "ExecuteTime": {
     "end_time": "2021-06-01T09:22:22.271888Z",
     "start_time": "2021-06-01T09:22:22.199111Z"
    }
   },
   "outputs": [],
   "source": [
    "diarizer.json_outputs.insert(3,{'text':\"\"})"
   ]
  },
  {
   "cell_type": "code",
   "execution_count": 178,
   "id": "002b72f9",
   "metadata": {
    "ExecuteTime": {
     "end_time": "2021-06-01T09:22:35.834651Z",
     "start_time": "2021-06-01T09:22:35.766616Z"
    }
   },
   "outputs": [
    {
     "data": {
      "text/plain": [
       "[{'speaker': 'C',\n",
       "  'start': '23:59:40',\n",
       "  'end': '23:59:47',\n",
       "  'text': \"Bonjour, je m'appelle Yohann, Bonjour je m'appelle Yohann, Bonjour je m'appelle Yohann Bonjour je m'appelle Yohann Bonjour je m'appelle Yohann.\"},\n",
       " {'speaker': 'A',\n",
       "  'start': '23:59:47',\n",
       "  'end': '23:59:53',\n",
       "  'text': \"Bonjour, je m'appelle Loïc Bonjour, je m'appelle Loïc Bonjour je m'appelle Bonjour je m'appelle Loïc Bonjour, je m'appelle Loïc.\"},\n",
       " {'speaker': 'B',\n",
       "  'start': '23:59:53',\n",
       "  'end': '00:00:00',\n",
       "  'text': \"Bonjour, je m'appelle Martin Geoffrey, Bonjour, je m'appelle Martin Geoffrey Bonjour, je m'appelle Martin Geoffrey Bonjour, je m'appelle Martin Geoffrey.\"},\n",
       " {'speaker': 'Martin',\n",
       "  'start': '00:00:01',\n",
       "  'end': '00:00:05',\n",
       "  'text': '19, les vaccins, Kaiser autorisé pour les 12, 25 ans.'},\n",
       " {'speaker': 'Martin',\n",
       "  'start': '00:00:06',\n",
       "  'end': '00:00:07',\n",
       "  'text': \"Dans l'Union européenne ?\"},\n",
       " {'speaker': 'Martin',\n",
       "  'start': '00:00:07',\n",
       "  'end': '00:00:13',\n",
       "  'text': \"L'Agence européenne des médicaments s'est prononcé ce vendredi en faveur d'une vaccination des anneaux des adolescents.\"},\n",
       " {'speaker': 'Martin',\n",
       "  'start': '00:00:13',\n",
       "  'end': '00:00:15',\n",
       "  'text': 'Avec le produit germano américain.'},\n",
       " {'speaker': 'Loïc',\n",
       "  'start': '00:00:16',\n",
       "  'end': '00:00:21',\n",
       "  'text': \"C'est la première fois qu'un vaccin contre le coronavirus est accessible à cette tranche d'âge en Europe.\"},\n",
       " {'speaker': 'Yoann',\n",
       "  'start': '00:00:23',\n",
       "  'end': '00:00:27',\n",
       "  'text': \"Feu vert pour la vaccination des 1215 ans dans l'Union européenne UE.\"},\n",
       " {'speaker': 'Loïc',\n",
       "  'start': '00:00:28',\n",
       "  'end': '00:00:31',\n",
       "  'text': \"L'Agence européenne des médicaments a donné son autorisation.\"}]"
      ]
     },
     "execution_count": 178,
     "metadata": {},
     "output_type": "execute_result"
    }
   ],
   "source": [
    "diarizer.json_outputs"
   ]
  },
  {
   "cell_type": "code",
   "execution_count": 177,
   "id": "f25d4b8b",
   "metadata": {
    "ExecuteTime": {
     "end_time": "2021-06-01T09:22:32.211530Z",
     "start_time": "2021-06-01T09:22:32.135856Z"
    }
   },
   "outputs": [
    {
     "name": "stdout",
     "output_type": "stream",
     "text": [
      "0\n",
      "1\n",
      "2\n",
      "3\n",
      "4\n",
      "5\n",
      "6\n",
      "7\n",
      "8\n",
      "9\n"
     ]
    }
   ],
   "source": [
    "for index,segment in enumerate(diarizer.json_outputs):\n",
    "    print(index)\n",
    "    if segment['text']==\"\":\n",
    "        del diarizer.json_outputs[index]"
   ]
  },
  {
   "cell_type": "code",
   "execution_count": 164,
   "id": "38f8c6c3",
   "metadata": {
    "ExecuteTime": {
     "end_time": "2021-06-01T09:19:43.293084Z",
     "start_time": "2021-06-01T09:19:43.229934Z"
    }
   },
   "outputs": [
    {
     "data": {
      "text/plain": [
       "[{'speaker': 'Martin',\n",
       "  'start': '00:00:01',\n",
       "  'end': '00:00:05',\n",
       "  'text': '19, les vaccins, Kaiser autorisé pour les 12, 25 ans.'},\n",
       " {'speaker': 'Martin',\n",
       "  'start': '00:00:07',\n",
       "  'end': '00:00:13',\n",
       "  'text': \"L'Agence européenne des médicaments s'est prononcé ce vendredi en faveur d'une vaccination des anneaux des adolescents.\"},\n",
       " {'speaker': 'Martin',\n",
       "  'start': '00:00:13',\n",
       "  'end': '00:00:15',\n",
       "  'text': 'Avec le produit germano américain.'}]"
      ]
     },
     "execution_count": 164,
     "metadata": {},
     "output_type": "execute_result"
    }
   ],
   "source": [
    "outputs"
   ]
  },
  {
   "cell_type": "code",
   "execution_count": null,
   "id": "ab3c5e04",
   "metadata": {},
   "outputs": [],
   "source": []
  }
 ],
 "metadata": {
  "kernelspec": {
   "display_name": "Python 3",
   "language": "python",
   "name": "python3"
  },
  "language_info": {
   "codemirror_mode": {
    "name": "ipython",
    "version": 3
   },
   "file_extension": ".py",
   "mimetype": "text/x-python",
   "name": "python",
   "nbconvert_exporter": "python",
   "pygments_lexer": "ipython3",
   "version": "3.8.6"
  },
  "toc": {
   "base_numbering": 1,
   "nav_menu": {},
   "number_sections": true,
   "sideBar": true,
   "skip_h1_title": false,
   "title_cell": "Table of Contents",
   "title_sidebar": "Contents",
   "toc_cell": false,
   "toc_position": {},
   "toc_section_display": true,
   "toc_window_display": false
  }
 },
 "nbformat": 4,
 "nbformat_minor": 5
}
