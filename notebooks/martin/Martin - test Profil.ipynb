{
 "cells": [
  {
   "cell_type": "code",
   "execution_count": 1,
   "id": "b9c51558",
   "metadata": {
    "ExecuteTime": {
     "end_time": "2021-05-31T11:01:56.375090Z",
     "start_time": "2021-05-31T11:01:56.348390Z"
    }
   },
   "outputs": [],
   "source": [
    "%load_ext autoreload\n",
    "%autoreload 2"
   ]
  },
  {
   "cell_type": "code",
   "execution_count": 2,
   "id": "ec290091",
   "metadata": {
    "ExecuteTime": {
     "end_time": "2021-05-31T11:02:33.169612Z",
     "start_time": "2021-05-31T11:02:24.289183Z"
    }
   },
   "outputs": [
    {
     "name": "stderr",
     "output_type": "stream",
     "text": [
      "/Users/jauffret/.pyenv/versions/3.8.6/envs/lewagon/lib/python3.8/site-packages/pydub/utils.py:170: RuntimeWarning: Couldn't find ffmpeg or avconv - defaulting to ffmpeg, but may not work\n",
      "  warn(\"Couldn't find ffmpeg or avconv - defaulting to ffmpeg, but may not work\", RuntimeWarning)\n"
     ]
    }
   ],
   "source": [
    "from msd.SpeakerDiarizer import SpeakerDiarizer"
   ]
  },
  {
   "cell_type": "code",
   "execution_count": 3,
   "id": "dd03444d",
   "metadata": {
    "ExecuteTime": {
     "end_time": "2021-05-31T11:02:33.391348Z",
     "start_time": "2021-05-31T11:02:33.176848Z"
    }
   },
   "outputs": [],
   "source": [
    "from msd.SpeakerAward import SpeakerAward"
   ]
  },
  {
   "cell_type": "code",
   "execution_count": 7,
   "id": "81d4af8c",
   "metadata": {
    "ExecuteTime": {
     "end_time": "2021-05-31T11:04:34.549778Z",
     "start_time": "2021-05-31T11:04:32.870391Z"
    }
   },
   "outputs": [
    {
     "name": "stderr",
     "output_type": "stream",
     "text": [
      "Using cache found in /Users/jauffret/.cache/torch/hub/pyannote_pyannote-audio_master\n",
      "Using cache found in /Users/jauffret/.cache/torch/hub/pyannote_pyannote-audio_master\n",
      "Using cache found in /Users/jauffret/.cache/torch/hub/pyannote_pyannote-audio_master\n",
      "Using cache found in /Users/jauffret/.cache/torch/hub/pyannote_pyannote-audio_master\n",
      "Using cache found in /Users/jauffret/.cache/torch/hub/pyannote_pyannote-audio_master\n"
     ]
    }
   ],
   "source": [
    "diarizer = SpeakerAward('dia_dihard')"
   ]
  },
  {
   "cell_type": "code",
   "execution_count": 8,
   "id": "3d524e88",
   "metadata": {
    "ExecuteTime": {
     "end_time": "2021-05-31T11:04:45.965893Z",
     "start_time": "2021-05-31T11:04:45.897153Z"
    }
   },
   "outputs": [],
   "source": [
    "file_name = 'data/testduplique.wav'"
   ]
  },
  {
   "cell_type": "code",
   "execution_count": 9,
   "id": "11e57e58",
   "metadata": {
    "ExecuteTime": {
     "end_time": "2021-05-31T11:04:46.356996Z",
     "start_time": "2021-05-31T11:04:46.288132Z"
    }
   },
   "outputs": [],
   "source": [
    "profil_paths = ['profiles/Martin.wav','profiles/Loïc.wav','profiles/Yoann.wav']"
   ]
  },
  {
   "cell_type": "code",
   "execution_count": 10,
   "id": "ad009d1b",
   "metadata": {
    "ExecuteTime": {
     "end_time": "2021-05-31T11:11:33.791220Z",
     "start_time": "2021-05-31T11:05:02.655736Z"
    }
   },
   "outputs": [
    {
     "name": "stderr",
     "output_type": "stream",
     "text": [
      "/Users/jauffret/.pyenv/versions/3.8.6/envs/lewagon/lib/python3.8/site-packages/sklearn/cluster/_affinity_propagation.py:148: FutureWarning: 'random_state' has been introduced in 0.23. It will be set to None starting from 1.0 (renaming of 0.25) which means that results will differ at every function call. Set 'random_state' to None to silence this warning, or to 0 to keep the behavior of versions <0.23.\n",
      "  warnings.warn(\n"
     ]
    }
   ],
   "source": [
    "diarizer.apply_diarizer(file_name,profil_paths)"
   ]
  },
  {
   "cell_type": "code",
   "execution_count": 12,
   "id": "a5ca634e",
   "metadata": {
    "ExecuteTime": {
     "end_time": "2021-05-31T11:13:14.282383Z",
     "start_time": "2021-05-31T11:13:13.710233Z"
    }
   },
   "outputs": [
    {
     "data": {
      "image/png": "[encoded data removed]",
      "text/plain": [
       "<pyannote.core.annotation.Annotation at 0x1380abc70>"
      ]
     },
     "execution_count": 12,
     "metadata": {},
     "output_type": "execute_result"
    }
   ],
   "source": [
    "diarizer.diarization"
   ]
  },
  {
   "cell_type": "code",
   "execution_count": 22,
   "id": "2922930e",
   "metadata": {
    "ExecuteTime": {
     "end_time": "2021-05-31T13:06:50.441838Z",
     "start_time": "2021-05-31T13:05:29.352789Z"
    }
   },
   "outputs": [],
   "source": [
    "outputs = diarizer.get_json()"
   ]
  },
  {
   "cell_type": "code",
   "execution_count": 23,
   "id": "21435d74",
   "metadata": {
    "ExecuteTime": {
     "end_time": "2021-05-31T13:06:57.544552Z",
     "start_time": "2021-05-31T13:06:57.448936Z"
    }
   },
   "outputs": [
    {
     "data": {
      "text/plain": [
       "[{'speaker': 'Loïc',\n",
       "  'start': '00:00:07',\n",
       "  'end': '00:00:13',\n",
       "  'text': \"Bonjour, je m'appelle Loïc. Bonjour, je m'appelle Loïc. Bonjour je m'appelle Bonjour je m'appelle Loïc, Bonjour, je m'appelle Loïc.\"},\n",
       " {'speaker': 'Loïc',\n",
       "  'start': '00:00:21',\n",
       "  'end': '00:00:27',\n",
       "  'text': 'Une pensée émue à tous les youtubeur qui sortent aussi leur vidéo les dimanches matins mais qui ne feront pas de vues avant ce soir.'},\n",
       " {'speaker': 'Martin',\n",
       "  'start': '00:00:30',\n",
       "  'end': '00:00:31',\n",
       "  'text': 'Gégé à moi même.'},\n",
       " {'speaker': 'Martin',\n",
       "  'start': '00:00:32',\n",
       "  'end': '00:00:33',\n",
       "  'text': \"Imaginez s'ils avaient.\"},\n",
       " {'speaker': 'Martin',\n",
       "  'start': '00:00:33',\n",
       "  'end': '00:00:36',\n",
       "  'text': \"S'ils avaient fait, on appelle des gens au hasard au téléphone.\"},\n",
       " {'speaker': 'Martin',\n",
       "  'start': '00:00:36',\n",
       "  'end': '00:00:37',\n",
       "  'text': 'Avec lui ?'},\n",
       " {'speaker': 'Yoann',\n",
       "  'start': '00:00:39',\n",
       "  'end': '00:00:42',\n",
       "  'text': 'Carlito, vous êtes sanguins ? Non ? Emmanuel Macron, non.'},\n",
       " {'speaker': 'Yoann',\n",
       "  'start': '00:00:43',\n",
       "  'end': '00:00:44',\n",
       "  'text': 'Carlito, je suis mort.'},\n",
       " {'speaker': 'Loïc',\n",
       "  'start': '00:00:46',\n",
       "  'end': '00:00:49',\n",
       "  'text': \"La seule vidéo Youtube au monde qui sera dans les livres d'histoire de France, c'est ouf.\"},\n",
       " {'speaker': 'Martin',\n",
       "  'start': '00:00:50',\n",
       "  'end': '00:00:54',\n",
       "  'text': \"Ça m'étonnerait même pas si la prochaine vidéo et concours d'anecdotes avec Kim Jong-un.\"},\n",
       " {'speaker': 'Loïc',\n",
       "  'start': '00:00:54',\n",
       "  'end': '00:00:57',\n",
       "  'text': \"Ce genre de titre qu'on ne verra presque jamais dans l'histoire de YouTube.\"},\n",
       " {'speaker': 'Yoann',\n",
       "  'start': '00:00:58',\n",
       "  'end': '00:01:03',\n",
       "  'text': '2025E mongols au goulag avec Vladimir Poutine qui fait un backflip.'},\n",
       " {'speaker': 'Yoann', 'start': '00:01:03', 'end': '00:01:04', 'text': '2050.'},\n",
       " {'speaker': 'Yoann',\n",
       "  'start': '00:01:04',\n",
       "  'end': '00:01:07',\n",
       "  'text': 'Cache-cache dans la Fondation SCP avec les reptiliens ?'},\n",
       " {'speaker': 'Loïc',\n",
       "  'start': '00:01:08',\n",
       "  'end': '00:01:09',\n",
       "  'text': 'Bientôt sur votre t-shirt ?'},\n",
       " {'speaker': 'Martin',\n",
       "  'start': '00:01:11',\n",
       "  'end': '00:01:14',\n",
       "  'text': \"N'en faites pas trop quand même. Kylian signé le président.\"},\n",
       " {'speaker': 'Loïc',\n",
       "  'start': '00:01:19',\n",
       "  'end': '00:01:24',\n",
       "  'text': 'Une pensée émue à tous les youtubeur qui sortent aussi leur vidéo les dimanches matins mais qui ne feront pas de vues avant ce soir.'},\n",
       " {'speaker': 'Martin',\n",
       "  'start': '00:01:25',\n",
       "  'end': '00:01:28',\n",
       "  'text': 'Objectif 0 abonné en avant réussi.'},\n",
       " {'speaker': 'Martin',\n",
       "  'start': '00:01:28',\n",
       "  'end': '00:01:29',\n",
       "  'text': 'Gégé à moi même.'},\n",
       " {'speaker': 'Martin',\n",
       "  'start': '00:01:30',\n",
       "  'end': '00:01:31',\n",
       "  'text': \"Imaginez s'ils avaient.\"},\n",
       " {'speaker': 'Martin',\n",
       "  'start': '00:01:31',\n",
       "  'end': '00:01:34',\n",
       "  'text': \"S'il avait fait, on appelle des gens au hasard au téléphone.\"},\n",
       " {'speaker': 'Martin',\n",
       "  'start': '00:01:34',\n",
       "  'end': '00:01:35',\n",
       "  'text': 'Avec lui ?'},\n",
       " {'speaker': 'Martin', 'start': '00:01:36', 'end': '00:01:36', 'text': ''},\n",
       " {'speaker': 'Yoann',\n",
       "  'start': '00:01:37',\n",
       "  'end': '00:01:40',\n",
       "  'text': 'Carlito, vous êtes sanguins ? Non ? Emmanuel Macron, non.'},\n",
       " {'speaker': 'Yoann',\n",
       "  'start': '00:01:40',\n",
       "  'end': '00:01:42',\n",
       "  'text': 'Carlito, je suis mort.'},\n",
       " {'speaker': 'Loïc',\n",
       "  'start': '00:01:43',\n",
       "  'end': '00:01:47',\n",
       "  'text': \"La seule vidéo Youtube au monde qui sera dans les livres d'histoire de France, c'est ouf.\"},\n",
       " {'speaker': 'Martin',\n",
       "  'start': '00:01:48',\n",
       "  'end': '00:01:51',\n",
       "  'text': \"Ça m'étonnerait même pas si la prochaine vidéo et concours d'anecdotes avec Kim Jong-un.\"},\n",
       " {'speaker': 'Loïc',\n",
       "  'start': '00:01:52',\n",
       "  'end': '00:01:55',\n",
       "  'text': \"Ce genre de titre qu'on ne verra presque jamais dans l'histoire de YouTube.\"},\n",
       " {'speaker': 'Yoann',\n",
       "  'start': '00:01:56',\n",
       "  'end': '00:02:01',\n",
       "  'text': '2025E mongols au goulag avec Vladimir Poutine qui fait un backflip.'},\n",
       " {'speaker': 'Yoann', 'start': '00:02:01', 'end': '00:02:02', 'text': '2050.'},\n",
       " {'speaker': 'Yoann',\n",
       "  'start': '00:02:02',\n",
       "  'end': '00:02:05',\n",
       "  'text': 'Cache-cache dans la Fondation SCP avec les reptiliens ?'},\n",
       " {'speaker': 'Loïc',\n",
       "  'start': '00:02:06',\n",
       "  'end': '00:02:07',\n",
       "  'text': 'Bientôt sur votre t-shirt ?'},\n",
       " {'speaker': 'Martin',\n",
       "  'start': '00:02:09',\n",
       "  'end': '00:02:12',\n",
       "  'text': \"N'en faites pas trop quand même. Kylian signé le président.\"},\n",
       " {'speaker': 'Loïc', 'start': '00:02:13', 'end': '00:02:13', 'text': ''},\n",
       " {'speaker': 'Martin', 'start': '00:02:15', 'end': '00:02:15', 'text': ''},\n",
       " {'speaker': 'Loïc',\n",
       "  'start': '00:02:16',\n",
       "  'end': '00:02:22',\n",
       "  'text': 'Une pensée émue à tous les youtubeur qui sortent aussi leur vidéo les dimanches matins mais qui ne feront pas de vues avant ce soir.'},\n",
       " {'speaker': 'Martin',\n",
       "  'start': '00:02:23',\n",
       "  'end': '00:02:25',\n",
       "  'text': 'Objectif 0 abonné en avant réussi.'},\n",
       " {'speaker': 'Martin',\n",
       "  'start': '00:02:26',\n",
       "  'end': '00:02:27',\n",
       "  'text': 'Gégé à moi même.'},\n",
       " {'speaker': 'Martin',\n",
       "  'start': '00:02:27',\n",
       "  'end': '00:02:29',\n",
       "  'text': \"Imaginez s'ils avaient.\"},\n",
       " {'speaker': 'Martin',\n",
       "  'start': '00:02:29',\n",
       "  'end': '00:02:32',\n",
       "  'text': \"S'il avait fait, on appelle des gens au hasard au téléphone.\"},\n",
       " {'speaker': 'Martin',\n",
       "  'start': '00:02:32',\n",
       "  'end': '00:02:32',\n",
       "  'text': 'Avec lui ?'},\n",
       " {'speaker': 'Yoann',\n",
       "  'start': '00:02:34',\n",
       "  'end': '00:02:38',\n",
       "  'text': 'Carlito, vous êtes sanguins ? Non ? Emmanuel Macron, non.'},\n",
       " {'speaker': 'Yoann',\n",
       "  'start': '00:02:38',\n",
       "  'end': '00:02:40',\n",
       "  'text': 'Carlito, je suis mort.'},\n",
       " {'speaker': 'Loïc',\n",
       "  'start': '00:02:41',\n",
       "  'end': '00:02:44',\n",
       "  'text': \"La seule vidéo Youtube au monde qui sera dans les livres d'histoire de France, c'est ouf.\"},\n",
       " {'speaker': 'Martin',\n",
       "  'start': '00:02:45',\n",
       "  'end': '00:02:49',\n",
       "  'text': \"Ça m'étonnerait même pas si la prochaine vidéo et concours d'anecdotes avec Kim Jong-un.\"},\n",
       " {'speaker': 'Loïc',\n",
       "  'start': '00:02:50',\n",
       "  'end': '00:02:53',\n",
       "  'text': \"Ce genre de titre qu'on ne verra presque jamais dans l'histoire de YouTube.\"},\n",
       " {'speaker': 'Yoann',\n",
       "  'start': '00:02:54',\n",
       "  'end': '00:02:58',\n",
       "  'text': '2025E mongols au goulag avec Vladimir Poutine qui fait un backflip.'},\n",
       " {'speaker': 'Yoann', 'start': '00:02:59', 'end': '00:02:59', 'text': '2050.'},\n",
       " {'speaker': 'Yoann',\n",
       "  'start': '00:03:00',\n",
       "  'end': '00:03:03',\n",
       "  'text': 'Cache-cache dans la Fondation SCP avec les reptiliens ?'},\n",
       " {'speaker': 'Loïc',\n",
       "  'start': '00:03:03',\n",
       "  'end': '00:03:05',\n",
       "  'text': 'Bientôt sur votre t-shirt ?'},\n",
       " {'speaker': 'Martin',\n",
       "  'start': '00:03:07',\n",
       "  'end': '00:03:10',\n",
       "  'text': \"N'en faites pas trop quand même. Kylian signé le président.\"},\n",
       " {'speaker': 'Loïc', 'start': '00:03:11', 'end': '00:03:11', 'text': ''},\n",
       " {'speaker': 'Martin', 'start': '00:03:13', 'end': '00:03:13', 'text': ''}]"
      ]
     },
     "execution_count": 23,
     "metadata": {},
     "output_type": "execute_result"
    }
   ],
   "source": [
    "outputs"
   ]
  },
  {
   "cell_type": "code",
   "execution_count": null,
   "id": "7bb19695",
   "metadata": {},
   "outputs": [],
   "source": []
  }
 ],
 "metadata": {
  "kernelspec": {
   "display_name": "Python 3",
   "language": "python",
   "name": "python3"
  },
  "language_info": {
   "codemirror_mode": {
    "name": "ipython",
    "version": 3
   },
   "file_extension": ".py",
   "mimetype": "text/x-python",
   "name": "python",
   "nbconvert_exporter": "python",
   "pygments_lexer": "ipython3",
   "version": "3.8.6"
  },
  "toc": {
   "base_numbering": 1,
   "nav_menu": {},
   "number_sections": true,
   "sideBar": true,
   "skip_h1_title": false,
   "title_cell": "Table of Contents",
   "title_sidebar": "Contents",
   "toc_cell": false,
   "toc_position": {},
   "toc_section_display": true,
   "toc_window_display": false
  }
 },
 "nbformat": 4,
 "nbformat_minor": 5
}
