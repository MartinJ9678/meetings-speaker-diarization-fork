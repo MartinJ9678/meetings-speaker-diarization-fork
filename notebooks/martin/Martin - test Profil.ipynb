{
 "cells": [
  {
   "cell_type": "code",
   "execution_count": 127,
   "id": "b9c51558",
   "metadata": {
    "ExecuteTime": {
     "end_time": "2021-06-01T08:32:06.842099Z",
     "start_time": "2021-06-01T08:32:05.392732Z"
    }
   },
   "outputs": [
    {
     "name": "stdout",
     "output_type": "stream",
     "text": [
      "The autoreload extension is already loaded. To reload it, use:\n",
      "  %reload_ext autoreload\n"
     ]
    }
   ],
   "source": [
    "%load_ext autoreload\n",
    "%autoreload 2"
   ]
  },
  {
   "cell_type": "code",
   "execution_count": 128,
   "id": "ec290091",
   "metadata": {
    "ExecuteTime": {
     "end_time": "2021-06-01T08:32:06.934578Z",
     "start_time": "2021-06-01T08:32:06.847701Z"
    }
   },
   "outputs": [],
   "source": [
    "from msd.SpeakerDiarizer import SpeakerDiarizer"
   ]
  },
  {
   "cell_type": "code",
   "execution_count": 129,
   "id": "dd03444d",
   "metadata": {
    "ExecuteTime": {
     "end_time": "2021-06-01T08:32:07.006998Z",
     "start_time": "2021-06-01T08:32:06.942134Z"
    }
   },
   "outputs": [],
   "source": [
    "from msd.SpeakerAward import SpeakerAward"
   ]
  },
  {
   "cell_type": "code",
   "execution_count": 137,
   "id": "81d4af8c",
   "metadata": {
    "ExecuteTime": {
     "end_time": "2021-06-01T08:37:41.613275Z",
     "start_time": "2021-06-01T08:37:39.882758Z"
    }
   },
   "outputs": [
    {
     "name": "stdout",
     "output_type": "stream",
     "text": [
      "['/Users/jauffret/code/MartinJ9678/meetings-speaker-diarization/msd/data/Martin.wav', '/Users/jauffret/code/MartinJ9678/meetings-speaker-diarization/msd/data/Loïc.wav', '/Users/jauffret/code/MartinJ9678/meetings-speaker-diarization/msd/data/Yoann.wav']\n"
     ]
    },
    {
     "name": "stderr",
     "output_type": "stream",
     "text": [
      "Using cache found in /Users/jauffret/.cache/torch/hub/pyannote_pyannote-audio_master\n",
      "Using cache found in /Users/jauffret/.cache/torch/hub/pyannote_pyannote-audio_master\n",
      "Using cache found in /Users/jauffret/.cache/torch/hub/pyannote_pyannote-audio_master\n",
      "Using cache found in /Users/jauffret/.cache/torch/hub/pyannote_pyannote-audio_master\n",
      "Using cache found in /Users/jauffret/.cache/torch/hub/pyannote_pyannote-audio_master\n"
     ]
    }
   ],
   "source": [
    "diarizer = SpeakerAward('dia_dihard')"
   ]
  },
  {
   "cell_type": "code",
   "execution_count": 138,
   "id": "3d524e88",
   "metadata": {
    "ExecuteTime": {
     "end_time": "2021-06-01T08:38:00.698110Z",
     "start_time": "2021-06-01T08:38:00.569168Z"
    }
   },
   "outputs": [],
   "source": [
    "file_name = 'data/3speakers_distincts-mcflycarlito.wav'"
   ]
  },
  {
   "cell_type": "code",
   "execution_count": 139,
   "id": "ad009d1b",
   "metadata": {
    "ExecuteTime": {
     "end_time": "2021-06-01T08:46:17.920098Z",
     "start_time": "2021-06-01T08:38:02.275140Z"
    }
   },
   "outputs": [
    {
     "name": "stderr",
     "output_type": "stream",
     "text": [
      "/Users/jauffret/.pyenv/versions/3.8.6/envs/lewagon/lib/python3.8/site-packages/sklearn/cluster/_affinity_propagation.py:148: FutureWarning: 'random_state' has been introduced in 0.23. It will be set to None starting from 1.0 (renaming of 0.25) which means that results will differ at every function call. Set 'random_state' to None to silence this warning, or to 0 to keep the behavior of versions <0.23.\n",
      "  warnings.warn(\n"
     ]
    }
   ],
   "source": [
    "diarizer.apply_diarizer(file_name)"
   ]
  },
  {
   "cell_type": "code",
   "execution_count": 118,
   "id": "a5ca634e",
   "metadata": {
    "ExecuteTime": {
     "end_time": "2021-05-31T16:16:21.791955Z",
     "start_time": "2021-05-31T16:16:21.360437Z"
    }
   },
   "outputs": [
    {
     "data": {
      "image/png": "[encoded data removed]",
      "text/plain": [
       "<pyannote.core.annotation.Annotation at 0x139f20b80>"
      ]
     },
     "execution_count": 118,
     "metadata": {},
     "output_type": "execute_result"
    }
   ],
   "source": [
    "diarizer.diarization"
   ]
  },
  {
   "cell_type": "code",
   "execution_count": 119,
   "id": "73f84b27",
   "metadata": {
    "ExecuteTime": {
     "end_time": "2021-05-31T16:17:01.132828Z",
     "start_time": "2021-05-31T16:16:33.781192Z"
    }
   },
   "outputs": [],
   "source": [
    "outputs = diarizer.get_json()"
   ]
  },
  {
   "cell_type": "code",
   "execution_count": 120,
   "id": "2922930e",
   "metadata": {
    "ExecuteTime": {
     "end_time": "2021-05-31T16:17:15.437166Z",
     "start_time": "2021-05-31T16:17:15.356755Z"
    }
   },
   "outputs": [
    {
     "data": {
      "text/plain": [
       "[{'speaker': 'Loïc',\n",
       "  'start': '00:00:01',\n",
       "  'end': '00:00:07',\n",
       "  'text': 'Une pensée émue à tous les youtubeur qui sortent aussi leur vidéo les dimanches matins, mais qui ne feront pas de vues avant ce soir.'},\n",
       " {'speaker': 'Martin',\n",
       "  'start': '00:00:08',\n",
       "  'end': '00:00:10',\n",
       "  'text': 'Objectif 0 abonné en avant réussi.'},\n",
       " {'speaker': 'Martin',\n",
       "  'start': '00:00:10',\n",
       "  'end': '00:00:11',\n",
       "  'text': 'Gégé à moi même.'},\n",
       " {'speaker': 'Martin',\n",
       "  'start': '00:00:12',\n",
       "  'end': '00:00:13',\n",
       "  'text': \"Imaginez s'ils avaient.\"},\n",
       " {'speaker': 'Martin',\n",
       "  'start': '00:00:13',\n",
       "  'end': '00:00:16',\n",
       "  'text': \"S'il avait fait, on appelle des gens au hasard au téléphone.\"},\n",
       " {'speaker': 'Martin',\n",
       "  'start': '00:00:16',\n",
       "  'end': '00:00:17',\n",
       "  'text': 'Avec lui ?'},\n",
       " {'speaker': 'Yoann',\n",
       "  'start': '00:00:19',\n",
       "  'end': '00:00:22',\n",
       "  'text': 'Carlito vous êtes sanguins ? Non, Emmanuel Macron, non.'},\n",
       " {'speaker': 'Yoann',\n",
       "  'start': '00:00:23',\n",
       "  'end': '00:00:24',\n",
       "  'text': 'Carlito, je suis mort.'},\n",
       " {'speaker': 'Loïc',\n",
       "  'start': '00:00:26',\n",
       "  'end': '00:00:29',\n",
       "  'text': \"La seule vidéo Youtube au monde qui sera dans les livres d'histoire de France, c'est ouf.\"},\n",
       " {'speaker': 'Martin',\n",
       "  'start': '00:00:30',\n",
       "  'end': '00:00:34',\n",
       "  'text': \"Ça m'étonnerait, même pas si la prochaine vidéo et concours d'anecdotes avec Kim Jong-un.\"},\n",
       " {'speaker': 'Loïc',\n",
       "  'start': '00:00:34',\n",
       "  'end': '00:00:37',\n",
       "  'text': \"Ce genre de titre qu'on ne verra presque jamais dans l'histoire de YouTube.\"},\n",
       " {'speaker': 'Yoann',\n",
       "  'start': '00:00:38',\n",
       "  'end': '00:00:43',\n",
       "  'text': '2025E mongols au goulag avec Vladimir Poutine qui fait un backflip.'},\n",
       " {'speaker': 'Yoann', 'start': '00:00:43', 'end': '00:00:44', 'text': '2050.'},\n",
       " {'speaker': 'Yoann',\n",
       "  'start': '00:00:44',\n",
       "  'end': '00:00:47',\n",
       "  'text': 'Cache-cache dans la Fondation SCP avec les reptiliens.'},\n",
       " {'speaker': 'Loïc',\n",
       "  'start': '00:00:48',\n",
       "  'end': '00:00:49',\n",
       "  'text': 'Bientôt sur votre t-shirt ?'},\n",
       " {'speaker': 'Martin',\n",
       "  'start': '00:00:51',\n",
       "  'end': '00:00:54',\n",
       "  'text': \"N'en faites pas trop quand même. Kylian signé le président.\"}]"
      ]
     },
     "execution_count": 120,
     "metadata": {},
     "output_type": "execute_result"
    }
   ],
   "source": [
    "outputs"
   ]
  },
  {
   "cell_type": "code",
   "execution_count": null,
   "id": "0471ebff",
   "metadata": {},
   "outputs": [],
   "source": []
  }
 ],
 "metadata": {
  "kernelspec": {
   "display_name": "Python 3",
   "language": "python",
   "name": "python3"
  },
  "language_info": {
   "codemirror_mode": {
    "name": "ipython",
    "version": 3
   },
   "file_extension": ".py",
   "mimetype": "text/x-python",
   "name": "python",
   "nbconvert_exporter": "python",
   "pygments_lexer": "ipython3",
   "version": "3.8.6"
  },
  "toc": {
   "base_numbering": 1,
   "nav_menu": {},
   "number_sections": true,
   "sideBar": true,
   "skip_h1_title": false,
   "title_cell": "Table of Contents",
   "title_sidebar": "Contents",
   "toc_cell": false,
   "toc_position": {},
   "toc_section_display": true,
   "toc_window_display": false
  }
 },
 "nbformat": 4,
 "nbformat_minor": 5
}
