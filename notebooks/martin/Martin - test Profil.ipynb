{
 "cells": [
  {
   "cell_type": "code",
   "execution_count": 1,
   "id": "b9c51558",
   "metadata": {
    "ExecuteTime": {
     "end_time": "2021-05-31T11:01:56.375090Z",
     "start_time": "2021-05-31T11:01:56.348390Z"
    }
   },
   "outputs": [],
   "source": [
    "%load_ext autoreload\n",
    "%autoreload 2"
   ]
  },
  {
   "cell_type": "code",
   "execution_count": 78,
   "id": "ec290091",
   "metadata": {
    "ExecuteTime": {
     "end_time": "2021-05-31T15:10:27.319887Z",
     "start_time": "2021-05-31T15:10:27.214439Z"
    }
   },
   "outputs": [],
   "source": [
    "from msd.SpeakerDiarizer import SpeakerDiarizer"
   ]
  },
  {
   "cell_type": "code",
   "execution_count": 79,
   "id": "dd03444d",
   "metadata": {
    "ExecuteTime": {
     "end_time": "2021-05-31T15:10:27.597223Z",
     "start_time": "2021-05-31T15:10:27.531522Z"
    }
   },
   "outputs": [],
   "source": [
    "from msd.SpeakerAward import SpeakerAward"
   ]
  },
  {
   "cell_type": "code",
   "execution_count": 80,
   "id": "81d4af8c",
   "metadata": {
    "ExecuteTime": {
     "end_time": "2021-05-31T15:10:29.693427Z",
     "start_time": "2021-05-31T15:10:28.198322Z"
    }
   },
   "outputs": [
    {
     "name": "stderr",
     "output_type": "stream",
     "text": [
      "Using cache found in /Users/jauffret/.cache/torch/hub/pyannote_pyannote-audio_master\n",
      "Using cache found in /Users/jauffret/.cache/torch/hub/pyannote_pyannote-audio_master\n",
      "Using cache found in /Users/jauffret/.cache/torch/hub/pyannote_pyannote-audio_master\n",
      "Using cache found in /Users/jauffret/.cache/torch/hub/pyannote_pyannote-audio_master\n",
      "/Users/jauffret/.pyenv/versions/3.8.6/envs/lewagon/lib/python3.8/site-packages/pyannote/audio/embedding/approaches/arcface_loss.py:170: FutureWarning: The 's' parameter is deprecated in favor of 'scale', and will be removed in a future release\n",
      "  warnings.warn(msg, FutureWarning)\n",
      "/Users/jauffret/.pyenv/versions/3.8.6/envs/lewagon/lib/python3.8/site-packages/pyannote/audio/features/pretrained.py:156: UserWarning: Model was trained with 4s chunks and is applied on 2s chunks. This might lead to sub-optimal results.\n",
      "  warnings.warn(msg)\n",
      "Using cache found in /Users/jauffret/.cache/torch/hub/pyannote_pyannote-audio_master\n"
     ]
    }
   ],
   "source": [
    "diarizer = SpeakerAward('dia_dihard')"
   ]
  },
  {
   "cell_type": "code",
   "execution_count": 81,
   "id": "3d524e88",
   "metadata": {
    "ExecuteTime": {
     "end_time": "2021-05-31T15:10:29.763941Z",
     "start_time": "2021-05-31T15:10:29.697461Z"
    }
   },
   "outputs": [],
   "source": [
    "file_name = 'data/3speakers_distincts-mcflycarlito.wav'"
   ]
  },
  {
   "cell_type": "code",
   "execution_count": 82,
   "id": "11e57e58",
   "metadata": {
    "ExecuteTime": {
     "end_time": "2021-05-31T15:10:32.653431Z",
     "start_time": "2021-05-31T15:10:32.593533Z"
    }
   },
   "outputs": [],
   "source": [
    "profil_paths = ['profiles/Martin.wav','profiles/Loïc.wav','profiles/Yoann.wav']"
   ]
  },
  {
   "cell_type": "code",
   "execution_count": 83,
   "id": "ad009d1b",
   "metadata": {
    "ExecuteTime": {
     "end_time": "2021-05-31T15:16:54.350596Z",
     "start_time": "2021-05-31T15:10:35.696597Z"
    }
   },
   "outputs": [
    {
     "name": "stderr",
     "output_type": "stream",
     "text": [
      "/Users/jauffret/.pyenv/versions/3.8.6/envs/lewagon/lib/python3.8/site-packages/sklearn/cluster/_affinity_propagation.py:148: FutureWarning: 'random_state' has been introduced in 0.23. It will be set to None starting from 1.0 (renaming of 0.25) which means that results will differ at every function call. Set 'random_state' to None to silence this warning, or to 0 to keep the behavior of versions <0.23.\n",
      "  warnings.warn(\n"
     ]
    }
   ],
   "source": [
    "diarizer.apply_diarizer(file_name,profil_paths)"
   ]
  },
  {
   "cell_type": "code",
   "execution_count": 84,
   "id": "a5ca634e",
   "metadata": {
    "ExecuteTime": {
     "end_time": "2021-05-31T15:17:25.699777Z",
     "start_time": "2021-05-31T15:17:25.092712Z"
    }
   },
   "outputs": [
    {
     "data": {
      "image/png": "[encoded data removed]",
      "text/plain": [
       "<pyannote.core.annotation.Annotation at 0x13aec0fd0>"
      ]
     },
     "execution_count": 84,
     "metadata": {},
     "output_type": "execute_result"
    }
   ],
   "source": [
    "diarizer.diarization"
   ]
  },
  {
   "cell_type": "code",
   "execution_count": 108,
   "id": "856bc6f9",
   "metadata": {
    "ExecuteTime": {
     "end_time": "2021-05-31T15:29:30.460423Z",
     "start_time": "2021-05-31T15:29:30.388234Z"
    },
    "collapsed": true
   },
   "outputs": [
    {
     "data": {
      "text/plain": [
       "[{'speaker': 'C',\n",
       "  'start': '00:00:00',\n",
       "  'end': '00:00:07',\n",
       "  'text': \"Bonjour, je m'appelle Yohann. Bonjour, je m'appelle Yohann. Bonjour, je m'appelle Yohann, Bonjour, je m'appelle Yohann, Bonjour, je m'appelle Yohann.\"},\n",
       " {'speaker': 'B',\n",
       "  'start': '00:00:07',\n",
       "  'end': '00:00:13',\n",
       "  'text': \"Bonjour, je m'appelle Loïc. Bonjour, je m'appelle Loïc. Bonjour je m'appelle Bonjour je m'appelle Loïc, Bonjour, je m'appelle Loïc.\"},\n",
       " {'speaker': 'A',\n",
       "  'start': '00:00:13',\n",
       "  'end': '00:00:20',\n",
       "  'text': \"Bonjour, je m'appelle Martin Geoffrey, Bonjour, je m'appelle Martin Geoffrey Bonjour, je m'appelle Martin Geoffrey Bonjour, je m'appelle Martin Geoffrey.\"},\n",
       " {'speaker': 'Loïc',\n",
       "  'start': '00:00:21',\n",
       "  'end': '00:00:27',\n",
       "  'text': 'Une pensée émue à tous les youtubeur qui sortent aussi leur vidéo les dimanches matins mais qui ne feront pas de vues avant ce soir.'},\n",
       " {'speaker': 'Martin',\n",
       "  'start': '00:00:28',\n",
       "  'end': '00:00:30',\n",
       "  'text': 'Objectif 0 abonné en avant réussi.'},\n",
       " {'speaker': 'Martin',\n",
       "  'start': '00:00:30',\n",
       "  'end': '00:00:31',\n",
       "  'text': 'Gégé à moi même.'},\n",
       " {'speaker': 'Martin',\n",
       "  'start': '00:00:32',\n",
       "  'end': '00:00:33',\n",
       "  'text': \"Imaginez s'ils avaient.\"},\n",
       " {'speaker': 'Martin',\n",
       "  'start': '00:00:33',\n",
       "  'end': '00:00:36',\n",
       "  'text': \"S'il avait fait, on appelle des gens au hasard au téléphone.\"},\n",
       " {'speaker': 'Martin',\n",
       "  'start': '00:00:36',\n",
       "  'end': '00:00:37',\n",
       "  'text': 'Avec lui ?'},\n",
       " {'speaker': 'Yoann',\n",
       "  'start': '00:00:39',\n",
       "  'end': '00:00:42',\n",
       "  'text': 'Carlito, vous êtes sanguins ? Non ? Emmanuel Macron, non.'},\n",
       " {'speaker': 'Yoann',\n",
       "  'start': '00:00:43',\n",
       "  'end': '00:00:44',\n",
       "  'text': 'Carlito, je suis mort.'},\n",
       " {'speaker': 'Loïc',\n",
       "  'start': '00:00:46',\n",
       "  'end': '00:00:49',\n",
       "  'text': \"La seule vidéo Youtube au monde qui sera dans les livres d'histoire de France, c'est ouf.\"},\n",
       " {'speaker': 'Martin',\n",
       "  'start': '00:00:50',\n",
       "  'end': '00:00:54',\n",
       "  'text': \"Ça m'étonnerait même pas si la prochaine vidéo et concours d'anecdotes avec Kim Jong-un.\"},\n",
       " {'speaker': 'Loïc',\n",
       "  'start': '00:00:54',\n",
       "  'end': '00:00:57',\n",
       "  'text': \"Ce genre de titre qu'on ne verra presque jamais dans l'histoire de YouTube.\"},\n",
       " {'speaker': 'Yoann',\n",
       "  'start': '00:00:58',\n",
       "  'end': '00:01:03',\n",
       "  'text': '2025E mongols au goulag avec Vladimir Poutine qui fait un backflip.'},\n",
       " {'speaker': 'Yoann', 'start': '00:01:03', 'end': '00:01:04', 'text': '2050.'},\n",
       " {'speaker': 'Yoann',\n",
       "  'start': '00:01:04',\n",
       "  'end': '00:01:07',\n",
       "  'text': 'Cache-cache dans la Fondation SCP avec les reptiliens ?'},\n",
       " {'speaker': 'Loïc',\n",
       "  'start': '00:01:08',\n",
       "  'end': '00:01:09',\n",
       "  'text': 'Bientôt sur votre t-shirt ?'},\n",
       " {'speaker': 'Martin',\n",
       "  'start': '00:01:11',\n",
       "  'end': '00:01:14',\n",
       "  'text': \"N'en faites pas trop quand même. Kylian signé le président.\"}]"
      ]
     },
     "execution_count": 108,
     "metadata": {},
     "output_type": "execute_result"
    }
   ],
   "source": [
    "outputs = diarizer.get_json()"
   ]
  },
  {
   "cell_type": "code",
   "execution_count": null,
   "id": "2922930e",
   "metadata": {
    "ExecuteTime": {
     "end_time": "2021-05-31T14:28:18.022913Z",
     "start_time": "2021-05-31T14:27:07.569819Z"
    }
   },
   "outputs": [],
   "source": [
    "outputs"
   ]
  }
 ],
 "metadata": {
  "kernelspec": {
   "display_name": "Python 3",
   "language": "python",
   "name": "python3"
  },
  "language_info": {
   "codemirror_mode": {
    "name": "ipython",
    "version": 3
   },
   "file_extension": ".py",
   "mimetype": "text/x-python",
   "name": "python",
   "nbconvert_exporter": "python",
   "pygments_lexer": "ipython3",
   "version": "3.8.6"
  },
  "toc": {
   "base_numbering": 1,
   "nav_menu": {},
   "number_sections": true,
   "sideBar": true,
   "skip_h1_title": false,
   "title_cell": "Table of Contents",
   "title_sidebar": "Contents",
   "toc_cell": false,
   "toc_position": {},
   "toc_section_display": true,
   "toc_window_display": false
  }
 },
 "nbformat": 4,
 "nbformat_minor": 5
}
