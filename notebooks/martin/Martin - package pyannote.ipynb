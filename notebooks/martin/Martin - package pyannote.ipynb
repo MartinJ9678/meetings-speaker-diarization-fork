{
 "cells": [
  {
   "cell_type": "code",
   "execution_count": 1,
   "id": "ad48686b",
   "metadata": {
    "ExecuteTime": {
     "end_time": "2021-05-28T10:51:07.429833Z",
     "start_time": "2021-05-28T10:51:07.391988Z"
    }
   },
   "outputs": [],
   "source": [
    "%load_ext autoreload\n",
    "%autoreload 2"
   ]
  },
  {
   "cell_type": "code",
   "execution_count": 111,
   "id": "ce0fd8f5",
   "metadata": {
    "ExecuteTime": {
     "end_time": "2021-05-28T21:19:02.185885Z",
     "start_time": "2021-05-28T21:19:02.009976Z"
    }
   },
   "outputs": [],
   "source": [
    "from msd.SpeakerDiarizer import SpeakerDiarizer"
   ]
  },
  {
   "cell_type": "code",
   "execution_count": 112,
   "id": "9941b4bd",
   "metadata": {
    "ExecuteTime": {
     "end_time": "2021-05-28T21:19:04.261748Z",
     "start_time": "2021-05-28T21:19:02.374595Z"
    },
    "scrolled": false
   },
   "outputs": [
    {
     "name": "stderr",
     "output_type": "stream",
     "text": [
      "Using cache found in /Users/jauffret/.cache/torch/hub/pyannote_pyannote-audio_master\n",
      "Using cache found in /Users/jauffret/.cache/torch/hub/pyannote_pyannote-audio_master\n",
      "Using cache found in /Users/jauffret/.cache/torch/hub/pyannote_pyannote-audio_master\n",
      "Using cache found in /Users/jauffret/.cache/torch/hub/pyannote_pyannote-audio_master\n",
      "/Users/jauffret/.pyenv/versions/3.8.6/envs/lewagon/lib/python3.8/site-packages/pyannote/audio/embedding/approaches/arcface_loss.py:170: FutureWarning: The 's' parameter is deprecated in favor of 'scale', and will be removed in a future release\n",
      "  warnings.warn(msg, FutureWarning)\n",
      "/Users/jauffret/.pyenv/versions/3.8.6/envs/lewagon/lib/python3.8/site-packages/pyannote/audio/features/pretrained.py:156: UserWarning: Model was trained with 4s chunks and is applied on 2s chunks. This might lead to sub-optimal results.\n",
      "  warnings.warn(msg)\n",
      "Using cache found in /Users/jauffret/.cache/torch/hub/pyannote_pyannote-audio_master\n"
     ]
    }
   ],
   "source": [
    "diarizer = SpeakerDiarizer(name_pipe='dia_dihard')"
   ]
  },
  {
   "cell_type": "code",
   "execution_count": 113,
   "id": "5acfdeff",
   "metadata": {
    "ExecuteTime": {
     "end_time": "2021-05-28T21:19:12.454606Z",
     "start_time": "2021-05-28T21:19:12.384674Z"
    }
   },
   "outputs": [],
   "source": [
    "path='data/3speakers_distincts-mcflycarlitodupliquetsoudreduce.wav'"
   ]
  },
  {
   "cell_type": "code",
   "execution_count": 114,
   "id": "6199799b",
   "metadata": {
    "ExecuteTime": {
     "end_time": "2021-05-28T21:26:47.977012Z",
     "start_time": "2021-05-28T21:19:12.938781Z"
    },
    "scrolled": true
   },
   "outputs": [
    {
     "name": "stderr",
     "output_type": "stream",
     "text": [
      "/Users/jauffret/.pyenv/versions/3.8.6/envs/lewagon/lib/python3.8/site-packages/sklearn/cluster/_affinity_propagation.py:148: FutureWarning: 'random_state' has been introduced in 0.23. It will be set to None starting from 1.0 (renaming of 0.25) which means that results will differ at every function call. Set 'random_state' to None to silence this warning, or to 0 to keep the behavior of versions <0.23.\n",
      "  warnings.warn(\n"
     ]
    }
   ],
   "source": [
    "diarizer.apply_diarizer(path)"
   ]
  },
  {
   "cell_type": "code",
   "execution_count": 96,
   "id": "50e68b24",
   "metadata": {
    "ExecuteTime": {
     "end_time": "2021-05-28T16:01:57.202170Z",
     "start_time": "2021-05-28T16:01:57.134653Z"
    }
   },
   "outputs": [],
   "source": [
    "diarizer.write_rttm(path_outputs='outputs/test_reduc_noise_meeting.rttm')"
   ]
  },
  {
   "cell_type": "code",
   "execution_count": 115,
   "id": "05ed003c",
   "metadata": {
    "ExecuteTime": {
     "end_time": "2021-05-28T21:28:52.634804Z",
     "start_time": "2021-05-28T21:28:52.053902Z"
    }
   },
   "outputs": [
    {
     "data": {
      "image/png": "[encoded data removed]",
      "text/plain": [
       "<pyannote.core.annotation.Annotation at 0x13d53a970>"
      ]
     },
     "execution_count": 115,
     "metadata": {},
     "output_type": "execute_result"
    }
   ],
   "source": [
    "diarizer.diarization"
   ]
  },
  {
   "cell_type": "code",
   "execution_count": 9,
   "id": "9b3d2973",
   "metadata": {
    "ExecuteTime": {
     "end_time": "2021-05-28T11:09:30.320551Z",
     "start_time": "2021-05-28T11:09:30.241418Z"
    }
   },
   "outputs": [],
   "source": [
    "from pyannote.metrics.segmentation import SegmentationPurityCoverageFMeasure"
   ]
  },
  {
   "cell_type": "code",
   "execution_count": 10,
   "id": "8b5316f9",
   "metadata": {
    "ExecuteTime": {
     "end_time": "2021-05-28T11:10:15.733213Z",
     "start_time": "2021-05-28T11:10:15.660420Z"
    }
   },
   "outputs": [],
   "source": [
    "metric_pur_cov = SegmentationPurityCoverageFMeasure()"
   ]
  },
  {
   "cell_type": "code",
   "execution_count": 18,
   "id": "7383f829",
   "metadata": {
    "ExecuteTime": {
     "end_time": "2021-05-28T11:24:46.026709Z",
     "start_time": "2021-05-28T11:24:45.952915Z"
    }
   },
   "outputs": [],
   "source": [
    "from pyannote.database.util import load_rttm"
   ]
  },
  {
   "cell_type": "code",
   "execution_count": 19,
   "id": "8f6f59b3",
   "metadata": {
    "ExecuteTime": {
     "end_time": "2021-05-28T11:25:21.171881Z",
     "start_time": "2021-05-28T11:25:21.001616Z"
    }
   },
   "outputs": [],
   "source": [
    "reference = load_rttm('outputs/groundtruth/martin2_gt.rttm')"
   ]
  },
  {
   "cell_type": "code",
   "execution_count": 25,
   "id": "07aaf6f6",
   "metadata": {
    "ExecuteTime": {
     "end_time": "2021-05-28T11:26:51.186645Z",
     "start_time": "2021-05-28T11:26:51.095671Z"
    }
   },
   "outputs": [
    {
     "data": {
      "text/plain": [
       "pyannote.core.annotation.Annotation"
      ]
     },
     "execution_count": 25,
     "metadata": {},
     "output_type": "execute_result"
    }
   ],
   "source": [
    "type(reference['121-127105'])"
   ]
  },
  {
   "cell_type": "code",
   "execution_count": 28,
   "id": "77d298a4",
   "metadata": {
    "ExecuteTime": {
     "end_time": "2021-05-28T12:40:38.861683Z",
     "start_time": "2021-05-28T12:40:38.700104Z"
    }
   },
   "outputs": [
    {
     "name": "stderr",
     "output_type": "stream",
     "text": [
      "Using cache found in /Users/jauffret/.cache/torch/hub/pyannote_pyannote-audio_master\n"
     ]
    },
    {
     "data": {
      "text/plain": [
       "['dia',\n",
       " 'dia_ami',\n",
       " 'dia_dihard',\n",
       " 'emb',\n",
       " 'emb_ami',\n",
       " 'emb_voxceleb',\n",
       " 'ovl',\n",
       " 'ovl_ami',\n",
       " 'ovl_dihard',\n",
       " 'sad',\n",
       " 'sad_ami',\n",
       " 'sad_dihard',\n",
       " 'scd',\n",
       " 'scd_ami',\n",
       " 'scd_dihard']"
      ]
     },
     "execution_count": 28,
     "metadata": {},
     "output_type": "execute_result"
    }
   ],
   "source": [
    "import torch\n",
    "torch.hub.list('pyannote/pyannote-audio')"
   ]
  },
  {
   "cell_type": "code",
   "execution_count": 27,
   "id": "9903de0d",
   "metadata": {
    "ExecuteTime": {
     "end_time": "2021-05-28T11:27:16.978985Z",
     "start_time": "2021-05-28T11:27:16.867864Z"
    },
    "scrolled": true
   },
   "outputs": [
    {
     "data": {
      "text/plain": [
       "{'cvg total duration': 197.20731250000003,\n",
       " 'pty total duration': 197.20731250000003,\n",
       " 'cvg intersection duration': 130.26049999999998,\n",
       " 'pty intersection duration': 197.20731250000006}"
      ]
     },
     "execution_count": 27,
     "metadata": {},
     "output_type": "execute_result"
    }
   ],
   "source": [
    "metric_pur_cov.compute_components(reference['121-127105'],diarizer.diarization)"
   ]
  },
  {
   "cell_type": "code",
   "execution_count": 68,
   "id": "fd9c210f",
   "metadata": {
    "ExecuteTime": {
     "end_time": "2021-05-28T14:59:14.955503Z",
     "start_time": "2021-05-28T14:59:14.797833Z"
    }
   },
   "outputs": [
    {
     "name": "stdout",
     "output_type": "stream",
     "text": [
      "Speaker \"A\" speaks between t=11.5s and t=12.5s.\n",
      "Speaker \"A\" speaks between t=14.0s and t=108.2s.\n",
      "Speaker \"47\" speaks between t=108.2s and t=109.0s.\n",
      "Speaker \"48\" speaks between t=109.0s and t=110.7s.\n",
      "Speaker \"A\" speaks between t=110.7s and t=144.0s.\n",
      "Speaker \"79\" speaks between t=144.0s and t=145.1s.\n"
     ]
    }
   ],
   "source": [
    "diarizer.print_outputs()"
   ]
  },
  {
   "cell_type": "code",
   "execution_count": 18,
   "id": "8d829e08",
   "metadata": {
    "ExecuteTime": {
     "end_time": "2021-05-27T14:21:46.557736Z",
     "start_time": "2021-05-27T14:21:46.435658Z"
    }
   },
   "outputs": [
    {
     "name": "stdout",
     "output_type": "stream",
     "text": [
      "{'correct': 178.08065624999995, 'false alarm': 3.3476249999999856, 'confusion': 7.154906249999961, 'missed detection': 7.514437500000156, 'total': 192.75000000000006, 'diarization error rate': 0.09347324902723786}\n"
     ]
    }
   ],
   "source": [
    "diarizer.score('outputs/groundtruth/martin2_gt.rttm')"
   ]
  },
  {
   "cell_type": "code",
   "execution_count": 44,
   "id": "50cfadba",
   "metadata": {
    "ExecuteTime": {
     "end_time": "2021-05-28T14:17:25.663114Z",
     "start_time": "2021-05-28T14:17:25.598329Z"
    }
   },
   "outputs": [],
   "source": [
    "from dotenv import load_dotenv"
   ]
  },
  {
   "cell_type": "code",
   "execution_count": 45,
   "id": "e2261988",
   "metadata": {
    "ExecuteTime": {
     "end_time": "2021-05-28T14:17:26.745736Z",
     "start_time": "2021-05-28T14:17:26.674289Z"
    }
   },
   "outputs": [
    {
     "data": {
      "text/plain": [
       "True"
      ]
     },
     "execution_count": 45,
     "metadata": {},
     "output_type": "execute_result"
    }
   ],
   "source": [
    "load_dotenv()"
   ]
  },
  {
   "cell_type": "code",
   "execution_count": 116,
   "id": "3afa025b",
   "metadata": {
    "ExecuteTime": {
     "end_time": "2021-05-28T21:29:06.741069Z",
     "start_time": "2021-05-28T21:29:06.653824Z"
    }
   },
   "outputs": [],
   "source": [
    "from msd.SpeakerAward import SpeakerAward"
   ]
  },
  {
   "cell_type": "code",
   "execution_count": 117,
   "id": "e603f09c",
   "metadata": {
    "ExecuteTime": {
     "end_time": "2021-05-28T21:29:07.775298Z",
     "start_time": "2021-05-28T21:29:07.693902Z"
    }
   },
   "outputs": [],
   "source": [
    "award = SpeakerAward(diarizer)"
   ]
  },
  {
   "cell_type": "code",
   "execution_count": 118,
   "id": "f207e471",
   "metadata": {
    "ExecuteTime": {
     "end_time": "2021-05-28T21:29:08.573690Z",
     "start_time": "2021-05-28T21:29:08.501774Z"
    }
   },
   "outputs": [
    {
     "data": {
      "text/plain": [
       "'data/3speakers_distincts-mcflycarlitodupliquetsoudreduce.wav'"
      ]
     },
     "execution_count": 118,
     "metadata": {},
     "output_type": "execute_result"
    }
   ],
   "source": [
    "diarizer.current_filename"
   ]
  },
  {
   "cell_type": "code",
   "execution_count": 119,
   "id": "37cec8b3",
   "metadata": {
    "ExecuteTime": {
     "end_time": "2021-05-28T21:30:17.329329Z",
     "start_time": "2021-05-28T21:29:10.142002Z"
    }
   },
   "outputs": [
    {
     "data": {
      "text/plain": [
       "[{'speaker': 'B',\n",
       "  'start': '00:00:00',\n",
       "  'end': '00:00:06',\n",
       "  'text': 'Une pensée émue à tous les youtubeur qui sortent aussi leur vidéo les dimanches matins mais qui ne feront pas de vues avant ce soir.'},\n",
       " {'speaker': 'A',\n",
       "  'start': '00:00:07',\n",
       "  'end': '00:00:10',\n",
       "  'text': 'Objectif 0 abonné en avant réussi.'},\n",
       " {'speaker': 'A',\n",
       "  'start': '00:00:10',\n",
       "  'end': '00:00:11',\n",
       "  'text': 'Gégé à moi même.'},\n",
       " {'speaker': 'A',\n",
       "  'start': '00:00:11',\n",
       "  'end': '00:00:13',\n",
       "  'text': \"Imaginez s'ils avaient.\"},\n",
       " {'speaker': 'A',\n",
       "  'start': '00:00:13',\n",
       "  'end': '00:00:16',\n",
       "  'text': \"S'ils avaient fait, on appelle des gens au hasard au téléphone.\"},\n",
       " {'speaker': 'A',\n",
       "  'start': '00:00:16',\n",
       "  'end': '00:00:17',\n",
       "  'text': 'Avec lui ?'},\n",
       " {'speaker': 'C',\n",
       "  'start': '00:00:18',\n",
       "  'end': '00:00:22',\n",
       "  'text': 'Carlito, vous êtes sanguin ? Non ? Emmanuel Macron, non.'},\n",
       " {'speaker': 'C',\n",
       "  'start': '00:00:22',\n",
       "  'end': '00:00:24',\n",
       "  'text': 'Carlito, je suis mort.'},\n",
       " {'speaker': 'B',\n",
       "  'start': '00:00:25',\n",
       "  'end': '00:00:29',\n",
       "  'text': \"La seule vidéo Youtube au monde qui sera dans les livres d'histoire de France, c'est ouf.\"},\n",
       " {'speaker': 'A',\n",
       "  'start': '00:00:29',\n",
       "  'end': '00:00:33',\n",
       "  'text': \"Ça m'étonnerait même pas si la prochaine vidéo et concours d'anecdotes avec Kim Jong-un.\"},\n",
       " {'speaker': 'B',\n",
       "  'start': '00:00:34',\n",
       "  'end': '00:00:37',\n",
       "  'text': \"Ce genre de titre qu'on ne verra presque jamais dans l'histoire de YouTube.\"},\n",
       " {'speaker': 'C',\n",
       "  'start': '00:00:38',\n",
       "  'end': '00:00:42',\n",
       "  'text': '2025E mangues au goulag avec Vladimir Poutine qui fait un backflip.'},\n",
       " {'speaker': 'C', 'start': '00:00:43', 'end': '00:00:43', 'text': '2050.'},\n",
       " {'speaker': 'C',\n",
       "  'start': '00:00:44',\n",
       "  'end': '00:00:47',\n",
       "  'text': 'Cache-cache dans la Fondation SCP avec les reptiliens ?'},\n",
       " {'speaker': 'B',\n",
       "  'start': '00:00:48',\n",
       "  'end': '00:00:49',\n",
       "  'text': 'Bientôt sur votre t-shirt ?'},\n",
       " {'speaker': 'A',\n",
       "  'start': '00:00:51',\n",
       "  'end': '00:00:54',\n",
       "  'text': \"N'en faites pas trop quand même. Kylian signé le président.\"},\n",
       " {'speaker': 'A', 'start': '00:00:55', 'end': '00:00:55', 'text': ''},\n",
       " {'speaker': 'A', 'start': '00:00:57', 'end': '00:00:57', 'text': ''},\n",
       " {'speaker': 'B',\n",
       "  'start': '00:00:58',\n",
       "  'end': '00:01:04',\n",
       "  'text': 'Une pensée émue à tous les youtubeur qui sortent aussi leur vidéo les dimanches matins mais qui ne feront pas de vues avant ce soir.'},\n",
       " {'speaker': 'A',\n",
       "  'start': '00:01:05',\n",
       "  'end': '00:01:07',\n",
       "  'text': 'Objectif 0 abonné en avant réussi.'},\n",
       " {'speaker': 'A',\n",
       "  'start': '00:01:08',\n",
       "  'end': '00:01:08',\n",
       "  'text': 'Gégé à moi même.'},\n",
       " {'speaker': 'A',\n",
       "  'start': '00:01:09',\n",
       "  'end': '00:01:10',\n",
       "  'text': \"Imaginez s'ils avaient.\"},\n",
       " {'speaker': 'A',\n",
       "  'start': '00:01:11',\n",
       "  'end': '00:01:13',\n",
       "  'text': \"Si j'avais fait, on appelle des gens au hasard au téléphone.\"},\n",
       " {'speaker': 'A',\n",
       "  'start': '00:01:14',\n",
       "  'end': '00:01:14',\n",
       "  'text': 'Avec lui ?'},\n",
       " {'speaker': 'C',\n",
       "  'start': '00:01:16',\n",
       "  'end': '00:01:20',\n",
       "  'text': 'Carlito, vous êtes sanguins ? Non ? Emmanuel Macron, non.'},\n",
       " {'speaker': 'C',\n",
       "  'start': '00:01:20',\n",
       "  'end': '00:01:22',\n",
       "  'text': 'Carlito, je suis mort.'},\n",
       " {'speaker': 'B',\n",
       "  'start': '00:01:23',\n",
       "  'end': '00:01:26',\n",
       "  'text': \"La seule vidéo Youtube au monde qui sera dans les livres d'histoire de France, c'est ouf.\"},\n",
       " {'speaker': 'A',\n",
       "  'start': '00:01:27',\n",
       "  'end': '00:01:31',\n",
       "  'text': \"Ça m'étonnerait même pas si la prochaine vidéo et concours de anecdote avec Kim Jong-un.\"},\n",
       " {'speaker': 'B',\n",
       "  'start': '00:01:32',\n",
       "  'end': '00:01:34',\n",
       "  'text': \"Ce genre de titre qu'on ne verra presque jamais dans l'histoire de YouTube.\"},\n",
       " {'speaker': 'C',\n",
       "  'start': '00:01:36',\n",
       "  'end': '00:01:40',\n",
       "  'text': '2025E mongols au goulag avec Vladimir Poutine qui fait un backflip.'},\n",
       " {'speaker': 'C', 'start': '00:01:40', 'end': '00:01:41', 'text': '2050.'},\n",
       " {'speaker': 'C',\n",
       "  'start': '00:01:41',\n",
       "  'end': '00:01:44',\n",
       "  'text': 'Cache-cache dans la Fondation SCP avec les reptiliens ?'},\n",
       " {'speaker': 'B',\n",
       "  'start': '00:01:45',\n",
       "  'end': '00:01:46',\n",
       "  'text': 'Bientôt sur votre t-shirt ?'},\n",
       " {'speaker': 'A',\n",
       "  'start': '00:01:48',\n",
       "  'end': '00:01:52',\n",
       "  'text': \"N'en faites pas trop quand même. Kylian signé le président.\"},\n",
       " {'speaker': 'A', 'start': '00:01:52', 'end': '00:01:53', 'text': ''},\n",
       " {'speaker': 'A', 'start': '00:01:55', 'end': '00:01:55', 'text': ''},\n",
       " {'speaker': 'C', 'start': '00:01:55', 'end': '00:01:55', 'text': ''},\n",
       " {'speaker': 'B',\n",
       "  'start': '00:01:56',\n",
       "  'end': '00:02:02',\n",
       "  'text': 'Une pensée émue à tous les youtubeur qui sortent aussi leur vidéo les dimanches matins mais qui ne feront pas de vues avant ce soir.'},\n",
       " {'speaker': 'A',\n",
       "  'start': '00:02:03',\n",
       "  'end': '00:02:05',\n",
       "  'text': 'Objectif 0 abonné en avant réussi.'},\n",
       " {'speaker': 'A',\n",
       "  'start': '00:02:05',\n",
       "  'end': '00:02:06',\n",
       "  'text': 'Gégé à moi même.'},\n",
       " {'speaker': 'A',\n",
       "  'start': '00:02:07',\n",
       "  'end': '00:02:08',\n",
       "  'text': \"Imaginez s'ils avaient.\"},\n",
       " {'speaker': 'A',\n",
       "  'start': '00:02:08',\n",
       "  'end': '00:02:11',\n",
       "  'text': \"S'ils avaient fait, on appelle des gens au hasard au téléphone.\"},\n",
       " {'speaker': 'A',\n",
       "  'start': '00:02:11',\n",
       "  'end': '00:02:12',\n",
       "  'text': 'Avec lui ?'},\n",
       " {'speaker': 'C', 'start': '00:02:13', 'end': '00:02:13', 'text': ''},\n",
       " {'speaker': 'C',\n",
       "  'start': '00:02:14',\n",
       "  'end': '00:02:17',\n",
       "  'text': 'Carlito, vous êtes sanguins ? Non ? Emmanuel Macron, non.'},\n",
       " {'speaker': 'C',\n",
       "  'start': '00:02:18',\n",
       "  'end': '00:02:19',\n",
       "  'text': 'Carlito, je suis mort.'},\n",
       " {'speaker': 'B',\n",
       "  'start': '00:02:21',\n",
       "  'end': '00:02:24',\n",
       "  'text': \"La seule vidéo Youtube au monde qui sera dans les livres d'histoire de France, c'est ouf.\"},\n",
       " {'speaker': 'A',\n",
       "  'start': '00:02:25',\n",
       "  'end': '00:02:29',\n",
       "  'text': \"Ça m'étonnerait même pas si la prochaine vidéo et concours de anecdote avec Kim Jong-un.\"},\n",
       " {'speaker': 'B',\n",
       "  'start': '00:02:29',\n",
       "  'end': '00:02:32',\n",
       "  'text': \"Ce genre de titre qu'on ne verra presque jamais dans l'histoire de YouTube.\"},\n",
       " {'speaker': 'C',\n",
       "  'start': '00:02:33',\n",
       "  'end': '00:02:38',\n",
       "  'text': '2025E mongols au goulag avec Vladimir Poutine qui fait un backflip.'},\n",
       " {'speaker': 'C', 'start': '00:02:38', 'end': '00:02:39', 'text': '2050.'},\n",
       " {'speaker': 'C',\n",
       "  'start': '00:02:39',\n",
       "  'end': '00:02:42',\n",
       "  'text': 'Cache-cache dans la Fondation SCP avec les reptiliens ?'},\n",
       " {'speaker': 'B',\n",
       "  'start': '00:02:43',\n",
       "  'end': '00:02:44',\n",
       "  'text': 'Bientôt sur votre t-shirt ?'},\n",
       " {'speaker': 'A',\n",
       "  'start': '00:02:46',\n",
       "  'end': '00:02:49',\n",
       "  'text': \"N'en faites pas trop quand même. Kylian signé le président.\"},\n",
       " {'speaker': 'A', 'start': '00:02:50', 'end': '00:02:51', 'text': ''},\n",
       " {'speaker': 'A', 'start': '00:02:52', 'end': '00:02:53', 'text': ''}]"
      ]
     },
     "execution_count": 119,
     "metadata": {},
     "output_type": "execute_result"
    }
   ],
   "source": [
    "json_outputs = award.get_json()\n",
    "json_outputs"
   ]
  },
  {
   "cell_type": "code",
   "execution_count": null,
   "id": "21c30c11",
   "metadata": {},
   "outputs": [],
   "source": []
  }
 ],
 "metadata": {
  "kernelspec": {
   "display_name": "Python 3",
   "language": "python",
   "name": "python3"
  },
  "language_info": {
   "codemirror_mode": {
    "name": "ipython",
    "version": 3
   },
   "file_extension": ".py",
   "mimetype": "text/x-python",
   "name": "python",
   "nbconvert_exporter": "python",
   "pygments_lexer": "ipython3",
   "version": "3.8.6"
  },
  "toc": {
   "base_numbering": 1,
   "nav_menu": {},
   "number_sections": true,
   "sideBar": true,
   "skip_h1_title": false,
   "title_cell": "Table of Contents",
   "title_sidebar": "Contents",
   "toc_cell": false,
   "toc_position": {},
   "toc_section_display": true,
   "toc_window_display": false
  }
 },
 "nbformat": 4,
 "nbformat_minor": 5
}
