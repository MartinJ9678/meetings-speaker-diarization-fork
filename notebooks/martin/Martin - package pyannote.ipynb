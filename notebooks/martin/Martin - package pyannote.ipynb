{
 "cells": [
  {
   "cell_type": "code",
   "execution_count": 6,
   "id": "ad48686b",
   "metadata": {
    "ExecuteTime": {
     "end_time": "2021-05-27T12:52:00.102577Z",
     "start_time": "2021-05-27T12:52:00.072426Z"
    }
   },
   "outputs": [],
   "source": [
    "%load_ext autoreload\n",
    "%autoreload 2"
   ]
  },
  {
   "cell_type": "code",
   "execution_count": 7,
   "id": "ce0fd8f5",
   "metadata": {
    "ExecuteTime": {
     "end_time": "2021-05-27T12:52:10.001093Z",
     "start_time": "2021-05-27T12:52:01.180417Z"
    }
   },
   "outputs": [],
   "source": [
    "from msd.SpeakerDiarizer import SpeakerDiarizer"
   ]
  },
  {
   "cell_type": "code",
   "execution_count": 8,
   "id": "9941b4bd",
   "metadata": {
    "ExecuteTime": {
     "end_time": "2021-05-27T12:52:19.460876Z",
     "start_time": "2021-05-27T12:52:11.191157Z"
    },
    "scrolled": true
   },
   "outputs": [
    {
     "name": "stderr",
     "output_type": "stream",
     "text": [
      "Using cache found in /Users/jauffret/.cache/torch/hub/pyannote_pyannote-audio_master\n",
      "Using cache found in /Users/jauffret/.cache/torch/hub/pyannote_pyannote-audio_master\n",
      "Using cache found in /Users/jauffret/.cache/torch/hub/pyannote_pyannote-audio_master\n",
      "Using cache found in /Users/jauffret/.cache/torch/hub/pyannote_pyannote-audio_master\n",
      "/Users/jauffret/.pyenv/versions/3.8.6/envs/lewagon/lib/python3.8/site-packages/pyannote/audio/embedding/approaches/arcface_loss.py:170: FutureWarning: The 's' parameter is deprecated in favor of 'scale', and will be removed in a future release\n",
      "  warnings.warn(msg, FutureWarning)\n",
      "/Users/jauffret/.pyenv/versions/3.8.6/envs/lewagon/lib/python3.8/site-packages/pyannote/audio/features/pretrained.py:156: UserWarning: Model was trained with 4s chunks and is applied on 2s chunks. This might lead to sub-optimal results.\n",
      "  warnings.warn(msg)\n",
      "Using cache found in /Users/jauffret/.cache/torch/hub/pyannote_pyannote-audio_master\n"
     ]
    }
   ],
   "source": [
    "diarizer = SpeakerDiarizer(name_pipe='dia')"
   ]
  },
  {
   "cell_type": "code",
   "execution_count": 9,
   "id": "5acfdeff",
   "metadata": {
    "ExecuteTime": {
     "end_time": "2021-05-27T12:52:20.735920Z",
     "start_time": "2021-05-27T12:52:20.673471Z"
    }
   },
   "outputs": [],
   "source": [
    "path='data/martin2.wav'"
   ]
  },
  {
   "cell_type": "code",
   "execution_count": 10,
   "id": "6199799b",
   "metadata": {
    "ExecuteTime": {
     "end_time": "2021-05-27T12:53:47.113610Z",
     "start_time": "2021-05-27T12:52:21.787377Z"
    },
    "scrolled": true
   },
   "outputs": [
    {
     "ename": "KeyboardInterrupt",
     "evalue": "",
     "output_type": "error",
     "traceback": [
      "\u001b[0;31m---------------------------------------------------------------------------\u001b[0m",
      "\u001b[0;31mKeyboardInterrupt\u001b[0m                         Traceback (most recent call last)",
      "\u001b[0;32m<ipython-input-10-69c2ffdcd25b>\u001b[0m in \u001b[0;36m<module>\u001b[0;34m\u001b[0m\n\u001b[0;32m----> 1\u001b[0;31m \u001b[0mdiarizer\u001b[0m\u001b[0;34m.\u001b[0m\u001b[0mapply_diarizer\u001b[0m\u001b[0;34m(\u001b[0m\u001b[0mpath\u001b[0m\u001b[0;34m)\u001b[0m\u001b[0;34m\u001b[0m\u001b[0;34m\u001b[0m\u001b[0m\n\u001b[0m",
      "\u001b[0;32m~/code/MartinJ9678/meetings-speaker-diarization/msd/SpeakerDiarizer.py\u001b[0m in \u001b[0;36mapply_diarizer\u001b[0;34m(self, file_name)\u001b[0m\n\u001b[1;32m     13\u001b[0m     \u001b[0;32mdef\u001b[0m \u001b[0mapply_diarizer\u001b[0m\u001b[0;34m(\u001b[0m\u001b[0mself\u001b[0m\u001b[0;34m,\u001b[0m\u001b[0mfile_name\u001b[0m\u001b[0;34m)\u001b[0m\u001b[0;34m:\u001b[0m\u001b[0;34m\u001b[0m\u001b[0;34m\u001b[0m\u001b[0m\n\u001b[1;32m     14\u001b[0m         \u001b[0;31m# apply diarization pipeline on your audio file\u001b[0m\u001b[0;34m\u001b[0m\u001b[0;34m\u001b[0m\u001b[0;34m\u001b[0m\u001b[0m\n\u001b[0;32m---> 15\u001b[0;31m         \u001b[0mself\u001b[0m\u001b[0;34m.\u001b[0m\u001b[0mdiarization\u001b[0m \u001b[0;34m=\u001b[0m \u001b[0mself\u001b[0m\u001b[0;34m.\u001b[0m\u001b[0mpipeline\u001b[0m\u001b[0;34m(\u001b[0m\u001b[0;34m{\u001b[0m\u001b[0;34m'audio'\u001b[0m \u001b[0;34m:\u001b[0m \u001b[0mfile_name\u001b[0m\u001b[0;34m}\u001b[0m\u001b[0;34m)\u001b[0m\u001b[0;34m\u001b[0m\u001b[0;34m\u001b[0m\u001b[0m\n\u001b[0m\u001b[1;32m     16\u001b[0m \u001b[0;34m\u001b[0m\u001b[0m\n\u001b[1;32m     17\u001b[0m     \u001b[0;32mdef\u001b[0m \u001b[0mwrite_rttm\u001b[0m\u001b[0;34m(\u001b[0m\u001b[0mself\u001b[0m\u001b[0;34m,\u001b[0m\u001b[0mpath_outputs\u001b[0m\u001b[0;34m)\u001b[0m\u001b[0;34m:\u001b[0m\u001b[0;34m\u001b[0m\u001b[0;34m\u001b[0m\u001b[0m\n",
      "\u001b[0;32m~/.pyenv/versions/3.8.6/envs/lewagon/lib/python3.8/site-packages/pyannote/audio/pipeline/speaker_diarization.py\u001b[0m in \u001b[0;36m__call__\u001b[0;34m(self, current_file)\u001b[0m\n\u001b[1;32m    152\u001b[0m \u001b[0;34m\u001b[0m\u001b[0m\n\u001b[1;32m    153\u001b[0m         \u001b[0;31m# segmentation into speech turns\u001b[0m\u001b[0;34m\u001b[0m\u001b[0;34m\u001b[0m\u001b[0;34m\u001b[0m\u001b[0m\n\u001b[0;32m--> 154\u001b[0;31m         \u001b[0mspeech_turns\u001b[0m \u001b[0;34m=\u001b[0m \u001b[0mself\u001b[0m\u001b[0;34m.\u001b[0m\u001b[0mspeech_turn_segmentation\u001b[0m\u001b[0;34m(\u001b[0m\u001b[0mcurrent_file\u001b[0m\u001b[0;34m)\u001b[0m\u001b[0;34m\u001b[0m\u001b[0;34m\u001b[0m\u001b[0m\n\u001b[0m\u001b[1;32m    155\u001b[0m \u001b[0;34m\u001b[0m\u001b[0m\n\u001b[1;32m    156\u001b[0m         \u001b[0;31m# some files are only partially annotated and therefore one cannot\u001b[0m\u001b[0;34m\u001b[0m\u001b[0;34m\u001b[0m\u001b[0;34m\u001b[0m\u001b[0m\n",
      "\u001b[0;32m~/.pyenv/versions/3.8.6/envs/lewagon/lib/python3.8/site-packages/pyannote/audio/pipeline/speech_turn_segmentation.py\u001b[0m in \u001b[0;36m__call__\u001b[0;34m(self, current_file)\u001b[0m\n\u001b[1;32m    121\u001b[0m \u001b[0;34m\u001b[0m\u001b[0m\n\u001b[1;32m    122\u001b[0m         \u001b[0;31m# speech regions\u001b[0m\u001b[0;34m\u001b[0m\u001b[0;34m\u001b[0m\u001b[0;34m\u001b[0m\u001b[0m\n\u001b[0;32m--> 123\u001b[0;31m         \u001b[0msad\u001b[0m \u001b[0;34m=\u001b[0m \u001b[0mself\u001b[0m\u001b[0;34m.\u001b[0m\u001b[0mspeech_activity_detection\u001b[0m\u001b[0;34m(\u001b[0m\u001b[0mcurrent_file\u001b[0m\u001b[0;34m)\u001b[0m\u001b[0;34m.\u001b[0m\u001b[0mget_timeline\u001b[0m\u001b[0;34m(\u001b[0m\u001b[0;34m)\u001b[0m\u001b[0;34m\u001b[0m\u001b[0;34m\u001b[0m\u001b[0m\n\u001b[0m\u001b[1;32m    124\u001b[0m \u001b[0;34m\u001b[0m\u001b[0m\n\u001b[1;32m    125\u001b[0m         \u001b[0mscd\u001b[0m \u001b[0;34m=\u001b[0m \u001b[0mself\u001b[0m\u001b[0;34m.\u001b[0m\u001b[0mspeaker_change_detection\u001b[0m\u001b[0;34m(\u001b[0m\u001b[0mcurrent_file\u001b[0m\u001b[0;34m)\u001b[0m\u001b[0;34m\u001b[0m\u001b[0;34m\u001b[0m\u001b[0m\n",
      "\u001b[0;32m~/.pyenv/versions/3.8.6/envs/lewagon/lib/python3.8/site-packages/pyannote/audio/pipeline/speech_activity_detection.py\u001b[0m in \u001b[0;36m__call__\u001b[0;34m(self, current_file)\u001b[0m\n\u001b[1;32m    137\u001b[0m         \"\"\"\n\u001b[1;32m    138\u001b[0m \u001b[0;34m\u001b[0m\u001b[0m\n\u001b[0;32m--> 139\u001b[0;31m         \u001b[0msad_scores\u001b[0m \u001b[0;34m=\u001b[0m \u001b[0mself\u001b[0m\u001b[0;34m.\u001b[0m\u001b[0m_scores\u001b[0m\u001b[0;34m(\u001b[0m\u001b[0mcurrent_file\u001b[0m\u001b[0;34m)\u001b[0m\u001b[0;34m\u001b[0m\u001b[0;34m\u001b[0m\u001b[0m\n\u001b[0m\u001b[1;32m    140\u001b[0m \u001b[0;34m\u001b[0m\u001b[0m\n\u001b[1;32m    141\u001b[0m         \u001b[0;31m# if this check has not been done yet, do it once and for all\u001b[0m\u001b[0;34m\u001b[0m\u001b[0;34m\u001b[0m\u001b[0;34m\u001b[0m\u001b[0m\n",
      "\u001b[0;32m~/.pyenv/versions/3.8.6/envs/lewagon/lib/python3.8/site-packages/pyannote/audio/features/wrapper.py\u001b[0m in \u001b[0;36m__call__\u001b[0;34m(self, current_file)\u001b[0m\n\u001b[1;32m    278\u001b[0m             \u001b[0mFrames\u001b[0m\u001b[0;34m.\u001b[0m\u001b[0;34m\u001b[0m\u001b[0;34m\u001b[0m\u001b[0m\n\u001b[1;32m    279\u001b[0m         \"\"\"\n\u001b[0;32m--> 280\u001b[0;31m         \u001b[0;32mreturn\u001b[0m \u001b[0mself\u001b[0m\u001b[0;34m.\u001b[0m\u001b[0mscorer_\u001b[0m\u001b[0;34m(\u001b[0m\u001b[0mcurrent_file\u001b[0m\u001b[0;34m)\u001b[0m\u001b[0;34m\u001b[0m\u001b[0;34m\u001b[0m\u001b[0m\n\u001b[0m\u001b[1;32m    281\u001b[0m \u001b[0;34m\u001b[0m\u001b[0m\n\u001b[1;32m    282\u001b[0m     \u001b[0;31m# used to \"inherit\" most scorer_ attributes\u001b[0m\u001b[0;34m\u001b[0m\u001b[0;34m\u001b[0m\u001b[0;34m\u001b[0m\u001b[0m\n",
      "\u001b[0;32m~/.pyenv/versions/3.8.6/envs/lewagon/lib/python3.8/site-packages/pyannote/audio/features/base.py\u001b[0m in \u001b[0;36m__call__\u001b[0;34m(self, current_file)\u001b[0m\n\u001b[1;32m    150\u001b[0m \u001b[0;34m\u001b[0m\u001b[0m\n\u001b[1;32m    151\u001b[0m         \u001b[0;31m# compute features\u001b[0m\u001b[0;34m\u001b[0m\u001b[0;34m\u001b[0m\u001b[0;34m\u001b[0m\u001b[0m\n\u001b[0;32m--> 152\u001b[0;31m         \u001b[0mfeatures\u001b[0m \u001b[0;34m=\u001b[0m \u001b[0mself\u001b[0m\u001b[0;34m.\u001b[0m\u001b[0mget_features\u001b[0m\u001b[0;34m(\u001b[0m\u001b[0my\u001b[0m\u001b[0;34m.\u001b[0m\u001b[0mdata\u001b[0m\u001b[0;34m,\u001b[0m \u001b[0msample_rate\u001b[0m\u001b[0;34m)\u001b[0m\u001b[0;34m\u001b[0m\u001b[0;34m\u001b[0m\u001b[0m\n\u001b[0m\u001b[1;32m    153\u001b[0m \u001b[0;34m\u001b[0m\u001b[0m\n\u001b[1;32m    154\u001b[0m         \u001b[0;31m# basic quality check\u001b[0m\u001b[0;34m\u001b[0m\u001b[0;34m\u001b[0m\u001b[0;34m\u001b[0m\u001b[0m\n",
      "\u001b[0;32m~/.pyenv/versions/3.8.6/envs/lewagon/lib/python3.8/site-packages/pyannote/audio/features/pretrained.py\u001b[0m in \u001b[0;36mget_features\u001b[0;34m(self, y, sample_rate)\u001b[0m\n\u001b[1;32m    224\u001b[0m         )\n\u001b[1;32m    225\u001b[0m \u001b[0;34m\u001b[0m\u001b[0m\n\u001b[0;32m--> 226\u001b[0;31m         return self.model_.slide(\n\u001b[0m\u001b[1;32m    227\u001b[0m             \u001b[0mfeatures\u001b[0m\u001b[0;34m,\u001b[0m\u001b[0;34m\u001b[0m\u001b[0;34m\u001b[0m\u001b[0m\n\u001b[1;32m    228\u001b[0m             \u001b[0mself\u001b[0m\u001b[0;34m.\u001b[0m\u001b[0mchunks_\u001b[0m\u001b[0;34m,\u001b[0m\u001b[0;34m\u001b[0m\u001b[0;34m\u001b[0m\u001b[0m\n",
      "\u001b[0;32m~/.pyenv/versions/3.8.6/envs/lewagon/lib/python3.8/site-packages/pyannote/audio/train/model.py\u001b[0m in \u001b[0;36mslide\u001b[0;34m(self, features, sliding_window, batch_size, device, skip_average, postprocess, return_intermediate, progress_hook)\u001b[0m\n\u001b[1;32m    467\u001b[0m             \u001b[0;31m# FIXME: fix support for return_intermediate\u001b[0m\u001b[0;34m\u001b[0m\u001b[0;34m\u001b[0m\u001b[0;34m\u001b[0m\u001b[0m\n\u001b[1;32m    468\u001b[0m             \u001b[0;32mwith\u001b[0m \u001b[0mtorch\u001b[0m\u001b[0;34m.\u001b[0m\u001b[0mno_grad\u001b[0m\u001b[0;34m(\u001b[0m\u001b[0;34m)\u001b[0m\u001b[0;34m:\u001b[0m\u001b[0;34m\u001b[0m\u001b[0;34m\u001b[0m\u001b[0m\n\u001b[0;32m--> 469\u001b[0;31m                 \u001b[0mtfX\u001b[0m \u001b[0;34m=\u001b[0m \u001b[0mself\u001b[0m\u001b[0;34m(\u001b[0m\u001b[0mtX\u001b[0m\u001b[0;34m,\u001b[0m \u001b[0mreturn_intermediate\u001b[0m\u001b[0;34m=\u001b[0m\u001b[0mreturn_intermediate\u001b[0m\u001b[0;34m)\u001b[0m\u001b[0;34m\u001b[0m\u001b[0;34m\u001b[0m\u001b[0m\n\u001b[0m\u001b[1;32m    470\u001b[0m \u001b[0;34m\u001b[0m\u001b[0m\n\u001b[1;32m    471\u001b[0m             \u001b[0mtfX_npy\u001b[0m \u001b[0;34m=\u001b[0m \u001b[0mtfX\u001b[0m\u001b[0;34m.\u001b[0m\u001b[0mdetach\u001b[0m\u001b[0;34m(\u001b[0m\u001b[0;34m)\u001b[0m\u001b[0;34m.\u001b[0m\u001b[0mto\u001b[0m\u001b[0;34m(\u001b[0m\u001b[0;34m\"cpu\"\u001b[0m\u001b[0;34m)\u001b[0m\u001b[0;34m.\u001b[0m\u001b[0mnumpy\u001b[0m\u001b[0;34m(\u001b[0m\u001b[0;34m)\u001b[0m\u001b[0;34m\u001b[0m\u001b[0;34m\u001b[0m\u001b[0m\n",
      "\u001b[0;32m~/.pyenv/versions/3.8.6/envs/lewagon/lib/python3.8/site-packages/torch/nn/modules/module.py\u001b[0m in \u001b[0;36m_call_impl\u001b[0;34m(self, *input, **kwargs)\u001b[0m\n\u001b[1;32m    887\u001b[0m             \u001b[0mresult\u001b[0m \u001b[0;34m=\u001b[0m \u001b[0mself\u001b[0m\u001b[0;34m.\u001b[0m\u001b[0m_slow_forward\u001b[0m\u001b[0;34m(\u001b[0m\u001b[0;34m*\u001b[0m\u001b[0minput\u001b[0m\u001b[0;34m,\u001b[0m \u001b[0;34m**\u001b[0m\u001b[0mkwargs\u001b[0m\u001b[0;34m)\u001b[0m\u001b[0;34m\u001b[0m\u001b[0;34m\u001b[0m\u001b[0m\n\u001b[1;32m    888\u001b[0m         \u001b[0;32melse\u001b[0m\u001b[0;34m:\u001b[0m\u001b[0;34m\u001b[0m\u001b[0;34m\u001b[0m\u001b[0m\n\u001b[0;32m--> 889\u001b[0;31m             \u001b[0mresult\u001b[0m \u001b[0;34m=\u001b[0m \u001b[0mself\u001b[0m\u001b[0;34m.\u001b[0m\u001b[0mforward\u001b[0m\u001b[0;34m(\u001b[0m\u001b[0;34m*\u001b[0m\u001b[0minput\u001b[0m\u001b[0;34m,\u001b[0m \u001b[0;34m**\u001b[0m\u001b[0mkwargs\u001b[0m\u001b[0;34m)\u001b[0m\u001b[0;34m\u001b[0m\u001b[0;34m\u001b[0m\u001b[0m\n\u001b[0m\u001b[1;32m    890\u001b[0m         for hook in itertools.chain(\n\u001b[1;32m    891\u001b[0m                 \u001b[0m_global_forward_hooks\u001b[0m\u001b[0;34m.\u001b[0m\u001b[0mvalues\u001b[0m\u001b[0;34m(\u001b[0m\u001b[0;34m)\u001b[0m\u001b[0;34m,\u001b[0m\u001b[0;34m\u001b[0m\u001b[0;34m\u001b[0m\u001b[0m\n",
      "\u001b[0;32m~/.pyenv/versions/3.8.6/envs/lewagon/lib/python3.8/site-packages/pyannote/audio/models/models.py\u001b[0m in \u001b[0;36mforward\u001b[0;34m(self, waveforms, return_intermediate)\u001b[0m\n\u001b[1;32m    541\u001b[0m \u001b[0;34m\u001b[0m\u001b[0m\n\u001b[1;32m    542\u001b[0m         \u001b[0;32mif\u001b[0m \u001b[0mreturn_intermediate\u001b[0m \u001b[0;32mis\u001b[0m \u001b[0;32mNone\u001b[0m\u001b[0;34m:\u001b[0m\u001b[0;34m\u001b[0m\u001b[0;34m\u001b[0m\u001b[0m\n\u001b[0;32m--> 543\u001b[0;31m             \u001b[0moutput\u001b[0m \u001b[0;34m=\u001b[0m \u001b[0mself\u001b[0m\u001b[0;34m.\u001b[0m\u001b[0mrnn_\u001b[0m\u001b[0;34m(\u001b[0m\u001b[0moutput\u001b[0m\u001b[0;34m)\u001b[0m\u001b[0;34m\u001b[0m\u001b[0;34m\u001b[0m\u001b[0m\n\u001b[0m\u001b[1;32m    544\u001b[0m         \u001b[0;32melse\u001b[0m\u001b[0;34m:\u001b[0m\u001b[0;34m\u001b[0m\u001b[0;34m\u001b[0m\u001b[0m\n\u001b[1;32m    545\u001b[0m             \u001b[0;32mif\u001b[0m \u001b[0mreturn_intermediate\u001b[0m \u001b[0;34m==\u001b[0m \u001b[0;36m0\u001b[0m\u001b[0;34m:\u001b[0m\u001b[0;34m\u001b[0m\u001b[0;34m\u001b[0m\u001b[0m\n",
      "\u001b[0;32m~/.pyenv/versions/3.8.6/envs/lewagon/lib/python3.8/site-packages/torch/nn/modules/module.py\u001b[0m in \u001b[0;36m_call_impl\u001b[0;34m(self, *input, **kwargs)\u001b[0m\n\u001b[1;32m    887\u001b[0m             \u001b[0mresult\u001b[0m \u001b[0;34m=\u001b[0m \u001b[0mself\u001b[0m\u001b[0;34m.\u001b[0m\u001b[0m_slow_forward\u001b[0m\u001b[0;34m(\u001b[0m\u001b[0;34m*\u001b[0m\u001b[0minput\u001b[0m\u001b[0;34m,\u001b[0m \u001b[0;34m**\u001b[0m\u001b[0mkwargs\u001b[0m\u001b[0;34m)\u001b[0m\u001b[0;34m\u001b[0m\u001b[0;34m\u001b[0m\u001b[0m\n\u001b[1;32m    888\u001b[0m         \u001b[0;32melse\u001b[0m\u001b[0;34m:\u001b[0m\u001b[0;34m\u001b[0m\u001b[0;34m\u001b[0m\u001b[0m\n\u001b[0;32m--> 889\u001b[0;31m             \u001b[0mresult\u001b[0m \u001b[0;34m=\u001b[0m \u001b[0mself\u001b[0m\u001b[0;34m.\u001b[0m\u001b[0mforward\u001b[0m\u001b[0;34m(\u001b[0m\u001b[0;34m*\u001b[0m\u001b[0minput\u001b[0m\u001b[0;34m,\u001b[0m \u001b[0;34m**\u001b[0m\u001b[0mkwargs\u001b[0m\u001b[0;34m)\u001b[0m\u001b[0;34m\u001b[0m\u001b[0;34m\u001b[0m\u001b[0m\n\u001b[0m\u001b[1;32m    890\u001b[0m         for hook in itertools.chain(\n\u001b[1;32m    891\u001b[0m                 \u001b[0m_global_forward_hooks\u001b[0m\u001b[0;34m.\u001b[0m\u001b[0mvalues\u001b[0m\u001b[0;34m(\u001b[0m\u001b[0;34m)\u001b[0m\u001b[0;34m,\u001b[0m\u001b[0;34m\u001b[0m\u001b[0;34m\u001b[0m\u001b[0m\n",
      "\u001b[0;32m~/.pyenv/versions/3.8.6/envs/lewagon/lib/python3.8/site-packages/pyannote/audio/models/models.py\u001b[0m in \u001b[0;36mforward\u001b[0;34m(self, features, return_intermediate)\u001b[0m\n\u001b[1;32m    215\u001b[0m \u001b[0;34m\u001b[0m\u001b[0m\n\u001b[1;32m    216\u001b[0m             \u001b[0;32melse\u001b[0m\u001b[0;34m:\u001b[0m\u001b[0;34m\u001b[0m\u001b[0;34m\u001b[0m\u001b[0m\n\u001b[0;32m--> 217\u001b[0;31m                 \u001b[0moutput\u001b[0m\u001b[0;34m,\u001b[0m \u001b[0mhidden\u001b[0m \u001b[0;34m=\u001b[0m \u001b[0mself\u001b[0m\u001b[0;34m.\u001b[0m\u001b[0mrnn_\u001b[0m\u001b[0;34m(\u001b[0m\u001b[0mfeatures\u001b[0m\u001b[0;34m)\u001b[0m\u001b[0;34m\u001b[0m\u001b[0;34m\u001b[0m\u001b[0m\n\u001b[0m\u001b[1;32m    218\u001b[0m \u001b[0;34m\u001b[0m\u001b[0m\n\u001b[1;32m    219\u001b[0m                 \u001b[0;32mif\u001b[0m \u001b[0mreturn_intermediate\u001b[0m\u001b[0;34m:\u001b[0m\u001b[0;34m\u001b[0m\u001b[0;34m\u001b[0m\u001b[0m\n",
      "\u001b[0;32m~/.pyenv/versions/3.8.6/envs/lewagon/lib/python3.8/site-packages/torch/nn/modules/module.py\u001b[0m in \u001b[0;36m_call_impl\u001b[0;34m(self, *input, **kwargs)\u001b[0m\n\u001b[1;32m    887\u001b[0m             \u001b[0mresult\u001b[0m \u001b[0;34m=\u001b[0m \u001b[0mself\u001b[0m\u001b[0;34m.\u001b[0m\u001b[0m_slow_forward\u001b[0m\u001b[0;34m(\u001b[0m\u001b[0;34m*\u001b[0m\u001b[0minput\u001b[0m\u001b[0;34m,\u001b[0m \u001b[0;34m**\u001b[0m\u001b[0mkwargs\u001b[0m\u001b[0;34m)\u001b[0m\u001b[0;34m\u001b[0m\u001b[0;34m\u001b[0m\u001b[0m\n\u001b[1;32m    888\u001b[0m         \u001b[0;32melse\u001b[0m\u001b[0;34m:\u001b[0m\u001b[0;34m\u001b[0m\u001b[0;34m\u001b[0m\u001b[0m\n\u001b[0;32m--> 889\u001b[0;31m             \u001b[0mresult\u001b[0m \u001b[0;34m=\u001b[0m \u001b[0mself\u001b[0m\u001b[0;34m.\u001b[0m\u001b[0mforward\u001b[0m\u001b[0;34m(\u001b[0m\u001b[0;34m*\u001b[0m\u001b[0minput\u001b[0m\u001b[0;34m,\u001b[0m \u001b[0;34m**\u001b[0m\u001b[0mkwargs\u001b[0m\u001b[0;34m)\u001b[0m\u001b[0;34m\u001b[0m\u001b[0;34m\u001b[0m\u001b[0m\n\u001b[0m\u001b[1;32m    890\u001b[0m         for hook in itertools.chain(\n\u001b[1;32m    891\u001b[0m                 \u001b[0m_global_forward_hooks\u001b[0m\u001b[0;34m.\u001b[0m\u001b[0mvalues\u001b[0m\u001b[0;34m(\u001b[0m\u001b[0;34m)\u001b[0m\u001b[0;34m,\u001b[0m\u001b[0;34m\u001b[0m\u001b[0;34m\u001b[0m\u001b[0m\n",
      "\u001b[0;32m~/.pyenv/versions/3.8.6/envs/lewagon/lib/python3.8/site-packages/torch/nn/modules/rnn.py\u001b[0m in \u001b[0;36mforward\u001b[0;34m(self, input, hx)\u001b[0m\n\u001b[1;32m    659\u001b[0m         \u001b[0mself\u001b[0m\u001b[0;34m.\u001b[0m\u001b[0mcheck_forward_args\u001b[0m\u001b[0;34m(\u001b[0m\u001b[0minput\u001b[0m\u001b[0;34m,\u001b[0m \u001b[0mhx\u001b[0m\u001b[0;34m,\u001b[0m \u001b[0mbatch_sizes\u001b[0m\u001b[0;34m)\u001b[0m\u001b[0;34m\u001b[0m\u001b[0;34m\u001b[0m\u001b[0m\n\u001b[1;32m    660\u001b[0m         \u001b[0;32mif\u001b[0m \u001b[0mbatch_sizes\u001b[0m \u001b[0;32mis\u001b[0m \u001b[0;32mNone\u001b[0m\u001b[0;34m:\u001b[0m\u001b[0;34m\u001b[0m\u001b[0;34m\u001b[0m\u001b[0m\n\u001b[0;32m--> 661\u001b[0;31m             result = _VF.lstm(input, hx, self._flat_weights, self.bias, self.num_layers,\n\u001b[0m\u001b[1;32m    662\u001b[0m                               self.dropout, self.training, self.bidirectional, self.batch_first)\n\u001b[1;32m    663\u001b[0m         \u001b[0;32melse\u001b[0m\u001b[0;34m:\u001b[0m\u001b[0;34m\u001b[0m\u001b[0;34m\u001b[0m\u001b[0m\n",
      "\u001b[0;31mKeyboardInterrupt\u001b[0m: "
     ]
    }
   ],
   "source": [
    "diarizer.apply_diarizer(path)"
   ]
  },
  {
   "cell_type": "code",
   "execution_count": 52,
   "id": "50e68b24",
   "metadata": {
    "ExecuteTime": {
     "end_time": "2021-05-26T16:59:36.256665Z",
     "start_time": "2021-05-26T16:59:35.984552Z"
    }
   },
   "outputs": [],
   "source": [
    "#diarizer.write_rttm(path_outputs='outputs/martin2.rttm')"
   ]
  },
  {
   "cell_type": "code",
   "execution_count": 7,
   "id": "a2718e28",
   "metadata": {
    "ExecuteTime": {
     "end_time": "2021-05-27T08:05:26.102688Z",
     "start_time": "2021-05-27T08:05:25.502373Z"
    }
   },
   "outputs": [
    {
     "data": {
      "image/png": "[encoded data removed]",
      "text/plain": [
       "<pyannote.core.annotation.Annotation at 0x110e95400>"
      ]
     },
     "execution_count": 7,
     "metadata": {},
     "output_type": "execute_result"
    }
   ],
   "source": [
    "diarizer.diarization"
   ]
  },
  {
   "cell_type": "code",
   "execution_count": 8,
   "id": "fd9c210f",
   "metadata": {
    "ExecuteTime": {
     "end_time": "2021-05-27T08:06:30.991414Z",
     "start_time": "2021-05-27T08:06:30.897684Z"
    },
    "scrolled": true
   },
   "outputs": [
    {
     "name": "stdout",
     "output_type": "stream",
     "text": [
      "Speaker \"B\" speaks between t=0.4s and t=3.1s.\n",
      "Speaker \"B\" speaks between t=3.4s and t=5.5s.\n",
      "Speaker \"B\" speaks between t=5.9s and t=11.6s.\n",
      "Speaker \"A\" speaks between t=11.9s and t=13.7s.\n",
      "Speaker \"A\" speaks between t=14.0s and t=17.6s.\n",
      "Speaker \"B\" speaks between t=18.0s and t=21.0s.\n",
      "Speaker \"A\" speaks between t=21.0s and t=25.4s.\n",
      "Speaker \"A\" speaks between t=25.7s and t=31.2s.\n",
      "Speaker \"B\" speaks between t=31.4s and t=34.3s.\n",
      "Speaker \"B\" speaks between t=34.8s and t=37.4s.\n",
      "Speaker \"A\" speaks between t=37.4s and t=41.3s.\n",
      "Speaker \"A\" speaks between t=41.6s and t=44.4s.\n",
      "Speaker \"B\" speaks between t=44.7s and t=46.7s.\n",
      "Speaker \"B\" speaks between t=47.2s and t=48.3s.\n",
      "Speaker \"B\" speaks between t=48.9s and t=52.4s.\n",
      "Speaker \"A\" speaks between t=52.4s and t=56.1s.\n",
      "Speaker \"B\" speaks between t=56.5s and t=57.7s.\n",
      "Speaker \"A\" speaks between t=58.0s and t=61.7s.\n",
      "Speaker \"B\" speaks between t=62.1s and t=64.8s.\n",
      "Speaker \"B\" speaks between t=65.3s and t=67.4s.\n",
      "Speaker \"A\" speaks between t=67.7s and t=69.6s.\n",
      "Speaker \"A\" speaks between t=69.9s and t=73.6s.\n",
      "Speaker \"B\" speaks between t=74.0s and t=75.7s.\n",
      "Speaker \"B\" speaks between t=76.0s and t=78.0s.\n",
      "Speaker \"A\" speaks between t=78.4s and t=83.1s.\n",
      "Speaker \"A\" speaks between t=83.4s and t=84.4s.\n",
      "Speaker \"B\" speaks between t=84.7s and t=86.3s.\n",
      "Speaker \"B\" speaks between t=86.5s and t=89.8s.\n",
      "Speaker \"A\" speaks between t=89.8s and t=92.6s.\n",
      "Speaker \"A\" speaks between t=93.0s and t=95.6s.\n",
      "Speaker \"B\" speaks between t=95.9s and t=98.6s.\n",
      "Speaker \"A\" speaks between t=98.6s and t=104.3s.\n",
      "Speaker \"A\" speaks between t=104.6s and t=107.9s.\n",
      "Speaker \"B\" speaks between t=107.9s and t=110.5s.\n",
      "Speaker \"A\" speaks between t=110.7s and t=112.1s.\n",
      "Speaker \"A\" speaks between t=112.4s and t=114.4s.\n",
      "Speaker \"A\" speaks between t=114.8s and t=116.2s.\n",
      "Speaker \"B\" speaks between t=116.7s and t=119.0s.\n",
      "Speaker \"A\" speaks between t=119.4s and t=122.7s.\n",
      "Speaker \"A\" speaks between t=123.0s and t=124.2s.\n",
      "Speaker \"A\" speaks between t=124.4s and t=125.1s.\n",
      "Speaker \"A\" speaks between t=125.3s and t=127.2s.\n",
      "Speaker \"B\" speaks between t=127.6s and t=130.8s.\n",
      "Speaker \"B\" speaks between t=131.1s and t=133.0s.\n",
      "Speaker \"A\" speaks between t=133.4s and t=136.7s.\n",
      "Speaker \"B\" speaks between t=137.0s and t=141.5s.\n",
      "Speaker \"A\" speaks between t=141.8s and t=144.3s.\n",
      "Speaker \"B\" speaks between t=145.1s and t=149.9s.\n",
      "Speaker \"B\" speaks between t=150.4s and t=151.7s.\n",
      "Speaker \"A\" speaks between t=152.1s and t=154.2s.\n",
      "Speaker \"A\" speaks between t=154.5s and t=155.1s.\n",
      "Speaker \"B\" speaks between t=155.4s and t=156.9s.\n",
      "Speaker \"A\" speaks between t=157.5s and t=160.5s.\n",
      "Speaker \"B\" speaks between t=160.8s and t=163.1s.\n",
      "Speaker \"A\" speaks between t=163.4s and t=165.3s.\n",
      "Speaker \"A\" speaks between t=165.5s and t=168.6s.\n",
      "Speaker \"B\" speaks between t=168.9s and t=170.7s.\n",
      "Speaker \"A\" speaks between t=170.9s and t=172.4s.\n",
      "Speaker \"B\" speaks between t=172.4s and t=175.0s.\n",
      "Speaker \"A\" speaks between t=175.2s and t=177.0s.\n",
      "Speaker \"A\" speaks between t=177.2s and t=180.1s.\n",
      "Speaker \"A\" speaks between t=180.2s and t=182.9s.\n",
      "Speaker \"A\" speaks between t=183.2s and t=185.4s.\n",
      "Speaker \"B\" speaks between t=185.9s and t=188.4s.\n",
      "Speaker \"A\" speaks between t=188.4s and t=197.4s.\n",
      "Speaker \"A\" speaks between t=197.7s and t=200.1s.\n",
      "Speaker \"B\" speaks between t=200.3s and t=203.7s.\n",
      "Speaker \"A\" speaks between t=203.7s and t=208.1s.\n",
      "Speaker \"A\" speaks between t=208.7s and t=208.8s.\n"
     ]
    }
   ],
   "source": [
    "diarizer.print_outputs()"
   ]
  },
  {
   "cell_type": "code",
   "execution_count": 56,
   "id": "ca105d0b",
   "metadata": {
    "ExecuteTime": {
     "end_time": "2021-05-26T17:07:32.919643Z",
     "start_time": "2021-05-26T17:07:32.773763Z"
    }
   },
   "outputs": [
    {
     "name": "stdout",
     "output_type": "stream",
     "text": [
      "{'false alarm': 3.3459999999999868, 'confusion': 7.154999999999987, 'correct': 178.07800000000003, 'missed detection': 7.516999999999999, 'total': 192.75000000000003, 'diarization error rate': 0.09347859922178972}\n"
     ]
    },
    {
     "name": "stderr",
     "output_type": "stream",
     "text": [
      "/Users/jauffret/.pyenv/versions/3.8.6/envs/lewagon/lib/python3.8/site-packages/pyannote/metrics/utils.py:183: UserWarning: 'uem' was approximated by the union of 'reference' and 'hypothesis' extents.\n",
      "  warnings.warn(\n"
     ]
    }
   ],
   "source": [
    "diarizer.score('outputs/groundtruth/martin2_gt.rttm')"
   ]
  },
  {
   "cell_type": "code",
   "execution_count": 13,
   "id": "8d829e08",
   "metadata": {
    "ExecuteTime": {
     "end_time": "2021-05-27T08:08:08.561223Z",
     "start_time": "2021-05-27T08:08:08.357900Z"
    }
   },
   "outputs": [
    {
     "name": "stdout",
     "output_type": "stream",
     "text": [
      "{'false alarm': 3.3476249999999856, 'missed detection': 7.514437500000156, 'correct': 178.08065624999995, 'confusion': 7.154906249999961, 'total': 192.75000000000006, 'diarization error rate': 0.09347324902723786}\n"
     ]
    }
   ],
   "source": [
    "diarizer.score('outputs/groundtruth/martin2_gt.rttm')"
   ]
  },
  {
   "cell_type": "code",
   "execution_count": 42,
   "id": "3afa025b",
   "metadata": {
    "ExecuteTime": {
     "end_time": "2021-05-27T08:32:23.113975Z",
     "start_time": "2021-05-27T08:32:23.033628Z"
    }
   },
   "outputs": [],
   "source": [
    "from msd.SpeakerAward import SpeakerAward"
   ]
  },
  {
   "cell_type": "code",
   "execution_count": 60,
   "id": "e603f09c",
   "metadata": {
    "ExecuteTime": {
     "end_time": "2021-05-27T08:49:52.974851Z",
     "start_time": "2021-05-27T08:49:52.824053Z"
    }
   },
   "outputs": [],
   "source": [
    "award = SpeakerAward(diarizer)"
   ]
  },
  {
   "cell_type": "code",
   "execution_count": 79,
   "id": "37cec8b3",
   "metadata": {
    "ExecuteTime": {
     "end_time": "2021-05-27T09:12:55.260003Z",
     "start_time": "2021-05-27T09:12:55.175658Z"
    }
   },
   "outputs": [
    {
     "data": {
      "text/plain": [
       "{0: {'speaker': 'B', 'start': 0.43034375, 'end': 3.06284375},\n",
       " 1: {'speaker': 'B', 'start': 3.35984375, 'end': 5.50803125},\n",
       " 2: {'speaker': 'B', 'start': 5.86409375, 'end': 11.566156249999999},\n",
       " 3: {'speaker': 'A', 'start': 11.878343749999999, 'end': 13.726156249999999},\n",
       " 4: {'speaker': 'A', 'start': 14.01471875, 'end': 17.64790625},\n",
       " 5: {'speaker': 'B', 'start': 18.01915625, 'end': 21.009406249999998},\n",
       " 6: {'speaker': 'A', 'start': 21.009406249999998, 'end': 25.36484375},\n",
       " 7: {'speaker': 'A', 'start': 25.653406249999996, 'end': 31.18840625},\n",
       " 8: {'speaker': 'B', 'start': 31.401031250000003, 'end': 34.29846875},\n",
       " 9: {'speaker': 'B', 'start': 34.772656250000004, 'end': 37.40853125},\n",
       " 10: {'speaker': 'A', 'start': 37.40853125, 'end': 41.31846875},\n",
       " 11: {'speaker': 'A', 'start': 41.59184375, 'end': 44.40490625},\n",
       " 12: {'speaker': 'B', 'start': 44.68840625, 'end': 46.70328125},\n",
       " 13: {'speaker': 'B', 'start': 47.174093750000004, 'end': 48.32328125},\n",
       " 14: {'speaker': 'B', 'start': 48.85653125, 'end': 52.39184375},\n",
       " 15: {'speaker': 'A', 'start': 52.39184375, 'end': 56.07565625},\n",
       " 16: {'speaker': 'B', 'start': 56.46715625, 'end': 57.729406250000004},\n",
       " 17: {'speaker': 'A', 'start': 57.96565625, 'end': 61.66128125},\n",
       " 18: {'speaker': 'B', 'start': 62.13546875, 'end': 64.83040625000001},\n",
       " 19: {'speaker': 'B', 'start': 65.29278124999999, 'end': 67.40721875},\n",
       " 20: {'speaker': 'A', 'start': 67.70590625, 'end': 69.59084375},\n",
       " 21: {'speaker': 'A', 'start': 69.89965624999999, 'end': 73.57503125},\n",
       " 22: {'speaker': 'B', 'start': 74.02728124999999, 'end': 75.71646874999999},\n",
       " 23: {'speaker': 'B', 'start': 76.04553125000001, 'end': 78.03509374999999},\n",
       " 24: {'speaker': 'A', 'start': 78.40971875, 'end': 83.06215624999999},\n",
       " 25: {'speaker': 'A', 'start': 83.39459375000001, 'end': 84.43240625000001},\n",
       " 26: {'speaker': 'B', 'start': 84.67709375000001, 'end': 86.32578125},\n",
       " 27: {'speaker': 'B', 'start': 86.51984375, 'end': 89.79190625000001},\n",
       " 28: {'speaker': 'A', 'start': 89.79190625000001, 'end': 92.64040625000001},\n",
       " 29: {'speaker': 'A', 'start': 92.99309375000001, 'end': 95.56653125},\n",
       " 30: {'speaker': 'B', 'start': 95.92259375, 'end': 98.55171874999999},\n",
       " 31: {'speaker': 'A', 'start': 98.55171874999999, 'end': 104.26559375},\n",
       " 32: {'speaker': 'A', 'start': 104.62503125, 'end': 107.86334375000001},\n",
       " 33: {'speaker': 'B', 'start': 107.86334375000001, 'end': 110.47728125},\n",
       " 34: {'speaker': 'A', 'start': 110.73546875, 'end': 112.11078125},\n",
       " 35: {'speaker': 'A', 'start': 112.40271874999999, 'end': 114.40915625},\n",
       " 36: {'speaker': 'A', 'start': 114.75509374999999, 'end': 116.24853125000001},\n",
       " 37: {'speaker': 'B', 'start': 116.69065624999999, 'end': 119.02953124999999},\n",
       " 38: {'speaker': 'A', 'start': 119.37715625000001, 'end': 122.73696874999999},\n",
       " 39: {'speaker': 'A', 'start': 122.99178125, 'end': 124.24390625000001},\n",
       " 40: {'speaker': 'A', 'start': 124.44303124999999, 'end': 125.08428125},\n",
       " 41: {'speaker': 'A', 'start': 125.34584375, 'end': 127.20040624999999},\n",
       " 42: {'speaker': 'B', 'start': 127.55309374999999, 'end': 130.82178125},\n",
       " 43: {'speaker': 'B', 'start': 131.07996875, 'end': 133.02228125},\n",
       " 44: {'speaker': 'A', 'start': 133.37328125, 'end': 136.70946874999998},\n",
       " 45: {'speaker': 'B', 'start': 137.00646874999998, 'end': 141.49353125},\n",
       " 46: {'speaker': 'A', 'start': 141.82596875, 'end': 144.29984374999998},\n",
       " 47: {'speaker': 'B', 'start': 145.09296874999998, 'end': 149.92934375},\n",
       " 48: {'speaker': 'B', 'start': 150.37315625, 'end': 151.66578124999998},\n",
       " 49: {'speaker': 'A', 'start': 152.07078124999998, 'end': 154.23246874999998},\n",
       " 50: {'speaker': 'A', 'start': 154.49740624999998, 'end': 155.14878124999998},\n",
       " 51: {'speaker': 'B', 'start': 155.35465625, 'end': 156.93246875},\n",
       " 52: {'speaker': 'A', 'start': 157.51128125, 'end': 160.45428124999998},\n",
       " 53: {'speaker': 'B', 'start': 160.83396875, 'end': 163.14415624999998},\n",
       " 54: {'speaker': 'A', 'start': 163.38884375, 'end': 165.25015625},\n",
       " 55: {'speaker': 'A', 'start': 165.51340625, 'end': 168.58971875},\n",
       " 56: {'speaker': 'B', 'start': 168.85296875, 'end': 170.71090625},\n",
       " 57: {'speaker': 'A', 'start': 170.90496875, 'end': 172.39165624999998},\n",
       " 58: {'speaker': 'B', 'start': 172.39165624999998, 'end': 174.99209374999998},\n",
       " 59: {'speaker': 'A', 'start': 175.17434375, 'end': 176.99853124999998},\n",
       " 60: {'speaker': 'A', 'start': 177.19259375, 'end': 180.07484374999999},\n",
       " 61: {'speaker': 'A', 'start': 180.21490624999998, 'end': 182.89296875},\n",
       " 62: {'speaker': 'A', 'start': 183.20853125, 'end': 185.40903125},\n",
       " 63: {'speaker': 'B', 'start': 185.86971875, 'end': 188.40940625},\n",
       " 64: {'speaker': 'A', 'start': 188.40940625, 'end': 197.39196875},\n",
       " 65: {'speaker': 'A', 'start': 197.66365625, 'end': 200.05315625},\n",
       " 66: {'speaker': 'B', 'start': 200.34003124999998, 'end': 203.66440624999998},\n",
       " 67: {'speaker': 'A', 'start': 203.66440624999998, 'end': 208.10421875},\n",
       " 68: {'speaker': 'A', 'start': 208.66953125, 'end': 208.78765625}}"
      ]
     },
     "execution_count": 79,
     "metadata": {},
     "output_type": "execute_result"
    }
   ],
   "source": [
    "json_outputs = award.get_json()\n",
    "json_outputs"
   ]
  },
  {
   "cell_type": "code",
   "execution_count": null,
   "id": "b97572f5",
   "metadata": {},
   "outputs": [],
   "source": []
  }
 ],
 "metadata": {
  "kernelspec": {
   "display_name": "Python 3",
   "language": "python",
   "name": "python3"
  },
  "language_info": {
   "codemirror_mode": {
    "name": "ipython",
    "version": 3
   },
   "file_extension": ".py",
   "mimetype": "text/x-python",
   "name": "python",
   "nbconvert_exporter": "python",
   "pygments_lexer": "ipython3",
   "version": "3.8.6"
  },
  "toc": {
   "base_numbering": 1,
   "nav_menu": {},
   "number_sections": true,
   "sideBar": true,
   "skip_h1_title": false,
   "title_cell": "Table of Contents",
   "title_sidebar": "Contents",
   "toc_cell": false,
   "toc_position": {},
   "toc_section_display": true,
   "toc_window_display": false
  }
 },
 "nbformat": 4,
 "nbformat_minor": 5
}
