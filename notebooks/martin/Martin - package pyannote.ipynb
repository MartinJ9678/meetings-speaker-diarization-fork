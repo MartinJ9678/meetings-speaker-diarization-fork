{
 "cells": [
  {
   "cell_type": "code",
   "execution_count": 1,
   "id": "ad48686b",
   "metadata": {
    "ExecuteTime": {
     "end_time": "2021-05-27T14:07:22.279648Z",
     "start_time": "2021-05-27T14:07:22.249624Z"
    }
   },
   "outputs": [],
   "source": [
    "%load_ext autoreload\n",
    "%autoreload 2"
   ]
  },
  {
   "cell_type": "code",
   "execution_count": 2,
   "id": "ce0fd8f5",
   "metadata": {
    "ExecuteTime": {
     "end_time": "2021-05-27T14:07:29.211404Z",
     "start_time": "2021-05-27T14:07:22.480049Z"
    }
   },
   "outputs": [],
   "source": [
    "from msd.SpeakerDiarizer import SpeakerDiarizer"
   ]
  },
  {
   "cell_type": "code",
   "execution_count": 3,
   "id": "9941b4bd",
   "metadata": {
    "ExecuteTime": {
     "end_time": "2021-05-27T14:07:37.640014Z",
     "start_time": "2021-05-27T14:07:29.214804Z"
    },
    "scrolled": false
   },
   "outputs": [
    {
     "name": "stderr",
     "output_type": "stream",
     "text": [
      "Using cache found in /Users/jauffret/.cache/torch/hub/pyannote_pyannote-audio_master\n",
      "Using cache found in /Users/jauffret/.cache/torch/hub/pyannote_pyannote-audio_master\n",
      "Using cache found in /Users/jauffret/.cache/torch/hub/pyannote_pyannote-audio_master\n",
      "Using cache found in /Users/jauffret/.cache/torch/hub/pyannote_pyannote-audio_master\n",
      "/Users/jauffret/.pyenv/versions/3.8.6/envs/lewagon/lib/python3.8/site-packages/pyannote/audio/embedding/approaches/arcface_loss.py:170: FutureWarning: The 's' parameter is deprecated in favor of 'scale', and will be removed in a future release\n",
      "  warnings.warn(msg, FutureWarning)\n",
      "/Users/jauffret/.pyenv/versions/3.8.6/envs/lewagon/lib/python3.8/site-packages/pyannote/audio/features/pretrained.py:156: UserWarning: Model was trained with 4s chunks and is applied on 2s chunks. This might lead to sub-optimal results.\n",
      "  warnings.warn(msg)\n",
      "Using cache found in /Users/jauffret/.cache/torch/hub/pyannote_pyannote-audio_master\n"
     ]
    }
   ],
   "source": [
    "diarizer = SpeakerDiarizer(name_pipe='dia')"
   ]
  },
  {
   "cell_type": "code",
   "execution_count": 4,
   "id": "5acfdeff",
   "metadata": {
    "ExecuteTime": {
     "end_time": "2021-05-27T14:07:42.804357Z",
     "start_time": "2021-05-27T14:07:42.732739Z"
    }
   },
   "outputs": [],
   "source": [
    "path='data/martin2.wav'"
   ]
  },
  {
   "cell_type": "code",
   "execution_count": 5,
   "id": "6199799b",
   "metadata": {
    "ExecuteTime": {
     "end_time": "2021-05-27T14:13:42.655807Z",
     "start_time": "2021-05-27T14:07:47.628614Z"
    },
    "scrolled": true
   },
   "outputs": [
    {
     "name": "stderr",
     "output_type": "stream",
     "text": [
      "/Users/jauffret/.pyenv/versions/3.8.6/envs/lewagon/lib/python3.8/site-packages/sklearn/cluster/_affinity_propagation.py:148: FutureWarning: 'random_state' has been introduced in 0.23. It will be set to None starting from 1.0 (renaming of 0.25) which means that results will differ at every function call. Set 'random_state' to None to silence this warning, or to 0 to keep the behavior of versions <0.23.\n",
      "  warnings.warn(\n"
     ]
    }
   ],
   "source": [
    "diarizer.apply_diarizer(path)"
   ]
  },
  {
   "cell_type": "code",
   "execution_count": 7,
   "id": "50e68b24",
   "metadata": {
    "ExecuteTime": {
     "end_time": "2021-05-27T14:14:27.471522Z",
     "start_time": "2021-05-27T14:14:27.402549Z"
    }
   },
   "outputs": [],
   "source": [
    "diarizer.write_rttm(path_outputs='outputs/martin2.rttm')"
   ]
  },
  {
   "cell_type": "code",
   "execution_count": 6,
   "id": "a2718e28",
   "metadata": {
    "ExecuteTime": {
     "end_time": "2021-05-27T14:14:22.952750Z",
     "start_time": "2021-05-27T14:14:22.331555Z"
    }
   },
   "outputs": [
    {
     "data": {
      "image/png": "[encoded data removed]",
      "text/plain": [
       "<pyannote.core.annotation.Annotation at 0x13fcd7100>"
      ]
     },
     "execution_count": 6,
     "metadata": {},
     "output_type": "execute_result"
    }
   ],
   "source": [
    "diarizer.diarization"
   ]
  },
  {
   "cell_type": "code",
   "execution_count": 8,
   "id": "fd9c210f",
   "metadata": {
    "ExecuteTime": {
     "end_time": "2021-05-27T14:14:30.653072Z",
     "start_time": "2021-05-27T14:14:30.577335Z"
    },
    "collapsed": true
   },
   "outputs": [
    {
     "name": "stdout",
     "output_type": "stream",
     "text": [
      "Speaker \"B\" speaks between t=0.4s and t=3.1s.\n",
      "Speaker \"B\" speaks between t=3.4s and t=5.5s.\n",
      "Speaker \"B\" speaks between t=5.9s and t=11.6s.\n",
      "Speaker \"A\" speaks between t=11.9s and t=13.7s.\n",
      "Speaker \"A\" speaks between t=14.0s and t=17.6s.\n",
      "Speaker \"B\" speaks between t=18.0s and t=21.0s.\n",
      "Speaker \"A\" speaks between t=21.0s and t=25.4s.\n",
      "Speaker \"A\" speaks between t=25.7s and t=31.2s.\n",
      "Speaker \"B\" speaks between t=31.4s and t=34.3s.\n",
      "Speaker \"B\" speaks between t=34.8s and t=37.4s.\n",
      "Speaker \"A\" speaks between t=37.4s and t=41.3s.\n",
      "Speaker \"A\" speaks between t=41.6s and t=44.4s.\n",
      "Speaker \"B\" speaks between t=44.7s and t=46.7s.\n",
      "Speaker \"B\" speaks between t=47.2s and t=48.3s.\n",
      "Speaker \"B\" speaks between t=48.9s and t=52.4s.\n",
      "Speaker \"A\" speaks between t=52.4s and t=56.1s.\n",
      "Speaker \"B\" speaks between t=56.5s and t=57.7s.\n",
      "Speaker \"A\" speaks between t=58.0s and t=61.7s.\n",
      "Speaker \"B\" speaks between t=62.1s and t=64.8s.\n",
      "Speaker \"B\" speaks between t=65.3s and t=67.4s.\n",
      "Speaker \"A\" speaks between t=67.7s and t=69.6s.\n",
      "Speaker \"A\" speaks between t=69.9s and t=73.6s.\n",
      "Speaker \"B\" speaks between t=74.0s and t=75.7s.\n",
      "Speaker \"B\" speaks between t=76.0s and t=78.0s.\n",
      "Speaker \"A\" speaks between t=78.4s and t=83.1s.\n",
      "Speaker \"A\" speaks between t=83.4s and t=84.4s.\n",
      "Speaker \"B\" speaks between t=84.7s and t=86.3s.\n",
      "Speaker \"B\" speaks between t=86.5s and t=89.8s.\n",
      "Speaker \"A\" speaks between t=89.8s and t=92.6s.\n",
      "Speaker \"A\" speaks between t=93.0s and t=95.6s.\n",
      "Speaker \"B\" speaks between t=95.9s and t=98.6s.\n",
      "Speaker \"A\" speaks between t=98.6s and t=104.3s.\n",
      "Speaker \"A\" speaks between t=104.6s and t=107.9s.\n",
      "Speaker \"B\" speaks between t=107.9s and t=110.5s.\n",
      "Speaker \"A\" speaks between t=110.7s and t=112.1s.\n",
      "Speaker \"A\" speaks between t=112.4s and t=114.4s.\n",
      "Speaker \"A\" speaks between t=114.8s and t=116.2s.\n",
      "Speaker \"B\" speaks between t=116.7s and t=119.0s.\n",
      "Speaker \"A\" speaks between t=119.4s and t=122.7s.\n",
      "Speaker \"A\" speaks between t=123.0s and t=124.2s.\n",
      "Speaker \"A\" speaks between t=124.4s and t=125.1s.\n",
      "Speaker \"A\" speaks between t=125.3s and t=127.2s.\n",
      "Speaker \"B\" speaks between t=127.6s and t=130.8s.\n",
      "Speaker \"B\" speaks between t=131.1s and t=133.0s.\n",
      "Speaker \"A\" speaks between t=133.4s and t=136.7s.\n",
      "Speaker \"B\" speaks between t=137.0s and t=141.5s.\n",
      "Speaker \"A\" speaks between t=141.8s and t=144.3s.\n",
      "Speaker \"B\" speaks between t=145.1s and t=149.9s.\n",
      "Speaker \"B\" speaks between t=150.4s and t=151.7s.\n",
      "Speaker \"A\" speaks between t=152.1s and t=154.2s.\n",
      "Speaker \"A\" speaks between t=154.5s and t=155.1s.\n",
      "Speaker \"B\" speaks between t=155.4s and t=156.9s.\n",
      "Speaker \"A\" speaks between t=157.5s and t=160.5s.\n",
      "Speaker \"B\" speaks between t=160.8s and t=163.1s.\n",
      "Speaker \"A\" speaks between t=163.4s and t=165.3s.\n",
      "Speaker \"A\" speaks between t=165.5s and t=168.6s.\n",
      "Speaker \"B\" speaks between t=168.9s and t=170.7s.\n",
      "Speaker \"A\" speaks between t=170.9s and t=172.4s.\n",
      "Speaker \"B\" speaks between t=172.4s and t=175.0s.\n",
      "Speaker \"A\" speaks between t=175.2s and t=177.0s.\n",
      "Speaker \"A\" speaks between t=177.2s and t=180.1s.\n",
      "Speaker \"A\" speaks between t=180.2s and t=182.9s.\n",
      "Speaker \"A\" speaks between t=183.2s and t=185.4s.\n",
      "Speaker \"B\" speaks between t=185.9s and t=188.4s.\n",
      "Speaker \"A\" speaks between t=188.4s and t=197.4s.\n",
      "Speaker \"A\" speaks between t=197.7s and t=200.1s.\n",
      "Speaker \"B\" speaks between t=200.3s and t=203.7s.\n",
      "Speaker \"A\" speaks between t=203.7s and t=208.1s.\n",
      "Speaker \"A\" speaks between t=208.7s and t=208.8s.\n"
     ]
    }
   ],
   "source": [
    "diarizer.print_outputs()"
   ]
  },
  {
   "cell_type": "code",
   "execution_count": 18,
   "id": "8d829e08",
   "metadata": {
    "ExecuteTime": {
     "end_time": "2021-05-27T14:21:46.557736Z",
     "start_time": "2021-05-27T14:21:46.435658Z"
    }
   },
   "outputs": [
    {
     "name": "stdout",
     "output_type": "stream",
     "text": [
      "{'correct': 178.08065624999995, 'false alarm': 3.3476249999999856, 'confusion': 7.154906249999961, 'missed detection': 7.514437500000156, 'total': 192.75000000000006, 'diarization error rate': 0.09347324902723786}\n"
     ]
    }
   ],
   "source": [
    "diarizer.score('outputs/groundtruth/martin2_gt.rttm')"
   ]
  },
  {
   "cell_type": "code",
   "execution_count": 21,
   "id": "3afa025b",
   "metadata": {
    "ExecuteTime": {
     "end_time": "2021-05-27T14:24:17.130808Z",
     "start_time": "2021-05-27T14:24:17.030811Z"
    }
   },
   "outputs": [],
   "source": [
    "from msd.SpeakerAward import SpeakerAward"
   ]
  },
  {
   "cell_type": "code",
   "execution_count": 22,
   "id": "e603f09c",
   "metadata": {
    "ExecuteTime": {
     "end_time": "2021-05-27T14:24:17.638021Z",
     "start_time": "2021-05-27T14:24:17.569995Z"
    }
   },
   "outputs": [],
   "source": [
    "award = SpeakerAward(diarizer)"
   ]
  },
  {
   "cell_type": "code",
   "execution_count": 27,
   "id": "f207e471",
   "metadata": {
    "ExecuteTime": {
     "end_time": "2021-05-27T14:28:05.310582Z",
     "start_time": "2021-05-27T14:28:05.192889Z"
    }
   },
   "outputs": [
    {
     "data": {
      "text/plain": [
       "'data/martin2.wav'"
      ]
     },
     "execution_count": 27,
     "metadata": {},
     "output_type": "execute_result"
    }
   ],
   "source": [
    "diarizer.current_filename"
   ]
  },
  {
   "cell_type": "code",
   "execution_count": 90,
   "id": "37cec8b3",
   "metadata": {
    "ExecuteTime": {
     "end_time": "2021-05-27T15:32:09.491426Z",
     "start_time": "2021-05-27T15:30:26.318032Z"
    }
   },
   "outputs": [
    {
     "data": {
      "text/plain": [
       "'[{\"speaker\": \"B\", \"start\": \"00:00:00\", \"end\": \"00:00:03\", \"text\": \"It was this observation that drew from Douglas.\"}, {\"speaker\": \"B\", \"start\": \"00:00:03\", \"end\": \"00:00:05\", \"text\": \"Not immediately, but later in the evening.\"}, {\"speaker\": \"B\", \"start\": \"00:00:05\", \"end\": \"00:00:11\", \"text\": \"Reply that had the interesting consequences to which I call attention. He wore blue silk stockings.\"}, {\"speaker\": \"A\", \"start\": \"00:00:11\", \"end\": \"00:00:13\", \"text\": \"Blue knee pants with gold buckles.\"}, {\"speaker\": \"A\", \"start\": \"00:00:14\", \"end\": \"00:00:17\", \"text\": \"A blue ruffled waist and a jacket of bright blue braided with gold.\"}, {\"speaker\": \"B\", \"start\": \"00:00:18\", \"end\": \"00:00:21\", \"text\": \"Someone else told a story not particularly effective.\"}, {\"speaker\": \"A\", \"start\": \"00:00:21\", \"end\": \"00:00:25\", \"text\": \"Which I saw he was not following. His hat had a peak crown at a flat brim.\"}, {\"speaker\": \"A\", \"start\": \"00:00:25\", \"end\": \"00:00:31\", \"text\": \"And around the brim with a row of tiny golden bells that tinkled when he moved, cried one of the women.\"}, {\"speaker\": \"B\", \"start\": \"00:00:31\", \"end\": \"00:00:34\", \"text\": \"He took no notice of her. He looked at me, but as if.\"}, {\"speaker\": \"B\", \"start\": \"00:00:34\", \"end\": \"00:00:37\", \"text\": \"Instead of me, he saw what he spoke of.\"}, {\"speaker\": \"A\", \"start\": \"00:00:37\", \"end\": \"00:00:41\", \"text\": \"Instead of shoes, the old man wore boots with turnover tops.\"}, {\"speaker\": \"A\", \"start\": \"00:00:41\", \"end\": \"00:00:44\", \"text\": \"And his blue coat had wide cuffs of gold braid.\"}, {\"speaker\": \"B\", \"start\": \"00:00:44\", \"end\": \"00:00:46\", \"text\": \"There was a unanimous groan at this.\"}, {\"speaker\": \"B\", \"start\": \"00:00:47\", \"end\": \"00:00:48\", \"text\": \"And much reproach.\"}, {\"speaker\": \"B\", \"start\": \"00:00:48\", \"end\": \"00:00:52\", \"text\": \"After which in his preoccupied way he explained for along.\"}, {\"speaker\": \"A\", \"start\": \"00:00:52\", \"end\": \"00:00:56\", \"text\": \"Time he had wished to explore the beautiful land of Oz in which they live.\"}, {\"speaker\": \"B\", \"start\": \"00:00:56\", \"end\": \"00:00:57\", \"text\": \"The story is written.\"}, {\"speaker\": \"A\", \"start\": \"00:00:57\", \"end\": \"00:01:01\", \"text\": \"When they were outside tongue simply latched the door and started up the path.\"}, {\"speaker\": \"B\", \"start\": \"00:01:02\", \"end\": \"00:01:04\", \"text\": \"I could write to my man and enclosed the key.\"}, {\"speaker\": \"B\", \"start\": \"00:01:05\", \"end\": \"00:01:07\", \"text\": \"He could send down the packet as he finds it.\"}, {\"speaker\": \"A\", \"start\": \"00:01:07\", \"end\": \"00:01:09\", \"text\": \"No one would disturb their little house.\"}, {\"speaker\": \"A\", \"start\": \"00:01:09\", \"end\": \"00:01:13\", \"text\": \"Even if anyone came so far into the thick forest while they were gone.\"}, {\"speaker\": \"B\", \"start\": \"00:01:14\", \"end\": \"00:01:15\", \"text\": \"The others resented postponement.\"}, {\"speaker\": \"B\", \"start\": \"00:01:16\", \"end\": \"00:01:18\", \"text\": \"But it was just his scruples that charmed me.\"}, {\"speaker\": \"A\", \"start\": \"00:01:18\", \"end\": \"00:01:23\", \"text\": \"At the foot of the mountain that separated the country of the Munchkins, from the country of the Gilligan\\'s.\"}, {\"speaker\": \"A\", \"start\": \"00:01:23\", \"end\": \"00:01:24\", \"text\": \"The path divided.\"}, {\"speaker\": \"B\", \"start\": \"00:01:24\", \"end\": \"00:01:26\", \"text\": \"To this his answer was prompt.\"}, {\"speaker\": \"B\", \"start\": \"00:01:26\", \"end\": \"00:01:29\", \"text\": \"Oh thank God no. And is the record yours.\"}, {\"speaker\": \"A\", \"start\": \"00:01:29\", \"end\": \"00:01:32\", \"text\": \"He knew it would take them to the House of the Crooked Magician.\"}, {\"speaker\": \"A\", \"start\": \"00:01:32\", \"end\": \"00:01:35\", \"text\": \"Whom he had never seen, but who was their nearest neighbor?\"}, {\"speaker\": \"B\", \"start\": \"00:01:35\", \"end\": \"00:01:38\", \"text\": \"He hung fire again, a womans.\"}, {\"speaker\": \"A\", \"start\": \"00:01:38\", \"end\": \"00:01:44\", \"text\": \"All the morning they trudged up the mountain path and at new Nunca know Joe sat on a fallen tree trunk.\"}, {\"speaker\": \"A\", \"start\": \"00:01:44\", \"end\": \"00:01:47\", \"text\": \"And ate the last of the bread which the old munchkin had placed in him.\"}, {\"speaker\": \"B\", \"start\": \"00:01:47\", \"end\": \"00:01:50\", \"text\": \"Pocket she has been dead these 20 years.\"}, {\"speaker\": \"A\", \"start\": \"00:01:50\", \"end\": \"00:01:52\", \"text\": \"Then they started on again.\"}, {\"speaker\": \"A\", \"start\": \"00:01:52\", \"end\": \"00:01:54\", \"text\": \"And two hours later came insight.\"}, {\"speaker\": \"A\", \"start\": \"00:01:54\", \"end\": \"00:01:56\", \"text\": \"Of the House of Doctor Pipt.\"}, {\"speaker\": \"B\", \"start\": \"00:01:56\", \"end\": \"00:01:59\", \"text\": \"She sent me the pages in question before she died.\"}, {\"speaker\": \"A\", \"start\": \"00:01:59\", \"end\": \"00:02:02\", \"text\": \"Uncle knocked at the door of the house into Chubby, Pleasant faced woman.\"}, {\"speaker\": \"A\", \"start\": \"00:02:02\", \"end\": \"00:02:04\", \"text\": \"Dressed all in blue.\"}, {\"speaker\": \"A\", \"start\": \"00:02:04\", \"end\": \"00:02:05\", \"text\": \"Opened it\"}, {\"speaker\": \"A\", \"start\": \"00:02:05\", \"end\": \"00:02:07\", \"text\": \"And greeted the visitors with a smile.\"}, {\"speaker\": \"B\", \"start\": \"00:02:07\", \"end\": \"00:02:10\", \"text\": \"She was the most agreeable woman I\\'ve ever known in her position.\"}, {\"speaker\": \"B\", \"start\": \"00:02:11\", \"end\": \"00:02:13\", \"text\": \"She would have been worthy of any whatever.\"}, {\"speaker\": \"A\", \"start\": \"00:02:13\", \"end\": \"00:02:16\", \"text\": \"I am my dear and all strangers are welcome to my home.\"}, {\"speaker\": \"B\", \"start\": \"00:02:17\", \"end\": \"00:02:21\", \"text\": \"And simply that she said so, but that I knew she hadn\\'t. I was sure I could see.\"}, {\"speaker\": \"A\", \"start\": \"00:02:21\", \"end\": \"00:02:24\", \"text\": \"We have come from a far, lonelier place than this.\"}, {\"speaker\": \"B\", \"start\": \"00:02:25\", \"end\": \"00:02:29\", \"text\": \"A lonelier place. You\\'ll easily judge why when you hear because the thing had been such a scare.\"}, {\"speaker\": \"B\", \"start\": \"00:02:30\", \"end\": \"00:02:31\", \"text\": \"He continued to fix me.\"}, {\"speaker\": \"A\", \"start\": \"00:02:32\", \"end\": \"00:02:34\", \"text\": \"And you must be Ojo, the unlucky.\"}, {\"speaker\": \"A\", \"start\": \"00:02:34\", \"end\": \"00:02:35\", \"text\": \"She added.\"}, {\"speaker\": \"B\", \"start\": \"00:02:35\", \"end\": \"00:02:36\", \"text\": \"You are a cute.\"}, {\"speaker\": \"A\", \"start\": \"00:02:37\", \"end\": \"00:02:40\", \"text\": \"JoJo had never eaten such a fine meal in all his life.\"}, {\"speaker\": \"B\", \"start\": \"00:02:40\", \"end\": \"00:02:43\", \"text\": \"He quitted the fire and dropped back into his chair.\"}, {\"speaker\": \"A\", \"start\": \"00:02:43\", \"end\": \"00:02:45\", \"text\": \"We\\'re traveling. Reply Dojo.\"}, {\"speaker\": \"A\", \"start\": \"00:02:45\", \"end\": \"00:02:48\", \"text\": \"And we stopped at your house just to rest and refresh ourselves.\"}, {\"speaker\": \"B\", \"start\": \"00:02:48\", \"end\": \"00:02:50\", \"text\": \"Probably not till the 2nd post.\"}, {\"speaker\": \"A\", \"start\": \"00:02:50\", \"end\": \"00:02:52\", \"text\": \"The woman seemed thoughtful.\"}, {\"speaker\": \"B\", \"start\": \"00:02:52\", \"end\": \"00:02:54\", \"text\": \"It was almost the tone of hope everybody will stay.\"}, {\"speaker\": \"A\", \"start\": \"00:02:55\", \"end\": \"00:02:56\", \"text\": \"At one end stood a great fireplace.\"}, {\"speaker\": \"A\", \"start\": \"00:02:57\", \"end\": \"00:03:00\", \"text\": \"In which a blue log was blazing with a blue flame.\"}, {\"speaker\": \"A\", \"start\": \"00:03:00\", \"end\": \"00:03:02\", \"text\": \"And over the fire hung four kettles in a row.\"}, {\"speaker\": \"A\", \"start\": \"00:03:03\", \"end\": \"00:03:05\", \"text\": \"All bubbling and steaming at a great rate.\"}, {\"speaker\": \"B\", \"start\": \"00:03:05\", \"end\": \"00:03:08\", \"text\": \"Cried the ladies whose dip Archer had been fixed.\"}, {\"speaker\": \"A\", \"start\": \"00:03:08\", \"end\": \"00:03:17\", \"text\": \"It takes me several years to make this magic powder, but at this moment I am pleased to say it is nearly done. You see, I am making it for my Good Wife Margo lot.\"}, {\"speaker\": \"A\", \"start\": \"00:03:17\", \"end\": \"00:03:20\", \"text\": \"Who wants to use some of it for a purpose of her own?\"}, {\"speaker\": \"B\", \"start\": \"00:03:20\", \"end\": \"00:03:23\", \"text\": \"Mrs. Griffin, however, expressed the need for a little more light you.\"}, {\"speaker\": \"A\", \"start\": \"00:03:23\", \"end\": \"00:03:28\", \"text\": \"Must know said Margo Lot when they were all seated together on the broad window seat.\"}, {\"speaker\": \"A\", \"start\": \"00:03:28\", \"end\": \"00:03:28\", \"text\": \"\"}]'"
      ]
     },
     "execution_count": 90,
     "metadata": {},
     "output_type": "execute_result"
    }
   ],
   "source": [
    "json_outputs = award.get_json()\n",
    "json_outputs"
   ]
  }
 ],
 "metadata": {
  "kernelspec": {
   "display_name": "Python 3",
   "language": "python",
   "name": "python3"
  },
  "language_info": {
   "codemirror_mode": {
    "name": "ipython",
    "version": 3
   },
   "file_extension": ".py",
   "mimetype": "text/x-python",
   "name": "python",
   "nbconvert_exporter": "python",
   "pygments_lexer": "ipython3",
   "version": "3.8.6"
  },
  "toc": {
   "base_numbering": 1,
   "nav_menu": {},
   "number_sections": true,
   "sideBar": true,
   "skip_h1_title": false,
   "title_cell": "Table of Contents",
   "title_sidebar": "Contents",
   "toc_cell": false,
   "toc_position": {},
   "toc_section_display": true,
   "toc_window_display": false
  }
 },
 "nbformat": 4,
 "nbformat_minor": 5
}
