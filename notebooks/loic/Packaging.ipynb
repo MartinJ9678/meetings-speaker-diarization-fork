{
 "cells": [
  {
   "cell_type": "code",
   "execution_count": 1,
   "id": "d90bcebd",
   "metadata": {
    "ExecuteTime": {
     "end_time": "2021-05-25T20:01:54.128198Z",
     "start_time": "2021-05-25T20:01:54.102047Z"
    }
   },
   "outputs": [],
   "source": [
    "%load_ext autoreload\n",
    "%autoreload 2"
   ]
  },
  {
   "cell_type": "code",
   "execution_count": 2,
   "id": "ddb10cde",
   "metadata": {
    "ExecuteTime": {
     "end_time": "2021-05-25T20:01:57.113309Z",
     "start_time": "2021-05-25T20:01:56.292755Z"
    }
   },
   "outputs": [],
   "source": [
    "from msd.SpeakerDiarizer import SpeakerDiarizer"
   ]
  },
  {
   "cell_type": "code",
   "execution_count": 3,
   "id": "cba2210b",
   "metadata": {
    "ExecuteTime": {
     "end_time": "2021-05-25T20:01:57.694426Z",
     "start_time": "2021-05-25T20:01:57.570461Z"
    }
   },
   "outputs": [],
   "source": [
    "diarizer = SpeakerDiarizer()"
   ]
  },
  {
   "cell_type": "code",
   "execution_count": 4,
   "id": "333cd572",
   "metadata": {
    "ExecuteTime": {
     "end_time": "2021-05-25T20:01:58.654165Z",
     "start_time": "2021-05-25T20:01:58.463476Z"
    }
   },
   "outputs": [
    {
     "name": "stdout",
     "output_type": "stream",
     "text": [
      "doctolib.wav               doctolib_without_start.wav\r\n"
     ]
    }
   ],
   "source": [
    "!ls data"
   ]
  },
  {
   "cell_type": "code",
   "execution_count": 5,
   "id": "e128d844",
   "metadata": {
    "ExecuteTime": {
     "end_time": "2021-05-25T20:01:59.694730Z",
     "start_time": "2021-05-25T20:01:59.421187Z"
    }
   },
   "outputs": [],
   "source": [
    "diarizer.load('data/doctolib.wav')"
   ]
  },
  {
   "cell_type": "code",
   "execution_count": 8,
   "id": "bb27acb2",
   "metadata": {
    "ExecuteTime": {
     "end_time": "2021-05-25T20:02:12.158201Z",
     "start_time": "2021-05-25T20:02:07.215536Z"
    }
   },
   "outputs": [],
   "source": [
    "diarizer.generate_dvectors()"
   ]
  }
 ],
 "metadata": {
  "kernelspec": {
   "display_name": "Python 3",
   "language": "python",
   "name": "python3"
  },
  "language_info": {
   "codemirror_mode": {
    "name": "ipython",
    "version": 3
   },
   "file_extension": ".py",
   "mimetype": "text/x-python",
   "name": "python",
   "nbconvert_exporter": "python",
   "pygments_lexer": "ipython3",
   "version": "3.8.6"
  }
 },
 "nbformat": 4,
 "nbformat_minor": 5
}
