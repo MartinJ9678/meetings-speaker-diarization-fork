{
 "cells": [
  {
   "cell_type": "markdown",
   "id": "3eaccec8",
   "metadata": {
    "ExecuteTime": {
     "end_time": "2021-05-26T12:14:44.619085Z",
     "start_time": "2021-05-26T12:14:44.596691Z"
    }
   },
   "source": [
    "# Pyannote"
   ]
  },
  {
   "cell_type": "markdown",
   "id": "d522f227",
   "metadata": {},
   "source": [
    "### Import from develop"
   ]
  },
  {
   "cell_type": "code",
   "execution_count": null,
   "id": "94bd2f26",
   "metadata": {},
   "outputs": [],
   "source": [
    "!pip install git+https://github.com/pyannote/pyannote-audio@062bd7bd9a315953b1420500b5061f896c68b4ab"
   ]
  },
  {
   "cell_type": "markdown",
   "id": "2e74c04d",
   "metadata": {},
   "source": [
    "### Import from master"
   ]
  },
  {
   "cell_type": "code",
   "execution_count": null,
   "id": "df4dc87d",
   "metadata": {},
   "outputs": [],
   "source": [
    "!pip install pyannote.audio"
   ]
  },
  {
   "cell_type": "markdown",
   "id": "7430a1a6",
   "metadata": {},
   "source": [
    "## Pipeline"
   ]
  },
  {
   "cell_type": "markdown",
   "id": "96f7f917",
   "metadata": {},
   "source": [
    "![title](https://github.com/pyannote/pyannote-audio/raw/master/pipeline.png)"
   ]
  },
  {
   "cell_type": "markdown",
   "id": "39c33eca",
   "metadata": {},
   "source": [
    "# dia_ami"
   ]
  },
  {
   "cell_type": "markdown",
   "id": "a0496396",
   "metadata": {},
   "source": [
    "## Model"
   ]
  },
  {
   "cell_type": "markdown",
   "id": "062ef864",
   "metadata": {},
   "source": [
    "- Model pytorch dia_ami\n",
    "- Train sur le dataset AMI (70h de meetings annotés)"
   ]
  },
  {
   "cell_type": "code",
   "execution_count": 17,
   "id": "df8f36a3",
   "metadata": {
    "ExecuteTime": {
     "end_time": "2021-05-26T12:14:28.820225Z",
     "start_time": "2021-05-26T12:14:28.136716Z"
    },
    "scrolled": true
   },
   "outputs": [
    {
     "name": "stderr",
     "output_type": "stream",
     "text": [
      "Using cache found in /Users/loicsaillant/.cache/torch/hub/pyannote_pyannote-audio_master\n",
      "Using cache found in /Users/loicsaillant/.cache/torch/hub/pyannote_pyannote-audio_master\n",
      "Using cache found in /Users/loicsaillant/.cache/torch/hub/pyannote_pyannote-audio_master\n",
      "Using cache found in /Users/loicsaillant/.cache/torch/hub/pyannote_pyannote-audio_master\n",
      "/Users/loicsaillant/.pyenv/versions/3.8.6/envs/lewagon/lib/python3.8/site-packages/pyannote/audio/embedding/approaches/arcface_loss.py:170: FutureWarning: The 's' parameter is deprecated in favor of 'scale', and will be removed in a future release\n",
      "  warnings.warn(msg, FutureWarning)\n",
      "Using cache found in /Users/loicsaillant/.cache/torch/hub/pyannote_pyannote-audio_master\n"
     ]
    }
   ],
   "source": [
    "import torch\n",
    "pipeline = torch.hub.load('pyannote/pyannote-audio', 'dia_ami');"
   ]
  },
  {
   "cell_type": "markdown",
   "id": "29261a36",
   "metadata": {},
   "source": [
    "## Test avec Doctolib.wav"
   ]
  },
  {
   "cell_type": "markdown",
   "id": "79c20375",
   "metadata": {},
   "source": [
    "Fichier audio issu d'une vidéo avec 3 speakers\n",
    "- 2 speakers qui parlent la plupart du temps\n",
    "- 1 speaker qui parle très peu\n",
    "- musique au début\n",
    "- FR 🇫🇷"
   ]
  },
  {
   "cell_type": "code",
   "execution_count": 19,
   "id": "f42124dd",
   "metadata": {
    "ExecuteTime": {
     "end_time": "2021-05-26T12:43:06.443134Z",
     "start_time": "2021-05-26T12:40:01.579831Z"
    }
   },
   "outputs": [],
   "source": [
    "# apply diarization pipeline on your audio file\n",
    "diarization = pipeline({'audio': 'data/doctolib.wav'})"
   ]
  },
  {
   "cell_type": "code",
   "execution_count": 20,
   "id": "bec23e26",
   "metadata": {
    "ExecuteTime": {
     "end_time": "2021-05-26T12:43:06.457940Z",
     "start_time": "2021-05-26T12:43:06.448189Z"
    }
   },
   "outputs": [],
   "source": [
    "# dump result to disk using RTTM format\n",
    "with open('outputs/doctolib_ami.rttm', 'w') as f:\n",
    "    diarization.write_rttm(f)"
   ]
  },
  {
   "cell_type": "code",
   "execution_count": 21,
   "id": "e7d4dfae",
   "metadata": {
    "ExecuteTime": {
     "end_time": "2021-05-26T12:44:40.838430Z",
     "start_time": "2021-05-26T12:44:40.820118Z"
    }
   },
   "outputs": [
    {
     "name": "stdout",
     "output_type": "stream",
     "text": [
      "Speaker \"A\" speaks between t=0.4s and t=0.9s.\n",
      "Speaker \"22\" speaks between t=0.9s and t=1.6s.\n",
      "Speaker \"A\" speaks between t=1.6s and t=12.4s.\n",
      "Speaker \"B\" speaks between t=12.4s and t=14.0s.\n",
      "Speaker \"A\" speaks between t=14.0s and t=38.4s.\n",
      "Speaker \"B\" speaks between t=38.4s and t=53.5s.\n",
      "Speaker \"A\" speaks between t=53.5s and t=55.8s.\n",
      "Speaker \"B\" speaks between t=55.8s and t=97.2s.\n",
      "Speaker \"A\" speaks between t=97.2s and t=148.2s.\n",
      "Speaker \"B\" speaks between t=148.2s and t=162.3s.\n",
      "Speaker \"A\" speaks between t=162.3s and t=163.3s.\n",
      "Speaker \"B\" speaks between t=163.3s and t=168.3s.\n",
      "Speaker \"A\" speaks between t=168.3s and t=169.0s.\n",
      "Speaker \"B\" speaks between t=169.0s and t=208.8s.\n"
     ]
    }
   ],
   "source": [
    "# iterate over speech turns\n",
    "for turn, _, speaker in diarization.itertracks(yield_label=True):\n",
    "    print(f'Speaker \"{speaker}\" speaks between t={turn.start:.1f}s and t={turn.end:.1f}s.')"
   ]
  },
  {
   "cell_type": "markdown",
   "id": "ed39bf9a",
   "metadata": {},
   "source": [
    "### Remarques"
   ]
  },
  {
   "cell_type": "markdown",
   "id": "cc92975f",
   "metadata": {},
   "source": [
    "- Diarization précise\n",
    "- La musique au début est détéctée comme de la SAD 🤔\n",
    "- Speaker 22 🤷🏻‍♂️"
   ]
  },
  {
   "cell_type": "markdown",
   "id": "cd7d3511",
   "metadata": {},
   "source": [
    "## Test avec martin.wav"
   ]
  },
  {
   "cell_type": "markdown",
   "id": "7b740c25",
   "metadata": {},
   "source": [
    "- Interview tele \n",
    "- 2 personnes\n",
    "- EN 🇺🇸"
   ]
  },
  {
   "cell_type": "code",
   "execution_count": 22,
   "id": "cd1727b0",
   "metadata": {
    "ExecuteTime": {
     "end_time": "2021-05-26T12:46:44.784310Z",
     "start_time": "2021-05-26T12:45:08.584426Z"
    }
   },
   "outputs": [],
   "source": [
    "# apply diarization pipeline on your audio file\n",
    "diarization_martin = pipeline({'audio': 'data/martin.wav'})"
   ]
  },
  {
   "cell_type": "code",
   "execution_count": 23,
   "id": "b9480e2d",
   "metadata": {
    "ExecuteTime": {
     "end_time": "2021-05-26T12:46:44.793044Z",
     "start_time": "2021-05-26T12:46:44.788674Z"
    }
   },
   "outputs": [],
   "source": [
    "# dump result to disk using RTTM format\n",
    "with open('outputs/martin_ami.rttm', 'w') as f:\n",
    "    diarization_martin.write_rttm(f)"
   ]
  },
  {
   "cell_type": "code",
   "execution_count": 24,
   "id": "24ffdf2c",
   "metadata": {
    "ExecuteTime": {
     "end_time": "2021-05-26T12:46:44.798762Z",
     "start_time": "2021-05-26T12:46:44.795318Z"
    }
   },
   "outputs": [
    {
     "name": "stdout",
     "output_type": "stream",
     "text": [
      "Speaker \"A\" speaks between t=0.0s and t=5.8s.\n",
      "Speaker \"9\" speaks between t=5.8s and t=6.5s.\n",
      "Speaker \"A\" speaks between t=6.5s and t=16.9s.\n",
      "Speaker \"A\" speaks between t=18.3s and t=22.5s.\n",
      "Speaker \"13\" speaks between t=22.5s and t=23.2s.\n",
      "Speaker \"A\" speaks between t=23.2s and t=110.4s.\n"
     ]
    }
   ],
   "source": [
    "# iterate over speech turns\n",
    "for turn, _, speaker in diarization_martin.itertracks(yield_label=True):\n",
    "    print(f'Speaker \"{speaker}\" speaks between t={turn.start:.1f}s and t={turn.end:.1f}s.')"
   ]
  },
  {
   "cell_type": "markdown",
   "id": "b294fc38",
   "metadata": {},
   "source": [
    "# dia"
   ]
  },
  {
   "cell_type": "markdown",
   "id": "b463b10a",
   "metadata": {},
   "source": [
    "## Model"
   ]
  },
  {
   "cell_type": "markdown",
   "id": "2e870b4a",
   "metadata": {},
   "source": [
    "- Model pytorch dia\n",
    "- Train sur VoxCeleb1.custom.trn ⋃ VoxCeleb2.trn ⋃ DIHARD.custom.tr"
   ]
  },
  {
   "cell_type": "code",
   "execution_count": 25,
   "id": "aeb9e64b",
   "metadata": {
    "ExecuteTime": {
     "end_time": "2021-05-26T12:52:42.855607Z",
     "start_time": "2021-05-26T12:52:41.729283Z"
    }
   },
   "outputs": [
    {
     "name": "stderr",
     "output_type": "stream",
     "text": [
      "Using cache found in /Users/loicsaillant/.cache/torch/hub/pyannote_pyannote-audio_master\n",
      "Using cache found in /Users/loicsaillant/.cache/torch/hub/pyannote_pyannote-audio_master\n",
      "Using cache found in /Users/loicsaillant/.cache/torch/hub/pyannote_pyannote-audio_master\n",
      "Using cache found in /Users/loicsaillant/.cache/torch/hub/pyannote_pyannote-audio_master\n",
      "/Users/loicsaillant/.pyenv/versions/3.8.6/envs/lewagon/lib/python3.8/site-packages/pyannote/audio/embedding/approaches/arcface_loss.py:170: FutureWarning: The 's' parameter is deprecated in favor of 'scale', and will be removed in a future release\n",
      "  warnings.warn(msg, FutureWarning)\n",
      "/Users/loicsaillant/.pyenv/versions/3.8.6/envs/lewagon/lib/python3.8/site-packages/pyannote/audio/features/pretrained.py:156: UserWarning: Model was trained with 4s chunks and is applied on 2s chunks. This might lead to sub-optimal results.\n",
      "  warnings.warn(msg)\n",
      "Using cache found in /Users/loicsaillant/.cache/torch/hub/pyannote_pyannote-audio_master\n"
     ]
    }
   ],
   "source": [
    "pipeline = torch.hub.load('pyannote/pyannote-audio', 'dia');"
   ]
  },
  {
   "cell_type": "markdown",
   "id": "006d9e12",
   "metadata": {},
   "source": [
    "## doctolib.wav"
   ]
  },
  {
   "cell_type": "code",
   "execution_count": 29,
   "id": "86d6d861",
   "metadata": {
    "ExecuteTime": {
     "end_time": "2021-05-26T13:09:43.893418Z",
     "start_time": "2021-05-26T13:01:16.698914Z"
    }
   },
   "outputs": [],
   "source": [
    "# apply diarization pipeline on your audio file\n",
    "diarization = pipeline({'audio': 'data/doctolib.wav'})"
   ]
  },
  {
   "cell_type": "code",
   "execution_count": 30,
   "id": "38f3764b",
   "metadata": {
    "ExecuteTime": {
     "end_time": "2021-05-26T13:09:43.918404Z",
     "start_time": "2021-05-26T13:09:43.905988Z"
    }
   },
   "outputs": [],
   "source": [
    "# dump result to disk using RTTM format\n",
    "with open('outputs/doctolib.rttm', 'w') as f:\n",
    "    diarization.write_rttm(f)"
   ]
  },
  {
   "cell_type": "code",
   "execution_count": 31,
   "id": "5a7c67b9",
   "metadata": {
    "ExecuteTime": {
     "end_time": "2021-05-26T13:09:43.925574Z",
     "start_time": "2021-05-26T13:09:43.920732Z"
    }
   },
   "outputs": [
    {
     "name": "stdout",
     "output_type": "stream",
     "text": [
      "Speaker \"A\" speaks between t=0.6s and t=0.8s.\n",
      "Speaker \"B\" speaks between t=1.0s and t=2.3s.\n",
      "Speaker \"A\" speaks between t=2.3s and t=4.3s.\n",
      "Speaker \"A\" speaks between t=4.8s and t=5.3s.\n",
      "Speaker \"A\" speaks between t=5.6s and t=5.8s.\n",
      "Speaker \"A\" speaks between t=6.1s and t=9.8s.\n",
      "Speaker \"A\" speaks between t=10.2s and t=11.6s.\n",
      "Speaker \"A\" speaks between t=11.9s and t=15.5s.\n",
      "Speaker \"A\" speaks between t=15.9s and t=18.8s.\n",
      "Speaker \"A\" speaks between t=19.5s and t=20.4s.\n",
      "Speaker \"A\" speaks between t=20.8s and t=24.6s.\n",
      "Speaker \"A\" speaks between t=24.8s and t=25.1s.\n",
      "Speaker \"A\" speaks between t=25.3s and t=31.0s.\n",
      "Speaker \"A\" speaks between t=31.4s and t=34.8s.\n",
      "Speaker \"B\" speaks between t=35.0s and t=39.2s.\n",
      "Speaker \"B\" speaks between t=39.6s and t=46.4s.\n",
      "Speaker \"B\" speaks between t=46.9s and t=49.4s.\n",
      "Speaker \"B\" speaks between t=49.6s and t=52.7s.\n",
      "Speaker \"A\" speaks between t=52.7s and t=54.3s.\n",
      "Speaker \"A\" speaks between t=54.6s and t=55.1s.\n",
      "Speaker \"B\" speaks between t=55.1s and t=56.7s.\n",
      "Speaker \"B\" speaks between t=56.8s and t=59.0s.\n",
      "Speaker \"B\" speaks between t=59.4s and t=65.5s.\n",
      "Speaker \"B\" speaks between t=65.8s and t=71.7s.\n",
      "Speaker \"B\" speaks between t=72.0s and t=73.9s.\n",
      "Speaker \"B\" speaks between t=74.4s and t=78.6s.\n",
      "Speaker \"B\" speaks between t=79.1s and t=83.1s.\n",
      "Speaker \"B\" speaks between t=83.7s and t=84.8s.\n",
      "Speaker \"B\" speaks between t=85.4s and t=91.2s.\n",
      "Speaker \"B\" speaks between t=91.6s and t=95.9s.\n",
      "Speaker \"A\" speaks between t=95.9s and t=100.6s.\n",
      "Speaker \"A\" speaks between t=101.0s and t=105.5s.\n",
      "Speaker \"A\" speaks between t=105.8s and t=107.8s.\n",
      "Speaker \"A\" speaks between t=108.1s and t=108.8s.\n",
      "Speaker \"A\" speaks between t=109.2s and t=117.8s.\n",
      "Speaker \"A\" speaks between t=118.3s and t=122.3s.\n",
      "Speaker \"A\" speaks between t=122.5s and t=125.4s.\n",
      "Speaker \"A\" speaks between t=125.8s and t=129.2s.\n",
      "Speaker \"A\" speaks between t=129.6s and t=132.5s.\n",
      "Speaker \"A\" speaks between t=132.8s and t=147.5s.\n",
      "Speaker \"B\" speaks between t=147.7s and t=154.5s.\n",
      "Speaker \"B\" speaks between t=154.9s and t=157.4s.\n",
      "Speaker \"B\" speaks between t=157.7s and t=178.2s.\n",
      "Speaker \"B\" speaks between t=178.5s and t=179.6s.\n",
      "Speaker \"B\" speaks between t=179.9s and t=181.8s.\n",
      "Speaker \"B\" speaks between t=182.1s and t=184.1s.\n",
      "Speaker \"B\" speaks between t=184.4s and t=189.3s.\n",
      "Speaker \"B\" speaks between t=189.7s and t=193.1s.\n",
      "Speaker \"B\" speaks between t=193.7s and t=194.7s.\n",
      "Speaker \"B\" speaks between t=195.2s and t=200.1s.\n",
      "Speaker \"B\" speaks between t=200.4s and t=206.7s.\n",
      "Speaker \"B\" speaks between t=207.0s and t=208.8s.\n"
     ]
    }
   ],
   "source": [
    "# iterate over speech turns\n",
    "for turn, _, speaker in diarization.itertracks(yield_label=True):\n",
    "    print(f'Speaker \"{speaker}\" speaks between t={turn.start:.1f}s and t={turn.end:.1f}s.')"
   ]
  },
  {
   "cell_type": "markdown",
   "id": "b005113d",
   "metadata": {},
   "source": [
    "## martin.wav"
   ]
  },
  {
   "cell_type": "code",
   "execution_count": 32,
   "id": "76275ee5",
   "metadata": {
    "ExecuteTime": {
     "end_time": "2021-05-26T13:16:19.565116Z",
     "start_time": "2021-05-26T13:11:59.262505Z"
    }
   },
   "outputs": [],
   "source": [
    "# apply diarization pipeline on your audio file\n",
    "diarization = pipeline({'audio': 'data/martin.wav'})"
   ]
  },
  {
   "cell_type": "code",
   "execution_count": 33,
   "id": "5188217a",
   "metadata": {
    "ExecuteTime": {
     "end_time": "2021-05-26T13:16:19.588014Z",
     "start_time": "2021-05-26T13:16:19.570897Z"
    }
   },
   "outputs": [],
   "source": [
    "# dump result to disk using RTTM format\n",
    "with open('outputs/martin.rttm', 'w') as f:\n",
    "    diarization.write_rttm(f)"
   ]
  },
  {
   "cell_type": "code",
   "execution_count": 34,
   "id": "cc1a6c7f",
   "metadata": {
    "ExecuteTime": {
     "end_time": "2021-05-26T13:16:19.598611Z",
     "start_time": "2021-05-26T13:16:19.590285Z"
    }
   },
   "outputs": [
    {
     "name": "stdout",
     "output_type": "stream",
     "text": [
      "Speaker \"B\" speaks between t=0.0s and t=1.1s.\n",
      "Speaker \"B\" speaks between t=1.8s and t=4.3s.\n",
      "Speaker \"B\" speaks between t=4.5s and t=7.1s.\n",
      "Speaker \"B\" speaks between t=7.8s and t=9.1s.\n",
      "Speaker \"B\" speaks between t=9.4s and t=11.0s.\n",
      "Speaker \"B\" speaks between t=11.2s and t=12.9s.\n",
      "Speaker \"B\" speaks between t=13.4s and t=14.6s.\n",
      "Speaker \"B\" speaks between t=15.2s and t=15.6s.\n",
      "Speaker \"B\" speaks between t=16.1s and t=16.5s.\n",
      "Speaker \"B\" speaks between t=18.4s and t=19.5s.\n",
      "Speaker \"B\" speaks between t=20.0s and t=23.7s.\n",
      "Speaker \"A\" speaks between t=24.4s and t=26.6s.\n",
      "Speaker \"A\" speaks between t=27.4s and t=31.4s.\n",
      "Speaker \"B\" speaks between t=31.9s and t=34.3s.\n",
      "Speaker \"B\" speaks between t=34.5s and t=36.7s.\n",
      "Speaker \"B\" speaks between t=37.7s and t=38.6s.\n",
      "Speaker \"A\" speaks between t=38.6s and t=42.4s.\n",
      "Speaker \"A\" speaks between t=42.8s and t=45.0s.\n",
      "Speaker \"A\" speaks between t=46.1s and t=51.0s.\n",
      "Speaker \"A\" speaks between t=51.9s and t=54.9s.\n",
      "Speaker \"A\" speaks between t=55.6s and t=56.5s.\n",
      "Speaker \"A\" speaks between t=57.3s and t=60.7s.\n",
      "Speaker \"A\" speaks between t=61.7s and t=63.2s.\n",
      "Speaker \"A\" speaks between t=63.6s and t=65.3s.\n",
      "Speaker \"A\" speaks between t=65.9s and t=66.9s.\n",
      "Speaker \"A\" speaks between t=67.4s and t=68.1s.\n",
      "Speaker \"A\" speaks between t=69.1s and t=70.8s.\n",
      "Speaker \"A\" speaks between t=71.6s and t=73.0s.\n",
      "Speaker \"A\" speaks between t=74.4s and t=75.6s.\n",
      "Speaker \"A\" speaks between t=76.0s and t=77.2s.\n",
      "Speaker \"B\" speaks between t=77.7s and t=78.6s.\n",
      "Speaker \"A\" speaks between t=79.7s and t=80.0s.\n",
      "Speaker \"A\" speaks between t=80.3s and t=83.5s.\n",
      "Speaker \"A\" speaks between t=83.8s and t=89.1s.\n",
      "Speaker \"A\" speaks between t=89.5s and t=92.7s.\n",
      "Speaker \"B\" speaks between t=92.7s and t=93.3s.\n",
      "Speaker \"A\" speaks between t=93.8s and t=97.7s.\n",
      "Speaker \"A\" speaks between t=98.6s and t=102.8s.\n",
      "Speaker \"A\" speaks between t=103.5s and t=104.1s.\n",
      "Speaker \"A\" speaks between t=104.8s and t=107.4s.\n",
      "Speaker \"A\" speaks between t=108.5s and t=110.1s.\n"
     ]
    }
   ],
   "source": [
    "# iterate over speech turns\n",
    "for turn, _, speaker in diarization.itertracks(yield_label=True):\n",
    "    print(f'Speaker \"{speaker}\" speaks between t={turn.start:.1f}s and t={turn.end:.1f}s.')"
   ]
  },
  {
   "cell_type": "markdown",
   "id": "48cfc4e5",
   "metadata": {},
   "source": [
    "### Representation"
   ]
  },
  {
   "cell_type": "code",
   "execution_count": 38,
   "id": "1374a582",
   "metadata": {
    "ExecuteTime": {
     "end_time": "2021-05-26T13:30:13.857465Z",
     "start_time": "2021-05-26T13:30:13.853823Z"
    }
   },
   "outputs": [],
   "source": [
    "from pyannote.database.util import load_rttm"
   ]
  },
  {
   "cell_type": "code",
   "execution_count": 77,
   "id": "c0da3815",
   "metadata": {
    "ExecuteTime": {
     "end_time": "2021-05-26T13:44:37.576165Z",
     "start_time": "2021-05-26T13:44:37.373725Z"
    }
   },
   "outputs": [
    {
     "data": {
      "image/png": "[encoded data removed]",
      "text/plain": [
       "<pyannote.core.annotation.Annotation at 0x1787184f0>"
      ]
     },
     "execution_count": 77,
     "metadata": {},
     "output_type": "execute_result"
    }
   ],
   "source": [
    "pred = load_rttm('outputs/martin.rttm')\n",
    "pred['<NA>']"
   ]
  },
  {
   "cell_type": "markdown",
   "id": "a57461e5",
   "metadata": {},
   "source": [
    "## martin2.wav"
   ]
  },
  {
   "cell_type": "code",
   "execution_count": 35,
   "id": "da69a673",
   "metadata": {
    "ExecuteTime": {
     "end_time": "2021-05-26T13:30:13.822347Z",
     "start_time": "2021-05-26T13:22:25.065690Z"
    }
   },
   "outputs": [],
   "source": [
    "# apply diarization pipeline on your audio file\n",
    "diarization = pipeline({'audio': 'data/martin2.wav'})"
   ]
  },
  {
   "cell_type": "code",
   "execution_count": 36,
   "id": "bd3653ce",
   "metadata": {
    "ExecuteTime": {
     "end_time": "2021-05-26T13:30:13.838899Z",
     "start_time": "2021-05-26T13:30:13.829460Z"
    }
   },
   "outputs": [],
   "source": [
    "# dump result to disk using RTTM format\n",
    "with open('outputs/martin2.rttm', 'w') as f:\n",
    "    diarization.write_rttm(f)"
   ]
  },
  {
   "cell_type": "code",
   "execution_count": 37,
   "id": "58fd68a3",
   "metadata": {
    "ExecuteTime": {
     "end_time": "2021-05-26T13:30:13.850945Z",
     "start_time": "2021-05-26T13:30:13.842207Z"
    }
   },
   "outputs": [
    {
     "name": "stdout",
     "output_type": "stream",
     "text": [
      "Speaker \"B\" speaks between t=0.4s and t=3.1s.\n",
      "Speaker \"B\" speaks between t=3.4s and t=5.5s.\n",
      "Speaker \"B\" speaks between t=5.9s and t=11.6s.\n",
      "Speaker \"A\" speaks between t=11.9s and t=13.7s.\n",
      "Speaker \"A\" speaks between t=14.0s and t=17.6s.\n",
      "Speaker \"B\" speaks between t=18.0s and t=21.0s.\n",
      "Speaker \"A\" speaks between t=21.0s and t=25.4s.\n",
      "Speaker \"A\" speaks between t=25.7s and t=31.2s.\n",
      "Speaker \"B\" speaks between t=31.4s and t=34.3s.\n",
      "Speaker \"B\" speaks between t=34.8s and t=37.4s.\n",
      "Speaker \"A\" speaks between t=37.4s and t=41.3s.\n",
      "Speaker \"A\" speaks between t=41.6s and t=44.4s.\n",
      "Speaker \"B\" speaks between t=44.7s and t=46.7s.\n",
      "Speaker \"B\" speaks between t=47.2s and t=48.3s.\n",
      "Speaker \"B\" speaks between t=48.9s and t=52.4s.\n",
      "Speaker \"A\" speaks between t=52.4s and t=56.1s.\n",
      "Speaker \"B\" speaks between t=56.5s and t=57.7s.\n",
      "Speaker \"A\" speaks between t=58.0s and t=61.7s.\n",
      "Speaker \"B\" speaks between t=62.1s and t=64.8s.\n",
      "Speaker \"B\" speaks between t=65.3s and t=67.4s.\n",
      "Speaker \"A\" speaks between t=67.7s and t=69.6s.\n",
      "Speaker \"A\" speaks between t=69.9s and t=73.6s.\n",
      "Speaker \"B\" speaks between t=74.0s and t=75.7s.\n",
      "Speaker \"B\" speaks between t=76.0s and t=78.0s.\n",
      "Speaker \"A\" speaks between t=78.4s and t=83.1s.\n",
      "Speaker \"A\" speaks between t=83.4s and t=84.4s.\n",
      "Speaker \"B\" speaks between t=84.7s and t=86.3s.\n",
      "Speaker \"B\" speaks between t=86.5s and t=89.8s.\n",
      "Speaker \"A\" speaks between t=89.8s and t=92.6s.\n",
      "Speaker \"A\" speaks between t=93.0s and t=95.6s.\n",
      "Speaker \"B\" speaks between t=95.9s and t=98.6s.\n",
      "Speaker \"A\" speaks between t=98.6s and t=104.3s.\n",
      "Speaker \"A\" speaks between t=104.6s and t=107.9s.\n",
      "Speaker \"B\" speaks between t=107.9s and t=110.5s.\n",
      "Speaker \"A\" speaks between t=110.7s and t=112.1s.\n",
      "Speaker \"A\" speaks between t=112.4s and t=114.4s.\n",
      "Speaker \"A\" speaks between t=114.8s and t=116.2s.\n",
      "Speaker \"B\" speaks between t=116.7s and t=119.0s.\n",
      "Speaker \"A\" speaks between t=119.4s and t=122.7s.\n",
      "Speaker \"A\" speaks between t=123.0s and t=124.2s.\n",
      "Speaker \"A\" speaks between t=124.4s and t=125.1s.\n",
      "Speaker \"A\" speaks between t=125.3s and t=127.2s.\n",
      "Speaker \"B\" speaks between t=127.6s and t=130.8s.\n",
      "Speaker \"B\" speaks between t=131.1s and t=133.0s.\n",
      "Speaker \"A\" speaks between t=133.4s and t=136.7s.\n",
      "Speaker \"B\" speaks between t=137.0s and t=141.5s.\n",
      "Speaker \"A\" speaks between t=141.8s and t=144.3s.\n",
      "Speaker \"B\" speaks between t=145.1s and t=149.9s.\n",
      "Speaker \"B\" speaks between t=150.4s and t=151.7s.\n",
      "Speaker \"A\" speaks between t=152.1s and t=154.2s.\n",
      "Speaker \"A\" speaks between t=154.5s and t=155.1s.\n",
      "Speaker \"B\" speaks between t=155.4s and t=156.9s.\n",
      "Speaker \"A\" speaks between t=157.5s and t=160.5s.\n",
      "Speaker \"B\" speaks between t=160.8s and t=163.1s.\n",
      "Speaker \"A\" speaks between t=163.4s and t=165.3s.\n",
      "Speaker \"A\" speaks between t=165.5s and t=168.6s.\n",
      "Speaker \"B\" speaks between t=168.9s and t=170.7s.\n",
      "Speaker \"A\" speaks between t=170.9s and t=172.4s.\n",
      "Speaker \"B\" speaks between t=172.4s and t=175.0s.\n",
      "Speaker \"A\" speaks between t=175.2s and t=177.0s.\n",
      "Speaker \"A\" speaks between t=177.2s and t=180.1s.\n",
      "Speaker \"A\" speaks between t=180.2s and t=182.9s.\n",
      "Speaker \"A\" speaks between t=183.2s and t=185.4s.\n",
      "Speaker \"B\" speaks between t=185.9s and t=188.4s.\n",
      "Speaker \"A\" speaks between t=188.4s and t=197.4s.\n",
      "Speaker \"A\" speaks between t=197.7s and t=200.1s.\n",
      "Speaker \"B\" speaks between t=200.3s and t=203.7s.\n",
      "Speaker \"A\" speaks between t=203.7s and t=208.1s.\n",
      "Speaker \"A\" speaks between t=208.7s and t=208.8s.\n"
     ]
    }
   ],
   "source": [
    "# iterate over speech turns\n",
    "for turn, _, speaker in diarization.itertracks(yield_label=True):\n",
    "    print(f'Speaker \"{speaker}\" speaks between t={turn.start:.1f}s and t={turn.end:.1f}s.')"
   ]
  },
  {
   "cell_type": "code",
   "execution_count": 65,
   "id": "6e2e3c72",
   "metadata": {
    "ExecuteTime": {
     "end_time": "2021-05-26T13:38:32.589897Z",
     "start_time": "2021-05-26T13:38:32.585753Z"
    }
   },
   "outputs": [],
   "source": [
    "from pyannote.core import Segment, notebook\n",
    "# make notebook visualization zoom on 600s < t < 660s time range\n",
    "EXCERPT = Segment(0, 220)\n",
    "notebook.crop = EXCERPT"
   ]
  },
  {
   "cell_type": "code",
   "execution_count": 70,
   "id": "9c41b0be",
   "metadata": {
    "ExecuteTime": {
     "end_time": "2021-05-26T13:39:44.715143Z",
     "start_time": "2021-05-26T13:39:44.412251Z"
    }
   },
   "outputs": [
    {
     "data": {
      "image/png": "[encoded data removed]",
      "text/plain": [
       "<pyannote.core.annotation.Annotation at 0x1784803a0>"
      ]
     },
     "execution_count": 70,
     "metadata": {},
     "output_type": "execute_result"
    }
   ],
   "source": [
    "groundtruth = load_rttm('outputs/groundtruth/martin2_gt.rttm')\n",
    "groundtruth = groundtruth['121-127105']\n",
    "groundtruth"
   ]
  },
  {
   "cell_type": "code",
   "execution_count": 75,
   "id": "e842b869",
   "metadata": {
    "ExecuteTime": {
     "end_time": "2021-05-26T13:40:26.278849Z",
     "start_time": "2021-05-26T13:40:26.209496Z"
    }
   },
   "outputs": [
    {
     "data": {
      "text/plain": [
       "{'false alarm': 3.3459999999999868,\n",
       " 'confusion': 7.154999999999987,\n",
       " 'correct': 178.07800000000003,\n",
       " 'total': 192.75000000000003,\n",
       " 'missed detection': 7.516999999999999,\n",
       " 'diarization error rate': 0.09347859922178972}"
      ]
     },
     "execution_count": 75,
     "metadata": {},
     "output_type": "execute_result"
    }
   ],
   "source": [
    "from pyannote.metrics.diarization import DiarizationErrorRate\n",
    "pred = load_rttm('outputs/martin2.rttm')['<NA>']\n",
    "\n",
    "metric = DiarizationErrorRate()\n",
    "der = metric(groundtruth, pred,detailed=True)\n",
    "der"
   ]
  },
  {
   "cell_type": "markdown",
   "id": "17706db0",
   "metadata": {},
   "source": [
    "## Speaker activity detection"
   ]
  },
  {
   "cell_type": "code",
   "execution_count": 13,
   "id": "5a3870fd",
   "metadata": {
    "ExecuteTime": {
     "end_time": "2021-05-26T10:34:32.587236Z",
     "start_time": "2021-05-26T10:26:08.337265Z"
    }
   },
   "outputs": [
    {
     "name": "stderr",
     "output_type": "stream",
     "text": [
      "Using cache found in /Users/loicsaillant/.cache/torch/hub/pyannote_pyannote-audio_master\n"
     ]
    },
    {
     "name": "stdout",
     "output_type": "stream",
     "text": [
      "There is speech between t=0.6s and t=0.8s.\n",
      "There is speech between t=1.0s and t=2.3s.\n",
      "There is speech between t=2.3s and t=4.3s.\n",
      "There is speech between t=4.8s and t=5.3s.\n",
      "There is speech between t=5.6s and t=5.8s.\n",
      "There is speech between t=6.1s and t=9.8s.\n",
      "There is speech between t=10.2s and t=11.6s.\n",
      "There is speech between t=11.9s and t=15.5s.\n",
      "There is speech between t=15.9s and t=18.8s.\n",
      "There is speech between t=19.5s and t=20.4s.\n",
      "There is speech between t=20.8s and t=24.6s.\n",
      "There is speech between t=24.8s and t=25.1s.\n",
      "There is speech between t=25.3s and t=31.0s.\n",
      "There is speech between t=31.4s and t=34.8s.\n",
      "There is speech between t=35.0s and t=39.2s.\n",
      "There is speech between t=39.6s and t=46.4s.\n",
      "There is speech between t=46.9s and t=49.4s.\n",
      "There is speech between t=49.6s and t=52.7s.\n",
      "There is speech between t=52.7s and t=54.3s.\n",
      "There is speech between t=54.6s and t=55.1s.\n",
      "There is speech between t=55.1s and t=56.7s.\n",
      "There is speech between t=56.8s and t=59.0s.\n",
      "There is speech between t=59.4s and t=65.5s.\n",
      "There is speech between t=65.8s and t=71.7s.\n",
      "There is speech between t=72.0s and t=73.9s.\n",
      "There is speech between t=74.4s and t=78.6s.\n",
      "There is speech between t=79.1s and t=83.1s.\n",
      "There is speech between t=83.7s and t=84.8s.\n",
      "There is speech between t=85.4s and t=91.2s.\n",
      "There is speech between t=91.6s and t=95.9s.\n",
      "There is speech between t=95.9s and t=100.6s.\n",
      "There is speech between t=101.0s and t=105.5s.\n",
      "There is speech between t=105.8s and t=107.8s.\n",
      "There is speech between t=108.1s and t=108.8s.\n",
      "There is speech between t=109.2s and t=117.8s.\n",
      "There is speech between t=118.3s and t=122.3s.\n",
      "There is speech between t=122.5s and t=125.4s.\n",
      "There is speech between t=125.8s and t=129.2s.\n",
      "There is speech between t=129.6s and t=132.5s.\n",
      "There is speech between t=132.8s and t=147.5s.\n",
      "There is speech between t=147.7s and t=154.5s.\n",
      "There is speech between t=154.9s and t=157.4s.\n",
      "There is speech between t=157.7s and t=178.2s.\n",
      "There is speech between t=178.5s and t=179.6s.\n",
      "There is speech between t=179.9s and t=181.8s.\n",
      "There is speech between t=182.1s and t=184.1s.\n",
      "There is speech between t=184.4s and t=189.3s.\n",
      "There is speech between t=189.7s and t=193.1s.\n",
      "There is speech between t=193.7s and t=194.7s.\n",
      "There is speech between t=195.2s and t=200.1s.\n",
      "There is speech between t=200.4s and t=206.7s.\n",
      "There is speech between t=207.0s and t=208.8s.\n"
     ]
    }
   ],
   "source": [
    "pipeline_sad = torch.hub.load('pyannote/pyannote-audio', 'sad', pipeline=True)\n",
    "\n",
    "# apply speech activity detection pipeline on your audio file\n",
    "speech_activity_detection = pipeline({'audio': 'data/doctolib.wav'})\n",
    "\n",
    "# dump result to disk using RTTM format\n",
    "# with open('/path/to/your/audio.sad.rttm', 'w') as f:\n",
    "#     speech_activity_detection.write_rttm(f)\n",
    "\n",
    "for speech_region in speech_activity_detection.get_timeline():\n",
    "    print(f'There is speech between t={speech_region.start:.1f}s and t={speech_region.end:.1f}s.')"
   ]
  }
 ],
 "metadata": {
  "kernelspec": {
   "display_name": "Python 3",
   "language": "python",
   "name": "python3"
  },
  "language_info": {
   "codemirror_mode": {
    "name": "ipython",
    "version": 3
   },
   "file_extension": ".py",
   "mimetype": "text/x-python",
   "name": "python",
   "nbconvert_exporter": "python",
   "pygments_lexer": "ipython3",
   "version": "3.8.6"
  }
 },
 "nbformat": 4,
 "nbformat_minor": 5
}
