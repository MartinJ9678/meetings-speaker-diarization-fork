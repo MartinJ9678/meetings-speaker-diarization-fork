{
 "cells": [
  {
   "cell_type": "code",
   "execution_count": 28,
   "id": "687124fb",
   "metadata": {
    "ExecuteTime": {
     "end_time": "2021-05-27T09:50:00.098129Z",
     "start_time": "2021-05-27T09:50:00.088666Z"
    }
   },
   "outputs": [
    {
     "data": {
      "text/plain": [
       "True"
      ]
     },
     "execution_count": 28,
     "metadata": {},
     "output_type": "execute_result"
    }
   ],
   "source": [
    "import azure.cognitiveservices.speech as speechsdk\n",
    "import time\n",
    "from dotenv import load_dotenv\n",
    "import os\n",
    "\n",
    "load_dotenv()  # take environment variables from .env."
   ]
  },
  {
   "cell_type": "code",
   "execution_count": 2,
   "id": "a8a8305a",
   "metadata": {
    "ExecuteTime": {
     "end_time": "2021-05-25T11:23:08.870667Z",
     "start_time": "2021-05-25T11:23:08.863479Z"
    }
   },
   "outputs": [],
   "source": [
    "speech_config = speechsdk.SpeechConfig(subscription=os.getenv('AZURE_API_KEY'), region=\"francecentral\")\n",
    "speech_config.speech_recognition_language = 'fr-FR'\n",
    "audio_input = speechsdk.AudioConfig(filename=\"doctolib.wav\")\n",
    "speech_recognizer = speechsdk.SpeechRecognizer(speech_config=speech_config, audio_config=audio_input)"
   ]
  },
  {
   "cell_type": "code",
   "execution_count": 3,
   "id": "a2b65552",
   "metadata": {
    "ExecuteTime": {
     "end_time": "2021-05-25T11:23:08.874722Z",
     "start_time": "2021-05-25T11:23:08.872257Z"
    }
   },
   "outputs": [],
   "source": [
    "texts = []\n",
    "done = False\n",
    "\n",
    "def stop_cb(evt):\n",
    "    print('CLOSING on {}'.format(evt))\n",
    "    speech_recognizer.stop_continuous_recognition()\n",
    "    done = True"
   ]
  },
  {
   "cell_type": "code",
   "execution_count": 4,
   "id": "ba085a36",
   "metadata": {
    "ExecuteTime": {
     "end_time": "2021-05-25T11:23:08.878540Z",
     "start_time": "2021-05-25T11:23:08.875657Z"
    }
   },
   "outputs": [],
   "source": [
    "#speech_recognizer.recognizing.connect(lambda evt: print('RECOGNIZING: {}'.format(evt.result.text)))\n",
    "speech_recognizer.recognized.connect(lambda evt: print('RECOGNIZED: {}'.format(evt.result.text)))\n",
    "speech_recognizer.session_started.connect(lambda evt: print('SESSION STARTED: {}'.format(evt)))\n",
    "speech_recognizer.session_stopped.connect(lambda evt: print('SESSION STOPPED {}'.format(evt)))\n",
    "speech_recognizer.canceled.connect(lambda evt: print('CANCELED {}'.format(evt)))\n",
    "\n",
    "speech_recognizer.session_stopped.connect(stop_cb)\n",
    "speech_recognizer.canceled.connect(stop_cb)"
   ]
  },
  {
   "cell_type": "code",
   "execution_count": null,
   "id": "49fd72d9",
   "metadata": {
    "ExecuteTime": {
     "start_time": "2021-05-25T11:23:08.836Z"
    }
   },
   "outputs": [
    {
     "name": "stdout",
     "output_type": "stream",
     "text": [
      "SESSION STARTED: SessionEventArgs(session_id=3353fb09f36448b98a89a747f286dc96)\n",
      "RECOGNIZED: Première question pour toi, mon cher ami, JO, alors le ton, ton épopée ? Parce que on peut appeler ça quand même une épopée. Il y a un an, tu t'étais, on va dire, c'est. J'allais dire comme ça, mais c'est un peu ça t'étais un peu inconnu au bataillon, pas très habitué des plateaux télé du tout. Comment ? Comment c'est possible que tu sois passé de de de personnes comme comme les autres à la aujourd'hui ou tu tu es obligé de refuser les passages chez chez TF un et BFM TV concert.\n",
      "RECOGNIZED: Qu'est-ce qui commence a commencé ? Quelle est la la première ? La première étape ? Franchement, c'est dur à dire. Je le constate comme toi. Enfin, c'est un truc de dingue. Il y a un an, j'étais, étudiant j'étais en stage de fin d'étude au Luxembourg, je faisais mon stage tranquille dans ma chambre tout seul, j'étais inconnu et vraiment ça s'est fait progressivement. Naturellement, c'est en fait c'est ça le truc de dingue, c'est que j'ai jamais eu l'ambition en fait à aucun moment t'as pas eu un moment, tu t'es dit il n'a mélange quoi ? Mais non genre en fait je me suis pas dit Bah tiens Guillaume, tu vas faire un site ce site il va faire des millions de vues.\n",
      "RECOGNIZED: Tu vas passer à la télé pour en parler et tout fin, aucun moment. Je me suis dit ça quoi, j'ai. J'ai j'ai même pas fait d'études dans le développement web. Enfin je veux dire, je n'ai jamais écrit une ligne de acheter mn CS avant et donc c'était pas du tout prévu quoi. Et et après ouais à l'automne, bah j'ai été propulsée un peu sur les sur les plateaux télé, c'est un peu quotidien qui m'a qui m'a mis dans le truc. Enfin l'invitation au quotidien qui a lancé tous les autres et depuis octobre bah c'est quasiment, enfin c'est c'est quotidien c'est enfin, c'est c'est c'est c'est tous les jours j'ai des invitations tous les jours en ce moment c'est plusieurs fois.\n",
      "RECOGNIZED: Par jour, donc c'est prenant parce que maintenant j'ai un CDI et cetera. Donc Ben voilà justement, c'est ça qui va être cool. Tu vas pouvoir nous raconter un petit peu les dessous de tout ce qui s'est passé de cette année pour toi, de comment tu gères ça de comment ou est-ce que qu'est-ce que tu fais professionnellement ? C'est quoi ton c'est quoi le le métier qu'il faut déjà pour faire des des, des sites comme ça qui on peut le dire, sont honnêtement je t'inquiète je veux pas te soucier toutes les missions mais, mais qui serait d'utilité publique vu le nombre de juste de visite. Voilà c'est c'est même pas, enfin c'est c'est parlant quoi de de mes souvenirs le la premier fois que j'avais entendu parler c'était\n",
      "RECOGNIZED: j'avais entendu parler c'était t'avais fait un tweet ou tu t'avais juste publier un graphique je crois ou y'avait France Italie c'était vraiment tout début je crois le le le la la la formation fin de dudu des courbes du COVID et tout et on pouvait on pouvait les comparer. C'était vraiment tout début avant même que en maintenant un peu plus habitué à avoir à suivre les stats c'est devenu un peu notre ouais comme tu suite tu suis ta bourse quoi. Bon là c'est la même chose, tu suis les cours du COVID c'est devenu habituel mais à l'époque c'était c'était une des premières fois qu'on voyait ouais c'est ça, ouais il est vraiment moche, C'est alors ça c'était le 5/3/2020\n",
      "RECOGNIZED: moche, C'est alors ça c'était le 5/3/2020 Enfin faut se remettre dans le contexte c'était 12 jours avant le confinement. l'Italie était même pas confiné et contre l'Italie était confiné genre ça nous a tous choqués. On pensait pas qu'un pays européen pour être confirmé, on a tous découvert l'existence du mot confinement été optimiste, on se verra peut être que nous ça passera par les Italiens, c'est quand même différent, on sortait tout un tas de raisons, non, on était presque hautain, on disait non mais les Italiens ils ont un système de santé qui est nul etc. Ça arrivera jamais chez nous et souvenez-vous même 2 jours donc le on était confiné le 17 mars, même 2 jours avant le 15, les barons fermer à minuit, il y avait d'or, Philippe qui a pris la parole\n",
      "RECOGNIZED: la parole fermer les bars et même là on pensait pas être confiné un jour et c'était 40 8h avant le confinement voilà et donc ce graphique je l'ai publié le 5 mars donc à l'époque. Autant dire qu'en France on parlait très peu du COVID enfin c'était pas c'était pas du tout une inquiétude. Voilà donc j'ai fait ce graphique et ça m'a un peu choqué parce que donc là on voit le la ligne bleue, la ligne rouge et en fait si on décale la ligne bleue, bah on se rend compte que ça se superposent parfaitement avec l'Italie donc on a la meme fameuse exponentielle et ça ça m'a un peu choqué parce que ça contraste\n",
      "CANCELED SpeechRecognitionCanceledEventArgs(session_id=3353fb09f36448b98a89a747f286dc96, result=SpeechRecognitionResult(result_id=235b5eae487c455ca04b2503bb2da5ff, text=\"\", reason=ResultReason.Canceled))\n",
      "CLOSING on SpeechRecognitionCanceledEventArgs(session_id=3353fb09f36448b98a89a747f286dc96, result=SpeechRecognitionResult(result_id=235b5eae487c455ca04b2503bb2da5ff, text=\"\", reason=ResultReason.Canceled))\n",
      "SESSION STOPPED SessionEventArgs(session_id=3353fb09f36448b98a89a747f286dc96)\n",
      "CLOSING on SessionEventArgs(session_id=3353fb09f36448b98a89a747f286dc96)\n"
     ]
    }
   ],
   "source": [
    "speech_recognizer.start_continuous_recognition()\n",
    "while not done:\n",
    "    time.sleep(.5)"
   ]
  },
  {
   "cell_type": "code",
   "execution_count": null,
   "id": "4dc6048b",
   "metadata": {},
   "outputs": [],
   "source": []
  },
  {
   "cell_type": "code",
   "execution_count": null,
   "id": "990bd87f",
   "metadata": {},
   "outputs": [],
   "source": []
  }
 ],
 "metadata": {
  "kernelspec": {
   "display_name": "Python 3",
   "language": "python",
   "name": "python3"
  },
  "language_info": {
   "codemirror_mode": {
    "name": "ipython",
    "version": 3
   },
   "file_extension": ".py",
   "mimetype": "text/x-python",
   "name": "python",
   "nbconvert_exporter": "python",
   "pygments_lexer": "ipython3",
   "version": "3.8.6"
  }
 },
 "nbformat": 4,
 "nbformat_minor": 5
}
