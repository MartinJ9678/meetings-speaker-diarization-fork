{
 "cells": [
  {
   "cell_type": "code",
   "execution_count": 1,
   "id": "0ace7beb",
   "metadata": {
    "ExecuteTime": {
     "end_time": "2021-05-25T08:03:14.047990Z",
     "start_time": "2021-05-25T08:03:14.021172Z"
    }
   },
   "outputs": [],
   "source": [
    "import azure.cognitiveservices.speech as speechsdk"
   ]
  },
  {
   "cell_type": "code",
   "execution_count": 19,
   "id": "1499a14e",
   "metadata": {
    "ExecuteTime": {
     "end_time": "2021-05-25T08:42:58.545194Z",
     "start_time": "2021-05-25T08:42:43.101062Z"
    }
   },
   "outputs": [
    {
     "name": "stdout",
     "output_type": "stream",
     "text": [
      "Première question pour toi, mon cher ami, JO, alors le ton, ton épopée ? Parce que on peut appeler ça quand même une épopée. Il y a un an, tu t'étais, on va dire, c'est. J'allais dire comme ça, mais c'est un peu ça t'étais un peu inconnu au bataillon, pas très habitué des plateaux télé du tout. Comment ? Comment c'est possible que tu sois passé de de de personnes que comme comme les autres à la aujourd'hui ou tu tu es obligé de refuser les passages chez chez TF un et BFM TV concert.\n"
     ]
    }
   ],
   "source": [
    "textfile = []\n",
    "\n",
    "def from_file():\n",
    "    speech_config = speechsdk.SpeechConfig(subscription=\"16568af7eb354dfda4cd43f83d8be1e2\", region=\"francecentral\")\n",
    "    audio_input = speechsdk.AudioConfig(filename=\"doctolib.wav\")\n",
    "    speech_config.speech_recognition_language=\"fr-FR\"\n",
    "    speech_recognizer = speechsdk.SpeechRecognizer(speech_config=speech_config, audio_config=audio_input)\n",
    "    \n",
    "    result = speech_recognizer.recognize_once_async().get()\n",
    "    textfile.append(result.text)\n",
    "    print(result.text)\n",
    "\n",
    "from_file()"
   ]
  },
  {
   "cell_type": "code",
   "execution_count": 24,
   "id": "43049b9a",
   "metadata": {
    "ExecuteTime": {
     "end_time": "2021-05-25T08:50:27.555670Z",
     "start_time": "2021-05-25T08:50:27.550054Z"
    }
   },
   "outputs": [
    {
     "data": {
      "text/plain": [
       "487"
      ]
     },
     "execution_count": 24,
     "metadata": {},
     "output_type": "execute_result"
    }
   ],
   "source": [
    "len(textfile[0])"
   ]
  },
  {
   "cell_type": "code",
   "execution_count": 13,
   "id": "09fd74d5",
   "metadata": {
    "ExecuteTime": {
     "end_time": "2021-05-25T08:40:21.319312Z",
     "start_time": "2021-05-25T08:40:21.171902Z"
    }
   },
   "outputs": [
    {
     "name": "stdout",
     "output_type": "stream",
     "text": [
      "doctolib.wav\t\t      scripts\r\n",
      "doctolib.wav:Zone.Identifier  setup.py\r\n",
      "Makefile\t\t      tests\r\n",
      "MANIFEST.in\t\t      test_tensors2.pt\r\n",
      "meetings-speaker-diarization  test_tensors2.pt:Zone.Identifier\r\n",
      "notebooks\t\t      test_tensors.pt\r\n",
      "raw_data\t\t      Untitled1.ipynb\r\n",
      "README.md\t\t      Untitled.ipynb\r\n",
      "requirements.txt\r\n"
     ]
    }
   ],
   "source": [
    "!ls"
   ]
  },
  {
   "cell_type": "raw",
   "id": "3720e167",
   "metadata": {},
   "source": [
    "result.reason"
   ]
  },
  {
   "cell_type": "code",
   "execution_count": null,
   "id": "70b4658d",
   "metadata": {},
   "outputs": [],
   "source": []
  },
  {
   "cell_type": "code",
   "execution_count": null,
   "id": "7193e1ff",
   "metadata": {},
   "outputs": [],
   "source": []
  }
 ],
 "metadata": {
  "kernelspec": {
   "display_name": "Python 3",
   "language": "python",
   "name": "python3"
  },
  "language_info": {
   "codemirror_mode": {
    "name": "ipython",
    "version": 3
   },
   "file_extension": ".py",
   "mimetype": "text/x-python",
   "name": "python",
   "nbconvert_exporter": "python",
   "pygments_lexer": "ipython3",
   "version": "3.8.6"
  },
  "toc": {
   "base_numbering": 1,
   "nav_menu": {},
   "number_sections": true,
   "sideBar": true,
   "skip_h1_title": false,
   "title_cell": "Table of Contents",
   "title_sidebar": "Contents",
   "toc_cell": false,
   "toc_position": {},
   "toc_section_display": true,
   "toc_window_display": false
  }
 },
 "nbformat": 4,
 "nbformat_minor": 5
}
