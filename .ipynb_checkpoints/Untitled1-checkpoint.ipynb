{
 "cells": [
  {
   "cell_type": "code",
   "execution_count": 1,
   "id": "2048e994",
   "metadata": {
    "ExecuteTime": {
     "end_time": "2021-05-25T08:03:14.047990Z",
     "start_time": "2021-05-25T08:03:14.021172Z"
    }
   },
   "outputs": [],
   "source": [
    "import azure.cognitiveservices.speech as speechsdk"
   ]
  },
  {
   "cell_type": "code",
   "execution_count": 8,
   "id": "468ca5e2",
   "metadata": {
    "ExecuteTime": {
     "end_time": "2021-05-25T08:28:56.164710Z",
     "start_time": "2021-05-25T08:28:53.548868Z"
    }
   },
   "outputs": [
    {
     "name": "stdout",
     "output_type": "stream",
     "text": [
      "\n"
     ]
    }
   ],
   "source": [
    "def from_file():\n",
    "    speech_config = speechsdk.SpeechConfig(subscription=\"16568af7eb354dfda4cd43f83d8be1e2\", region=\"francecentral\")\n",
    "    audio_input = speechsdk.AudioConfig(filename=\"doctolib.wav\")\n",
    "    speech_config.speech_recognition_language=\"fr-FR\"\n",
    "    speech_recognizer = speechsdk.SpeechRecognizer(speech_config=speech_config, audio_config=audio_input)\n",
    "    \n",
    "    result = speech_recognizer.recognize_once_async().get()\n",
    "    print(result.text)\n",
    "\n",
    "from_file()"
   ]
  },
  {
   "cell_type": "code",
   "execution_count": 3,
   "id": "cab1b0d0",
   "metadata": {
    "ExecuteTime": {
     "end_time": "2021-05-25T08:24:01.443125Z",
     "start_time": "2021-05-25T08:24:01.337008Z"
    }
   },
   "outputs": [],
   "source": [
    "result = speech_recognizer.recognize_once_async().get()"
   ]
  },
  {
   "cell_type": "code",
   "execution_count": 9,
   "id": "cfadea61",
   "metadata": {
    "ExecuteTime": {
     "end_time": "2021-05-25T08:29:22.601181Z",
     "start_time": "2021-05-25T08:29:22.595953Z"
    }
   },
   "outputs": [
    {
     "data": {
      "text/plain": [
       "''"
      ]
     },
     "execution_count": 9,
     "metadata": {},
     "output_type": "execute_result"
    }
   ],
   "source": [
    "result.text"
   ]
  },
  {
   "cell_type": "code",
   "execution_count": 5,
   "id": "b9578b9d",
   "metadata": {
    "ExecuteTime": {
     "end_time": "2021-05-25T08:24:28.545306Z",
     "start_time": "2021-05-25T08:24:28.409897Z"
    }
   },
   "outputs": [
    {
     "name": "stdout",
     "output_type": "stream",
     "text": [
      "doctolib.wav\t\t      scripts\r\n",
      "doctolib.wav:Zone.Identifier  setup.py\r\n",
      "Makefile\t\t      tests\r\n",
      "MANIFEST.in\t\t      test_tensors2.pt\r\n",
      "meetings-speaker-diarization  test_tensors2.pt:Zone.Identifier\r\n",
      "notebooks\t\t      test_tensors.pt\r\n",
      "raw_data\t\t      Untitled1.ipynb\r\n",
      "README.md\t\t      Untitled.ipynb\r\n",
      "requirements.txt\r\n"
     ]
    }
   ],
   "source": [
    "!ls"
   ]
  },
  {
   "cell_type": "raw",
   "id": "9197b3ed",
   "metadata": {},
   "source": [
    "result.reason"
   ]
  },
  {
   "cell_type": "code",
   "execution_count": null,
   "id": "a3391f6e",
   "metadata": {},
   "outputs": [],
   "source": []
  }
 ],
 "metadata": {
  "kernelspec": {
   "display_name": "Python 3",
   "language": "python",
   "name": "python3"
  },
  "language_info": {
   "codemirror_mode": {
    "name": "ipython",
    "version": 3
   },
   "file_extension": ".py",
   "mimetype": "text/x-python",
   "name": "python",
   "nbconvert_exporter": "python",
   "pygments_lexer": "ipython3",
   "version": "3.8.6"
  },
  "toc": {
   "base_numbering": 1,
   "nav_menu": {},
   "number_sections": true,
   "sideBar": true,
   "skip_h1_title": false,
   "title_cell": "Table of Contents",
   "title_sidebar": "Contents",
   "toc_cell": false,
   "toc_position": {},
   "toc_section_display": true,
   "toc_window_display": false
  }
 },
 "nbformat": 4,
 "nbformat_minor": 5
}
